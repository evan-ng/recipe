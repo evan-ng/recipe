{
 "cells": [
  {
   "attachments": {},
   "cell_type": "markdown",
   "metadata": {},
   "source": [
    "# TasteBud: GAN Based Recipe Generation with Graph\n",
    "\n",
    "Introductory words about this project..."
   ]
  },
  {
   "attachments": {},
   "cell_type": "markdown",
   "metadata": {},
   "source": [
    "----\n",
    "## Data Processing\n",
    "\n",
    "Data processing here has two main goals each with smaller milestones: tokenizing recipe data and creating the ingredients graph.\n",
    "Tokenizing data requires parsing the Recipenlg dataset, which will be subsetted due to its large size.\n",
    "Creating the ingredients graph first requires a list of ingredients. A raw list will be obtained from the What's Cooking and RecipeNLG datasets. Then, the list will be filtered into a smaller list. The filtered list will be used for indexing ingredients, finding related/close ingredients, and creating the graph."
   ]
  },
  {
   "cell_type": "code",
   "execution_count": 371,
   "metadata": {},
   "outputs": [],
   "source": [
    "import csv\n",
    "import numpy as np\n",
    "import random\n",
    "import torch\n",
    "import torch.nn as nn\n",
    "import torch.nn.functional as F\n",
    "import torch.optim as optim\n",
    "import torch.utils.data\n",
    "import torchtext\n",
    "import pandas as pd\n",
    "import matplotlib.pyplot as plt\n",
    "import os.path\n",
    "import json\n",
    "import ast\n",
    "import glob\n",
    "import re\n",
    "import string\n",
    "import collections"
   ]
  },
  {
   "cell_type": "code",
   "execution_count": 372,
   "metadata": {},
   "outputs": [],
   "source": [
    "pre_processing = True\n",
    "glove = torchtext.vocab.GloVe(name='6B', dim=50)"
   ]
  },
  {
   "attachments": {},
   "cell_type": "markdown",
   "metadata": {},
   "source": [
    "### Loading What's Cooking Data"
   ]
  },
  {
   "cell_type": "code",
   "execution_count": 373,
   "metadata": {},
   "outputs": [
    {
     "name": "stdout",
     "output_type": "stream",
     "text": [
      "{'id': 10259, 'cuisine': 'greek', 'ingredients': ['romaine lettuce', 'black olives', 'grape tomatoes', 'garlic', 'pepper', 'purple onion', 'seasoning', 'garbanzo beans', 'feta cheese crumbles']}\n"
     ]
    }
   ],
   "source": [
    "# loading the What's Cooking dataset from the .json file\n",
    "wc_train_path = './data/whats_cooking/train.json'\n",
    "wc_train_data = json.load(open(wc_train_path, 'r'))\n",
    "print(wc_train_data[0])"
   ]
  },
  {
   "attachments": {},
   "cell_type": "markdown",
   "metadata": {},
   "source": [
    "### Loading Recipenlg Data and Subsetting\n",
    "Since Recipenlg contains 2.23 million recipes, select a subset to use:"
   ]
  },
  {
   "cell_type": "code",
   "execution_count": 374,
   "metadata": {},
   "outputs": [
    {
     "name": "stdout",
     "output_type": "stream",
     "text": [
      "./data/recipe_nlg\\dataset_0_100.csv\n",
      "./data/recipe_nlg\\dataset_0_5000.csv\n"
     ]
    }
   ],
   "source": [
    "if pre_processing == True:\n",
    "    full_nlg_path = './data/recipe_nlg/full_dataset.csv'\n",
    "    # if the full recipenlg dataset csv file exists, read a subset of it\n",
    "    if os.path.exists(full_nlg_path):\n",
    "        nlg_subset = [0, 5000] # change nlg_subset for different ranges of the dataset\n",
    "        nlg_df = pd.read_csv(full_nlg_path, skiprows=nlg_subset[0], nrows=nlg_subset[1], index_col=0)\n",
    "        nlg_df.to_csv(f'./data/recipe_nlg/dataset_{nlg_subset[0]}_{nlg_subset[1]}.csv')\n",
    "\n",
    "# load the dataset from the saved subset csv file\n",
    "for file in glob.glob('./data/recipe_nlg/dataset*.csv'):\n",
    "    print(file)\n",
    "    # use pd.eval to convert strings of lists into lists\n",
    "    nlg_df = pd.read_csv(file, index_col=0, \n",
    "                         converters={'ingredients':pd.eval, 'directions':pd.eval, 'NER':pd.eval})"
   ]
  },
  {
   "cell_type": "code",
   "execution_count": 375,
   "metadata": {},
   "outputs": [
    {
     "data": {
      "text/html": [
       "<div>\n",
       "<style scoped>\n",
       "    .dataframe tbody tr th:only-of-type {\n",
       "        vertical-align: middle;\n",
       "    }\n",
       "\n",
       "    .dataframe tbody tr th {\n",
       "        vertical-align: top;\n",
       "    }\n",
       "\n",
       "    .dataframe thead th {\n",
       "        text-align: right;\n",
       "    }\n",
       "</style>\n",
       "<table border=\"1\" class=\"dataframe\">\n",
       "  <thead>\n",
       "    <tr style=\"text-align: right;\">\n",
       "      <th></th>\n",
       "      <th>title</th>\n",
       "      <th>ingredients</th>\n",
       "      <th>directions</th>\n",
       "      <th>link</th>\n",
       "      <th>source</th>\n",
       "      <th>NER</th>\n",
       "    </tr>\n",
       "  </thead>\n",
       "  <tbody>\n",
       "    <tr>\n",
       "      <th>0</th>\n",
       "      <td>No-Bake Nut Cookies</td>\n",
       "      <td>[1 c. firmly packed brown sugar, 1/2 c. evapor...</td>\n",
       "      <td>[In a heavy 2-quart saucepan, mix brown sugar,...</td>\n",
       "      <td>www.cookbooks.com/Recipe-Details.aspx?id=44874</td>\n",
       "      <td>Gathered</td>\n",
       "      <td>[brown sugar, milk, vanilla, nuts, butter, bit...</td>\n",
       "    </tr>\n",
       "    <tr>\n",
       "      <th>1</th>\n",
       "      <td>Jewell Ball'S Chicken</td>\n",
       "      <td>[1 small jar chipped beef, cut up, 4 boned chi...</td>\n",
       "      <td>[Place chipped beef on bottom of baking dish.,...</td>\n",
       "      <td>www.cookbooks.com/Recipe-Details.aspx?id=699419</td>\n",
       "      <td>Gathered</td>\n",
       "      <td>[beef, chicken breasts, cream of mushroom soup...</td>\n",
       "    </tr>\n",
       "    <tr>\n",
       "      <th>2</th>\n",
       "      <td>Creamy Corn</td>\n",
       "      <td>[2 (16 oz.) pkg. frozen corn, 1 (8 oz.) pkg. c...</td>\n",
       "      <td>[In a slow cooker, combine all ingredients. Co...</td>\n",
       "      <td>www.cookbooks.com/Recipe-Details.aspx?id=10570</td>\n",
       "      <td>Gathered</td>\n",
       "      <td>[frozen corn, cream cheese, butter, garlic pow...</td>\n",
       "    </tr>\n",
       "  </tbody>\n",
       "</table>\n",
       "</div>"
      ],
      "text/plain": [
       "                   title                                        ingredients  \\\n",
       "0    No-Bake Nut Cookies  [1 c. firmly packed brown sugar, 1/2 c. evapor...   \n",
       "1  Jewell Ball'S Chicken  [1 small jar chipped beef, cut up, 4 boned chi...   \n",
       "2            Creamy Corn  [2 (16 oz.) pkg. frozen corn, 1 (8 oz.) pkg. c...   \n",
       "\n",
       "                                          directions  \\\n",
       "0  [In a heavy 2-quart saucepan, mix brown sugar,...   \n",
       "1  [Place chipped beef on bottom of baking dish.,...   \n",
       "2  [In a slow cooker, combine all ingredients. Co...   \n",
       "\n",
       "                                              link    source  \\\n",
       "0   www.cookbooks.com/Recipe-Details.aspx?id=44874  Gathered   \n",
       "1  www.cookbooks.com/Recipe-Details.aspx?id=699419  Gathered   \n",
       "2   www.cookbooks.com/Recipe-Details.aspx?id=10570  Gathered   \n",
       "\n",
       "                                                 NER  \n",
       "0  [brown sugar, milk, vanilla, nuts, butter, bit...  \n",
       "1  [beef, chicken breasts, cream of mushroom soup...  \n",
       "2  [frozen corn, cream cheese, butter, garlic pow...  "
      ]
     },
     "execution_count": 375,
     "metadata": {},
     "output_type": "execute_result"
    }
   ],
   "source": [
    "nlg_df[:3]"
   ]
  },
  {
   "attachments": {},
   "cell_type": "markdown",
   "metadata": {},
   "source": [
    "### Create List of Ingredients"
   ]
  },
  {
   "cell_type": "code",
   "execution_count": 376,
   "metadata": {},
   "outputs": [
    {
     "name": "stdout",
     "output_type": "stream",
     "text": [
      "['mustard sauce', 'back bacon rashers', 'gluten-free flour', 'whole wheat rotini pasta', 'red raspberry jello', 'hazelnut flour', 'celery', 'anchovy fillets', 'San Marzano tomatoes', 'wish bone guacamol ranch dress', 'low-fat balsamic vinaigrette', \"Quorn Chik''n Tenders\", 'sloe gin', 'saffron powder', 'passata', 'red curry paste', 'low sodium store bought chicken stock', 'fresno pepper', 'leaf parsley', \"Campbell's cream\", 'brown basmati rice', 'gumbo file powder', 'amaretti', 'reduced fat coconut milk', 'condensed reduced fat reduced sodium cream of chicken soup', 'frozen mustard greens', 'pineapple pie filling', 'king oyster mushroom', 'linguine pasta', 'Tabasco sauce', 'flour tortillas (not low fat)', 'asian noodles', 'low-fat parmesan cheese', 'sausage casings', 'new york strip steaks', 'beef rib roast', 'apple juice', 'cherry jello', 'White Pepper', 'caramel icing', 'Tia Maria', 'meat sauce', 'baby okra', 'green garlic', 'onion buns', 'white tuna', 'dry vermouth', 'small potatoes', 'cream cheese', 'frozen lemonade concentrate, thawed and undiluted']\n"
     ]
    }
   ],
   "source": [
    "if pre_processing == True:\n",
    "    # creating a list of unique ingredients from the datasets\n",
    "    ingredients_set = set()\n",
    "\n",
    "    # loop through What's cooking data to get ingredients\n",
    "    for i in range(len(wc_train_data)):\n",
    "        ingredients_set = ingredients_set | set(wc_train_data[i]['ingredients'])\n",
    "    \n",
    "    # loop through Recipenlg data to get ingredients\n",
    "    for i in range(len(nlg_df[\"NER\"])):\n",
    "        ingredients_set = ingredients_set | set(nlg_df[\"NER\"][i])\n",
    "        \n",
    "    print(list(ingredients_set)[0:50])"
   ]
  },
  {
   "cell_type": "code",
   "execution_count": 377,
   "metadata": {},
   "outputs": [],
   "source": [
    "if pre_processing == True:\n",
    "    # export the list of unique ingredients for manual filtering (use transpose for easier filtering)\n",
    "    cw = csv.writer(open(\"data/intermediary/raw_ingredients_list.csv\",'w'))\n",
    "    cw.writerow(list(ingredients_set))\n",
    "    pd.read_csv('data/intermediary/raw_ingredients_list.csv', \n",
    "                header=None).T.to_csv('data/intermediary/raw_ingredients_list_transpose.csv', \n",
    "                                      header=False, index=False)"
   ]
  },
  {
   "attachments": {},
   "cell_type": "markdown",
   "metadata": {},
   "source": [
    "From a list of 8500 ingredients, we manually removed duplicated items that had spelling errors, semantic similarities, and extra numeric or qualitative descriptors (e.g. chopped, 2% fat, shredded, unsweetened), giving 955 ingredients. Then, each is paired its gloVe embedding."
   ]
  },
  {
   "cell_type": "code",
   "execution_count": 378,
   "metadata": {},
   "outputs": [],
   "source": [
    "# param: token_list - a list of tokens, no spaces or symbols\n",
    "# return: a tensor of the averaged GloVe embeddings of each token\n",
    "def glove_average(token_list):\n",
    "    embeds_list = []\n",
    "    for token in token_list:\n",
    "        embeds_list.append(glove[token])\n",
    "    embeds_average = torch.mean(torch.stack(embeds_list), dim=0)\n",
    "    return embeds_average"
   ]
  },
  {
   "cell_type": "code",
   "execution_count": 380,
   "metadata": {},
   "outputs": [],
   "source": [
    "if pre_processing == True:\n",
    "    # read the manually filtered ingredient list\n",
    "    filtered_ingredients_df = pd.read_csv('data/intermediary/filtered_ingredients_list_transpose.csv', header=None, names=[\"ingredient\"])\n",
    "    ingredient_embeddings = []\n",
    "\n",
    "    # find GloVe embeddings for each ingredient and save it\n",
    "    for i, row in filtered_ingredients_df.iterrows():\n",
    "        token_list = re.sub(r\"[^a-zA-Z ]+\", '', filtered_ingredients_df['ingredient'][i].lower()).split(' ')\n",
    "        embed_list = []\n",
    "        ingredient_embeddings.append(glove_average(token_list).tolist())\n",
    "        \n",
    "    filtered_ingredients_df['embedding'] = ingredient_embeddings\n",
    "    filtered_ingredients_df['ingredient'] = filtered_ingredients_df['ingredient'].apply(lambda x: x.rstrip())\n",
    "    filtered_ingredients_df.to_csv('data/glove_ingredients_list.csv', header=False, index=False)"
   ]
  },
  {
   "cell_type": "code",
   "execution_count": 381,
   "metadata": {},
   "outputs": [
    {
     "name": "stdout",
     "output_type": "stream",
     "text": [
      "  ingredient                                          embedding\n",
      "0      aioli  [0.053968001157045364, 0.027247000485658646, -...\n",
      "1        ale  [-0.4636099934577942, 0.6578099727630615, -1.3...\n",
      "2     almond  [-0.023429999127984047, 0.47051000595092773, -...\n"
     ]
    }
   ],
   "source": [
    "if pre_processing == True:\n",
    "    ingredients_df = pd.read_csv('data/glove_ingredients_list.csv', header=None, names=[\"ingredient\", \"embedding\"],\n",
    "                            converters={'embedding':pd.eval})\n",
    "    \n",
    "    print(ingredients_df[:3])"
   ]
  },
  {
   "attachments": {},
   "cell_type": "markdown",
   "metadata": {},
   "source": [
    "Since GloVe give embeddings for out-of-vocabulary words, the words with null tensors `[0,0,0,...,0]` were removed from the ingredients list, giving a total of 840 ingredients. Using these embeddings will allow for ingredients not in the list to be mapped to the closest ingredient, then put in the ingredient graph."
   ]
  },
  {
   "cell_type": "code",
   "execution_count": 382,
   "metadata": {},
   "outputs": [
    {
     "name": "stdout",
     "output_type": "stream",
     "text": [
      "{'aioli': 0, 'ale': 1, 'almond': 2, 'anise': 3, 'apple': 4, 'applesauce': 5, 'apricot': 6, 'artichoke': 7, 'arugula': 8, 'asafoetida': 9, 'asparagus': 10, 'avocado': 11, 'bacon': 12, 'baguette': 13, 'baking mix': 14, 'baking soda': 15, 'banana': 16, 'banana blossom': 17, 'banana leaf': 18, 'basil': 19, 'bay leaf': 20, 'bean': 21, 'bean curd': 22, 'bean sprout': 23, 'beef': 24, 'beer': 25, 'beet': 26, 'berry': 27, 'biscuit': 28, 'bitter melon': 29, 'black pepper': 30, 'blackberries': 31, 'blueberries': 32, 'bok choy': 33, 'bologna': 34, 'bone': 35, 'bouillon': 36, 'brandy': 37, 'bread': 38, 'breast': 39, 'broccoli': 40, 'broth': 41, 'brown sugar': 42, 'brownie': 43, 'burger': 44, 'butter': 45, 'buttermilk': 46, 'butterscotch': 47, 'cabbage': 48, 'cake': 49, 'calabash': 50, 'candy': 51, 'cane sugar': 52, 'canola': 53, 'cantaloupe': 54, 'capsicum': 55, 'caramel': 56, 'carbonated water': 57, 'cardamom': 58, 'cardoon': 59, 'carrot': 60, 'caster sugar': 61, 'cauliflower': 62, 'cayenne': 63, 'celery': 64, 'cereal': 65, 'champagne': 66, 'chayote': 67, 'cheddar': 68, 'cheese': 69, 'cherries': 70, 'chicken': 71, 'chili': 72, 'chocolate': 73, 'chorizo': 74, 'choy sum': 75, 'chutney': 76, 'cider': 77, 'cilantro': 78, 'cinnamon': 79, 'clam': 80, 'clove': 81, 'cocoa': 82, 'coconut': 83, 'coffee': 84, 'cognac': 85, 'coleslaw': 86, 'coloring': 87, 'concentrate': 88, 'cookie': 89, 'coriander': 90, 'corn': 91, 'cornflour': 92, 'cornmeal': 93, 'cornstarch': 94, 'couscous': 95, 'crab': 96, 'cracker': 97, 'cranberries': 98, 'cream': 99, 'crescent roll': 100, 'crust': 101, 'cucumber': 102, 'cumin': 103, 'currant': 104, 'curry': 105, 'custard': 106, 'daikon': 107, 'dashi': 108, 'date': 109, 'dhal': 110, 'dill': 111, 'do chua': 112, 'dough': 113, 'dressing': 114, 'duck': 115, 'egg': 116, 'eggnog': 117, 'eggplant': 118, 'escarole': 119, 'essence': 120, 'extract': 121, 'farro': 122, 'fat': 123, 'fennel': 124, 'fenugreek': 125, 'fillet': 126, 'filling': 127, 'fish': 128, 'fish sauce': 129, 'flavoring': 130, 'flour': 131, 'focaccia': 132, 'frankfurters': 133, 'fruit': 134, 'fusilli': 135, 'galangal': 136, 'garlic': 137, 'gelatin': 138, 'ghee': 139, 'ginger': 140, 'glaze': 141, 'gnocchi': 142, 'goat': 143, 'gobo root': 144, 'goji berries': 145, 'gold leaf': 146, 'gorgonzola': 147, 'graham cracker': 148, 'grape': 149, 'grapefruit': 150, 'greek yogurt': 151, 'guacamole': 152, 'halibut': 153, 'ham': 154, 'hamburger': 155, 'harissa': 156, 'hash brown': 157, 'hominy': 158, 'honey': 159, 'horseradish': 160, 'hot dog': 161, 'hot sauce': 162, 'ice': 163, 'ice cream': 164, 'icing': 165, 'jaggery': 166, 'jalapeno': 167, 'jam': 168, 'jello': 169, 'jicama': 170, 'juice': 171, 'kahlua': 172, 'kalamata': 173, 'kale': 174, 'ketchup': 175, 'kielbasa': 176, 'kimchi': 177, 'kiwi': 178, 'kumquats': 179, 'ladyfingers': 180, 'laksa paste': 181, 'lamb': 182, 'lard': 183, 'lasagna': 184, 'lavender': 185, 'lemon': 186, 'lemongrass': 187, 'lentils': 188, 'lettuce': 189, 'licorice root': 190, 'lima bean': 191, 'lime': 192, 'limoncello': 193, 'linguine': 194, 'liqueur': 195, 'loaf': 196, 'lobster': 197, 'luncheon meat': 198, 'maca powder': 199, 'macaroni': 200, 'mace': 201, 'mandarin': 202, 'mango': 203, 'maple syrup': 204, 'margarine': 205, 'marinade': 206, 'marjoram': 207, 'marmite': 208, 'marshmallow': 209, 'marzipan': 210, 'masala': 211, 'mascarpone': 212, 'mayonnaise': 213, 'milk': 214, 'mint': 215, 'mirin': 216, 'miso': 217, 'molasses': 218, 'mozzarella': 219, 'mushroom': 220, 'mustard': 221, 'naan': 222, 'nectar': 223, 'nori': 224, 'nutmeg': 225, 'oat': 226, 'oatmeal': 227, 'oil': 228, 'okra': 229, 'oleo': 230, 'olive': 231, 'onion': 232, 'orange': 233, 'orecchiette': 234, 'oregano': 235, 'oyster': 236, 'oyster sauce': 237, 'pancetta': 238, 'paneer': 239, 'panko': 240, 'papaya': 241, 'paprika': 242, 'paraffin': 243, 'parmesan': 244, 'parsley': 245, 'passion fruit': 246, 'pasta': 247, 'pastry': 248, 'peach': 249, 'peanut': 250, 'peanut butter': 251, 'pear': 252, 'pecan': 253, 'pepper': 254, 'pepperoni': 255, 'pesto': 256, 'phyllo': 257, 'pickle': 258, 'pie crust': 259, 'piloncillo': 260, 'pimiento': 261, 'pineapple': 262, 'polenta': 263, 'popcorn': 264, 'poppy seed': 265, 'pork': 266, 'porridge': 267, 'potato': 268, 'prosciutto': 269, 'pudding': 270, 'pumpkin': 271, 'pumpkin seed': 272, 'quinoa': 273, 'racks': 274, 'radicchio': 275, 'raspberry': 276, 'relish': 277, 'remoulade': 278, 'rhubarb': 279, 'rib': 280, 'rice': 281, 'rice noodle': 282, 'rice paper': 283, 'ricotta': 284, 'rind': 285, 'rock sugar': 286, 'rosemary': 287, 'round': 288, 'roux': 289, 'rum': 290, 'rutabaga': 291, 'rye': 292, 'saffron': 293, 'sage': 294, 'sake': 295, 'salad': 296, 'salami': 297, 'salmon': 298, 'salsa': 299, 'salt': 300, 'sauce': 301, 'sauerkraut': 302, 'sausage': 303, 'scallion': 304, 'seasoning': 305, 'seaweed': 306, 'seltzer': 307, 'serrano': 308, 'sesame': 309, 'shallot': 310, 'shell': 311, 'shellfish': 312, 'sherbet': 313, 'sherry': 314, 'shiitake': 315, 'shortbread': 316, 'shortening': 317, 'shoyu': 318, 'shrimp': 319, 'shrimp paste': 320, 'sichuan pepper': 321, 'sirloin': 322, 'slaw': 323, 'smoke': 324, 'soda': 325, 'soup': 326, 'sour cream': 327, 'soy flour': 328, 'soy milk': 329, 'soy nut': 330, 'soy sauce': 331, 'spaghetti': 332, 'sparkling water': 333, 'spice': 334, 'spinach': 335, 'sprinkles': 336, 'squash': 337, 'squid': 338, 'star anise': 339, 'steak': 340, 'stew': 341, 'stock': 342, 'strawberry': 343, 'stuffing': 344, 'sugar': 345, 'sunflower seed': 346, 'sweetbread': 347, 'sweetener': 348, 'syrup': 349, 'tahini': 350, 'tallow': 351, 'tangerine': 352, 'tapioca': 353, 'tea': 354, 'tequila': 355, 'thyme': 356, 'toast': 357, 'tofu': 358, 'tomato': 359, 'tortilla': 360, 'tuna': 361, 'turbinado': 362, 'turkey': 363, 'turmeric': 364, 'udon': 365, 'vanilla': 366, 'veal': 367, 'vegetables': 368, 'verjuice': 369, 'vermicelli': 370, 'vinegar': 371, 'vodka': 372, 'water': 373, 'watercress': 374, 'white pepper': 375, 'wine': 376, 'worcestershire': 377, 'yeast': 378, 'yogurt': 379, 'zucchini': 380}\n"
     ]
    }
   ],
   "source": [
    "# dictionary pairing ingredient with index value\n",
    "ingredient_vocab = list(ingredients_df['ingredient'])\n",
    "ingredient_vocab_stoi = {s: i for i, s in enumerate(ingredient_vocab)}\n",
    "ingredient_vocab_itos = {i: s for i, s in enumerate(ingredient_vocab)}\n",
    "ingredient_vocab_size = len(ingredient_vocab)\n",
    "\n",
    "print(ingredient_vocab_stoi)"
   ]
  },
  {
   "attachments": {},
   "cell_type": "markdown",
   "metadata": {},
   "source": [
    "### Recipe Data Cleaning"
   ]
  },
  {
   "cell_type": "code",
   "execution_count": 383,
   "metadata": {},
   "outputs": [],
   "source": [
    "# filter for only \"Gathered\" sources, since those have more consistent format\n",
    "gathered_nlg_df = nlg_df[nlg_df.source == 'Gathered']\n",
    "# remove unnecessary columns\n",
    "filtered_nlg_df = gathered_nlg_df[['title', 'ingredients', 'directions', 'NER']]"
   ]
  },
  {
   "cell_type": "code",
   "execution_count": 384,
   "metadata": {},
   "outputs": [],
   "source": [
    "for i, row in filtered_nlg_df.iterrows():\n",
    "    cleaned_directions = []\n",
    "    for step in row.directions:\n",
    "        step = re.sub(r\"[^a-z0-9]+\", ' ', step.lower()) # remove uppercase and symbols\n",
    "        cleaned_directions.append(step)\n",
    "    row.directions = cleaned_directions"
   ]
  },
  {
   "cell_type": "code",
   "execution_count": 385,
   "metadata": {},
   "outputs": [
    {
     "data": {
      "text/html": [
       "<div>\n",
       "<style scoped>\n",
       "    .dataframe tbody tr th:only-of-type {\n",
       "        vertical-align: middle;\n",
       "    }\n",
       "\n",
       "    .dataframe tbody tr th {\n",
       "        vertical-align: top;\n",
       "    }\n",
       "\n",
       "    .dataframe thead th {\n",
       "        text-align: right;\n",
       "    }\n",
       "</style>\n",
       "<table border=\"1\" class=\"dataframe\">\n",
       "  <thead>\n",
       "    <tr style=\"text-align: right;\">\n",
       "      <th></th>\n",
       "      <th>title</th>\n",
       "      <th>ingredients</th>\n",
       "      <th>directions</th>\n",
       "      <th>NER</th>\n",
       "    </tr>\n",
       "  </thead>\n",
       "  <tbody>\n",
       "    <tr>\n",
       "      <th>0</th>\n",
       "      <td>No-Bake Nut Cookies</td>\n",
       "      <td>[1 c. firmly packed brown sugar, 1/2 c. evapor...</td>\n",
       "      <td>[in a heavy 2 quart saucepan mix brown sugar n...</td>\n",
       "      <td>[brown sugar, milk, vanilla, nuts, butter, bit...</td>\n",
       "    </tr>\n",
       "    <tr>\n",
       "      <th>1</th>\n",
       "      <td>Jewell Ball'S Chicken</td>\n",
       "      <td>[1 small jar chipped beef, cut up, 4 boned chi...</td>\n",
       "      <td>[place chipped beef on bottom of baking dish ,...</td>\n",
       "      <td>[beef, chicken breasts, cream of mushroom soup...</td>\n",
       "    </tr>\n",
       "    <tr>\n",
       "      <th>2</th>\n",
       "      <td>Creamy Corn</td>\n",
       "      <td>[2 (16 oz.) pkg. frozen corn, 1 (8 oz.) pkg. c...</td>\n",
       "      <td>[in a slow cooker combine all ingredients cove...</td>\n",
       "      <td>[frozen corn, cream cheese, butter, garlic pow...</td>\n",
       "    </tr>\n",
       "    <tr>\n",
       "      <th>3</th>\n",
       "      <td>Chicken Funny</td>\n",
       "      <td>[1 large whole chicken, 2 (10 1/2 oz.) cans ch...</td>\n",
       "      <td>[boil and debone chicken , put bite size piece...</td>\n",
       "      <td>[chicken, chicken gravy, cream of mushroom sou...</td>\n",
       "    </tr>\n",
       "  </tbody>\n",
       "</table>\n",
       "</div>"
      ],
      "text/plain": [
       "                   title                                        ingredients  \\\n",
       "0    No-Bake Nut Cookies  [1 c. firmly packed brown sugar, 1/2 c. evapor...   \n",
       "1  Jewell Ball'S Chicken  [1 small jar chipped beef, cut up, 4 boned chi...   \n",
       "2            Creamy Corn  [2 (16 oz.) pkg. frozen corn, 1 (8 oz.) pkg. c...   \n",
       "3          Chicken Funny  [1 large whole chicken, 2 (10 1/2 oz.) cans ch...   \n",
       "\n",
       "                                          directions  \\\n",
       "0  [in a heavy 2 quart saucepan mix brown sugar n...   \n",
       "1  [place chipped beef on bottom of baking dish ,...   \n",
       "2  [in a slow cooker combine all ingredients cove...   \n",
       "3  [boil and debone chicken , put bite size piece...   \n",
       "\n",
       "                                                 NER  \n",
       "0  [brown sugar, milk, vanilla, nuts, butter, bit...  \n",
       "1  [beef, chicken breasts, cream of mushroom soup...  \n",
       "2  [frozen corn, cream cheese, butter, garlic pow...  \n",
       "3  [chicken, chicken gravy, cream of mushroom sou...  "
      ]
     },
     "execution_count": 385,
     "metadata": {},
     "output_type": "execute_result"
    }
   ],
   "source": [
    "filtered_nlg_df[:4]"
   ]
  },
  {
   "cell_type": "code",
   "execution_count": 440,
   "metadata": {},
   "outputs": [],
   "source": [
    "# removing uppercase and symbols from directions and fuse using ':'\n",
    "combined_directions, combined_ingredients = [], []\n",
    "\n",
    "for i, row in filtered_nlg_df.iterrows():\n",
    "    cleaned_directions = ''\n",
    "    for step in row.directions:\n",
    "        step = re.sub(r\"[^a-z0-9]+\", ' ', step.lower()) # remove uppercase and symbols\n",
    "        cleaned_directions += step + ' ; '\n",
    "    combined_directions.append(cleaned_directions)\n",
    "    \n",
    "    cleaned_NER = ''\n",
    "    for ingredient in row.NER:\n",
    "        ingredient = re.sub(r\"[^a-z0-9]+\", ' ', ingredient.lower()) # remove uppercase and symbols\n",
    "        cleaned_NER += ingredient + ' ; '\n",
    "    combined_ingredients.append(cleaned_NER)\n",
    "    \n",
    "combined_nlg_df = pd.DataFrame()\n",
    "combined_nlg_df['directions'] = combined_directions\n",
    "combined_nlg_df['ingredients'] = combined_ingredients"
   ]
  },
  {
   "cell_type": "code",
   "execution_count": 441,
   "metadata": {},
   "outputs": [
    {
     "data": {
      "text/html": [
       "<div>\n",
       "<style scoped>\n",
       "    .dataframe tbody tr th:only-of-type {\n",
       "        vertical-align: middle;\n",
       "    }\n",
       "\n",
       "    .dataframe tbody tr th {\n",
       "        vertical-align: top;\n",
       "    }\n",
       "\n",
       "    .dataframe thead th {\n",
       "        text-align: right;\n",
       "    }\n",
       "</style>\n",
       "<table border=\"1\" class=\"dataframe\">\n",
       "  <thead>\n",
       "    <tr style=\"text-align: right;\">\n",
       "      <th></th>\n",
       "      <th>directions</th>\n",
       "      <th>ingredients</th>\n",
       "    </tr>\n",
       "  </thead>\n",
       "  <tbody>\n",
       "    <tr>\n",
       "      <th>0</th>\n",
       "      <td>in a heavy 2 quart saucepan mix brown sugar nu...</td>\n",
       "      <td>brown sugar ; milk ; vanilla ; nuts ; butter ;...</td>\n",
       "    </tr>\n",
       "    <tr>\n",
       "      <th>1</th>\n",
       "      <td>place chipped beef on bottom of baking dish  ;...</td>\n",
       "      <td>beef ; chicken breasts ; cream of mushroom sou...</td>\n",
       "    </tr>\n",
       "    <tr>\n",
       "      <th>2</th>\n",
       "      <td>in a slow cooker combine all ingredients cover...</td>\n",
       "      <td>frozen corn ; cream cheese ; butter ; garlic p...</td>\n",
       "    </tr>\n",
       "    <tr>\n",
       "      <th>3</th>\n",
       "      <td>boil and debone chicken  ; put bite size piece...</td>\n",
       "      <td>chicken ; chicken gravy ; cream of mushroom so...</td>\n",
       "    </tr>\n",
       "  </tbody>\n",
       "</table>\n",
       "</div>"
      ],
      "text/plain": [
       "                                          directions  \\\n",
       "0  in a heavy 2 quart saucepan mix brown sugar nu...   \n",
       "1  place chipped beef on bottom of baking dish  ;...   \n",
       "2  in a slow cooker combine all ingredients cover...   \n",
       "3  boil and debone chicken  ; put bite size piece...   \n",
       "\n",
       "                                         ingredients  \n",
       "0  brown sugar ; milk ; vanilla ; nuts ; butter ;...  \n",
       "1  beef ; chicken breasts ; cream of mushroom sou...  \n",
       "2  frozen corn ; cream cheese ; butter ; garlic p...  \n",
       "3  chicken ; chicken gravy ; cream of mushroom so...  "
      ]
     },
     "execution_count": 441,
     "metadata": {},
     "output_type": "execute_result"
    }
   ],
   "source": [
    "combined_nlg_df[:4]"
   ]
  },
  {
   "attachments": {},
   "cell_type": "markdown",
   "metadata": {},
   "source": [
    "### Recipe Data Tokenizing"
   ]
  },
  {
   "cell_type": "code",
   "execution_count": 426,
   "metadata": {},
   "outputs": [
    {
     "name": "stdout",
     "output_type": "stream",
     "text": [
      "[['in', 'a', 'heavy', '2', 'quart', 'saucepan', 'mix', 'brown', 'sugar', 'nuts', 'evaporated', 'milk', 'and', 'butter', 'or', 'margarine'], ['stir', 'over', 'medium', 'heat', 'until', 'mixture', 'bubbles', 'all', 'over', 'top'], ['boil', 'and', 'stir', '5', 'minutes', 'more', 'take', 'off', 'heat'], ['stir', 'in', 'vanilla', 'and', 'cereal', 'mix', 'well'], ['using', '2', 'teaspoons', 'drop', 'and', 'shape', 'into', '30', 'clusters', 'on', 'wax', 'paper'], ['let', 'stand', 'until', 'firm', 'about', '30', 'minutes']]\n",
      "[['brown', 'sugar'], ['milk'], ['vanilla'], ['nuts'], ['butter'], ['bite', 'size', 'shredded', 'rice', 'biscuits']]\n"
     ]
    }
   ],
   "source": [
    "\"\"\"\"\"\"\n",
    "tokenized_directions = []\n",
    "tokenized_ingredients = []\n",
    "\n",
    "for i, row in filtered_nlg_df.iterrows():\n",
    "    # tokenize directions\n",
    "#    tokenized_directions.append(row.directions.split(' '))\n",
    "    \n",
    "    # tokenize ingredients\n",
    "#    tokens_list = []\n",
    "#    tokenized_ingredients.append(row.ingredients.split(' '))\n",
    "    \n",
    "    # tokenize directions\n",
    "    tokens_list = []\n",
    "    for direction_item in row.directions:\n",
    "        tokens_list.append(direction_item.split(' '))\n",
    "    tokenized_directions.append(tokens_list)\n",
    "    \n",
    "    # tokenize ingredients\n",
    "    tokens_list = []\n",
    "    for ingredient in row.NER:\n",
    "        tokens_list.append( re.sub(r\"[^a-zA-Z ]+\", '', ingredient.lower()).split(' ') )\n",
    "    tokenized_ingredients.append(tokens_list)\n",
    "    \n",
    "# remove empty words\n",
    "for i, direction_list in enumerate(tokenized_directions):\n",
    "    temp = []\n",
    "    for direction in direction_list:\n",
    "        direction = [x for x in direction if x != '']\n",
    "        temp.append(direction)\n",
    "    tokenized_directions[i] = temp\n",
    "\n",
    "for i, ingredient_list in enumerate(tokenized_ingredients):\n",
    "    temp = []\n",
    "    for ingredient in ingredient_list:\n",
    "        ingredient = [x for x in ingredient if x != '']\n",
    "        temp.append(ingredient)\n",
    "    tokenized_ingredients[i] = temp\n",
    "\n",
    "\"\"\"\n",
    "tokenized_titles = []\n",
    "tokenized_ingredients = []\n",
    "tokenized_directions = []\n",
    "tokenized_NER = []\n",
    "\n",
    "for i, row in filtered_nlg_df.iterrows():\n",
    "    # tokenize titles\n",
    "    tokens_list = filtered_nlg_df.title.values[i].split(' ')\n",
    "    tokenized_titles.append(tokens_list)\n",
    "    \n",
    "    # tokenize ingredients\n",
    "    tokens_list = []\n",
    "    for ingredient_item in row.ingredients:\n",
    "        tokens_list.append(ingredient_item.split(' '))\n",
    "    tokenized_ingredients.append(tokens_list)\n",
    "    \n",
    "    # tokenize directions\n",
    "    tokens_list = []\n",
    "    for direction_item in row.directions:\n",
    "        tokens_list.append(direction_item.split(' '))\n",
    "    tokenized_directions.append(tokens_list)\n",
    "    \n",
    "    # tokenize ingredients\n",
    "    tokens_list = []\n",
    "    for NER_item in row.NER:\n",
    "        tokens_list.append( re.sub(r\"[^a-zA-Z ]+\", '', NER_item.lower()).split(' ') )\n",
    "    tokenized_NER.append(tokens_list)\n",
    "\n",
    "print(tokenized_titles[0])\n",
    "print(tokenized_ingredients[0])\n",
    "print(tokenized_directions[0])\n",
    "print(tokenized_NER[0])\n",
    "\"\"\"\n",
    "print(tokenized_directions[0])\n",
    "print(tokenized_ingredients[0])"
   ]
  },
  {
   "cell_type": "code",
   "execution_count": 427,
   "metadata": {},
   "outputs": [],
   "source": [
    "\"\"\"\n",
    "tokenized_nlg_df = filtered_nlg_df.copy()\n",
    "tokenized_nlg_df['token_title'] = tokenized_titles\n",
    "tokenized_nlg_df['token_ingredients'] = tokenized_ingredients\n",
    "tokenized_nlg_df['token_directions'] = tokenized_directions\n",
    "tokenized_nlg_df['token_NER'] = tokenized_NER\n",
    "\"\"\"\n",
    "tokenized_nlg_df = pd.DataFrame()\n",
    "tokenized_nlg_df['directions'] = tokenized_directions\n",
    "tokenized_nlg_df['ingredients'] = tokenized_ingredients"
   ]
  },
  {
   "cell_type": "code",
   "execution_count": 428,
   "metadata": {},
   "outputs": [
    {
     "data": {
      "text/html": [
       "<div>\n",
       "<style scoped>\n",
       "    .dataframe tbody tr th:only-of-type {\n",
       "        vertical-align: middle;\n",
       "    }\n",
       "\n",
       "    .dataframe tbody tr th {\n",
       "        vertical-align: top;\n",
       "    }\n",
       "\n",
       "    .dataframe thead th {\n",
       "        text-align: right;\n",
       "    }\n",
       "</style>\n",
       "<table border=\"1\" class=\"dataframe\">\n",
       "  <thead>\n",
       "    <tr style=\"text-align: right;\">\n",
       "      <th></th>\n",
       "      <th>directions</th>\n",
       "      <th>ingredients</th>\n",
       "    </tr>\n",
       "  </thead>\n",
       "  <tbody>\n",
       "    <tr>\n",
       "      <th>0</th>\n",
       "      <td>[[in, a, heavy, 2, quart, saucepan, mix, brown...</td>\n",
       "      <td>[[brown, sugar], [milk], [vanilla], [nuts], [b...</td>\n",
       "    </tr>\n",
       "    <tr>\n",
       "      <th>1</th>\n",
       "      <td>[[place, chipped, beef, on, bottom, of, baking...</td>\n",
       "      <td>[[beef], [chicken, breasts], [cream, of, mushr...</td>\n",
       "    </tr>\n",
       "    <tr>\n",
       "      <th>2</th>\n",
       "      <td>[[in, a, slow, cooker, combine, all, ingredien...</td>\n",
       "      <td>[[frozen, corn], [cream, cheese], [butter], [g...</td>\n",
       "    </tr>\n",
       "  </tbody>\n",
       "</table>\n",
       "</div>"
      ],
      "text/plain": [
       "                                          directions  \\\n",
       "0  [[in, a, heavy, 2, quart, saucepan, mix, brown...   \n",
       "1  [[place, chipped, beef, on, bottom, of, baking...   \n",
       "2  [[in, a, slow, cooker, combine, all, ingredien...   \n",
       "\n",
       "                                         ingredients  \n",
       "0  [[brown, sugar], [milk], [vanilla], [nuts], [b...  \n",
       "1  [[beef], [chicken, breasts], [cream, of, mushr...  \n",
       "2  [[frozen, corn], [cream, cheese], [butter], [g...  "
      ]
     },
     "execution_count": 428,
     "metadata": {},
     "output_type": "execute_result"
    }
   ],
   "source": [
    "tokenized_nlg_df[:3]"
   ]
  },
  {
   "attachments": {},
   "cell_type": "markdown",
   "metadata": {},
   "source": [
    "### Direction Step Combining\n",
    "To ease the complexity of the GAN and RNN, the list of directions for each recipe will be fused into a sinlge list of words, with each step separated by `'\\n'` (note all prior symbols were removed). The end of the directions will be marked by `'<EOS>'` for \"End of String.\""
   ]
  },
  {
   "cell_type": "code",
   "execution_count": 450,
   "metadata": {},
   "outputs": [
    {
     "name": "stdout",
     "output_type": "stream",
     "text": [
      "['roll', 'steak', 'strips', 'in', 'flour', ';', 'brown', 'in', 'skillet', ';', 'salt', 'and', 'pepper', ';', 'combine', 'tomato', 'liquid', 'water', 'onions', 'and', 'browned', 'steak', 'cover', 'and', 'simmer', 'for', 'one', 'and', 'a', 'quarter', 'hours', ';', 'uncover', 'and', 'stir', 'in', 'worcestershire', 'sauce', ';', 'add', 'tomatoes', 'green', 'peppers', 'and', 'simmer', 'for', '5', 'minutes', ';', 'serve', 'over', 'hot', 'cooked', 'rice', ';']\n"
     ]
    }
   ],
   "source": [
    "list_combined_directions = []\n",
    "for i, row in tokenized_nlg_df.iterrows():\n",
    "    direction = []\n",
    "    for step in row.directions:\n",
    "        for word in step:\n",
    "            if word == '': # skip empty words\n",
    "                continue\n",
    "            direction.append(word)\n",
    "        direction.append(';')\n",
    "    list_combined_directions.append(direction)\n",
    "     \n",
    "tokenized_nlg_df['combined_directions'] = list_combined_directions\n",
    "print(list_combined_directions[8])"
   ]
  },
  {
   "attachments": {},
   "cell_type": "markdown",
   "metadata": {},
   "source": [
    "### Direction Word Vocabulary"
   ]
  },
  {
   "cell_type": "code",
   "execution_count": 452,
   "metadata": {},
   "outputs": [
    {
     "name": "stdout",
     "output_type": "stream",
     "text": [
      "Unique words before ignoring: 3842\n",
      "Unique words after ignoring: 2636\n",
      "['raisin', 'fitted', 'yams', 'snack', 'wish', 'chutney', 'service', 'hunger', 'pizzelle', 'tubs', 'celery', 'prayer', 'dot', 'headspace', 'chill', 'sprayed', 'faith', 'uv', 'stockpot', 'puddings', 'valley', '16', 'overnight', 'hock', 'rim', 'vegies', 'coals', 'atop', 'pepperidge', 'semisweet', 'sifting', 'prawns', 'results', 'rind', 'teflon', 'joe', 'nicely', 'nice', 'caramel', 'sear', 'gets', 'bake', 'water', 'hours', 'knead', 'sprouts', 'dip', 'crystallized', 'pumpernickel', 'salads', 'bits', 'reynolds', 'soups', 'tart', 'slaw', 'rolled', 'filled', 'splenda', 'putting', 'cilantro', 'free', 'showers', 'treat', 'veggies', 'carnation', 'cokes', 'clear', 'rosemary', 'halibut', 'chafing', 'sundae', 'sterile', 'directions', 'sealed', 'saving', 'minutes', 'wilted', 'consistency', 'currants', 'speed', 'coarse', 'combined', '0', 'liquids', 'fill', 'slice', 'flute', 'tin', 'sure', 'tartar', 'seconds', 'crackers', 'uncle', 'duncan', 'burritos', 'spreading', 'vermouth', 'fist', 'starter', 'half', 'pull', 'sticks', 'pitcher', 'kiwi', 'couple', 'sugars', 'tel', 'bitter', 'life', 'confectioner', 'orange', 'hard', 'liter', 'evaporated', 'stock', 'chilling', 'rinse', 'cleaned', 'butter', 'vodka', 'ro', 'jicama', 'fire', 'crimp', 'adding', 'raise', 'mushy', 'platter', 'powdered', 'oats', 'reserve', 'linguini', 'cocoa', 'tester', 'container', 'bark', 'insides', 'cumin', 'love', 'beat', 'big', 'won', 'seal', 'then', 'crushed', 'addition', 'sheets', 'method', 'to', 'cinnamon', 'dish', 'starch', 'grated', 'place', 'cob', 'fall', 'mine', 'original', 'spoon', 'constantly', 'papers', 'rims', 'made', 'unflavored', 'sweeter', 'smooth', 'peppercorn', 'fillets', 'omit', 'fresh', 'teriyaki', 'dirt', 'kindly', 'ale', 'sausage', 'roux', 'takes', 'sauteed', 'hominy', 'enough', 'dash', 'option', 'inserted', 'roughy', 'pick', 'eggs', 'cool', 'end', 'pile', 'rinsed', 'gallons', 'yolk', 'depending', 'hors', 'fits', 'dice', 'spice', 'sugared', 'marinate', 'remove', 'oiled', 'chestnut', 'sized', 'in', 'actually', 'lawry', 'microwave', 'shoyu', 'ketchup', 'work', 'cheeses', 'dark', 'minute', 'crystals', 'macadamia', 'corned', 'serves', 'frequently', 'raisins', 'serving', 'preferably', 'cook', 'ovenproof', 'fine', 'works', 'long', 'shallow', 'set', 'zucchini', 'thickest', 'control', 'wax', 'pink', 'metal', 'night', 'what', 'sole', 'some', 'kraft', 'ricotta', 'rubber', 'dill', 'fairly', 'dogs', 'apple', 'triple', 'here', 'sprinkles', 'achiote', 'eggbeater', 'seed', 'instant', 'form', 'rise', 'tines', 'fashion', 'tip', 'sprite', 'thoroughly', 'd', 'tots', 'runs', 'beans', 'choice', 'for', '36', 'feet', 'creamy', 'liking', 'emulsify', 'times', 'dust', 'leftover', 'debone', 'doubleacting', 'replace', 'heads', 'delightful', 'rotary', '86', 'beef', 'great', 'low', 'cutter', 'cloth', 'applesauce', 'cooled', 'continue', 'drop', 'sodium', 'loses', 'two', 'been', 'o', 'overbeat', 'whiskey', 'garden', 'slab', 'doing', 'scald', 'sympathy', 'longer', '55', 'peg', 'requires', 'up', 'covers', 'thinner', 'rotini', 'tsp', 'parkay', 'browns', 'distribute', 'partly', '120', 'turmeric', 'min', 'thinly', 'creamer', 'yellow', 'blended', 'strainer', 'kindness', 'sparkling', 'bundt', 'sourdough', 'occasionally', 'mound', 'imitation', 'fettucine', 'chocolate', 'light', 'funnel', 'flour', 'extra', 'dried', 'meringue', 'mashed', 'sorrow', 'glaze', 'stars', 'sandies', 'shaking', 'roll', 'normally', 'forming', 'microcook', 'overcook', 'canned', 'tapped', 'lentils', 'loaves', 'buttered', 'leftovers', 'halfway', 'using', 'rabbit', 'feta', 'saran', 'leave', 'oatmeal', '9x9', 'parchment', 'cheez', 'clump', 'calories', 'ginger', 'section', 'chewy', 'colors', 'points', 'salsa', 'jell', 'enclose', 'step', 'weed', 'runny', 'lid', 'feed', 'dome', 'saved', 'perhaps', '70', 'from', 'purple', 'chili', 'little', 'shell', 'bed', 'core', 'morsels', 'pith', 'secure', 'taste', 'prevent', 'inverted', 'drying', 'squeeze', 'boil', 'frosted', 'slightly', 'melting', 'stew', 'husks', 'pepperoncini', 'slit', 'shortening', 'souffle', 'pickle', 'molds', 'spoonful', 'among', 'sweeten', 'position', 'variety', 'haddock', 'unpeeled', 'tint', 'pocket', 'machine', 'eggnog', 'nonstick', 'chunks', 'preheated', 'hearts', 'shredded', 'catalina', 'legs', 'steadily', 'pulling', 'strawberries', 'according', 'pastry', 'provolone', 'patties', 'coal', 'saltwater', 'saifon', 'scalded', 'drumsticks', 'mash', 'lima', 'crumbles', 'steam', 'except', 'save', 'sirloin', 'duck', 'vanilla', 'different', 'pet', 'last', 'seeds', '8ths', 'procedure', 'damp', 'formed', 'noodle', 'bottles', 'dough', 'buy', 'pouring', 'egg', 'lumps', 'stop', 'rounded', 'peaked', 'shaker', 'pattern', 'help', 'spoonfuls', 'tamales', 'plus', 'unsweetened', 'ice', 'anchovies', 'servings', 'available', 'gel', 'oven', 'virgin', 'oleo', 'stretch', 'take', 'pepper', 'circular', 'franks', 'pat', '100', 'having', 'complete', 'romano', 'cardamom', 'dampen', 'continuing', 'pebbles', 'going', 'changes', 'trays', 'trim', 'about', 'whipping', 'cast', 'quite', 'campbell', '1', 'mexicorn', 'between', 'first', 'sauces', 'overbake', 'ending', 'tough', 'follows', 'smaller', 'chillies', 'salty', 'golf', 'rows', 'toothpick', 'pecan', 'bag', 'unbeaten', 'moisture', 'touched', 'coat', 'simply', 'tablespoonful', 'watermelon', 'sort', 'french', 'pressed', 'american', 'canadian', 'heatproof', 'tightly', 'level', 'cold', 'refrigerate', 'juice', 'tvp', '200', 'good', 'cocacola', 'crispy', 'cooking', 'split', 'pointed', 'average', 'flat', 'possible', 'dinner', 'small', 'spices', 'feeds', 'but', 'dissolves', 'centers', 'next', 'ones', 'gives', '13', 'chow', 'spaghetti', 'children', 'lime', 'cheerios', 'texture', 'done', 'fried', 'three', 'tops', 'well', 'blot', 'rounds', 'knife', 'bamboo', 'broth', 'touch', 'leaf', 'candied', 'them', 'bags', 'chiles', 'crust', 'vinegar', 'wafers', 'penne', 'approx', 'bottoms', 'six', 'crusts', 'quartered', 'tan', 'lite', 'handling', 'against', '75', 'heated', 'boils', 'separates', 'largest', 'apricots', 'russian', 'string', 'round', 'grind', 'criss', 'creamstyle', 'okra', 'leak', 'weather', 'standing', 'campbells', 'tossing', 'recipe', 'eating', 'ring', 'age', 'beet', 'with', 'cutters', 'breast', 'semi', 'skim', 'directs', 'cherries', 'removed', 'crescents', 'satisfy', 'chip', 'shape', 'glasses', 'couscous', 'used', 'prefer', 'yummy', 'please', 'barley', 'season', 'size', 'pressure', 'my', 'begin', '46', 'peppers', 'parties', 'prepared', 'kitchen', 'stewing', 'batch', 'dilute', 'consideration', 'stuffing', 'skillets', 'above', 'separately', 'wheat', 'underside', 'decoration', 'mixer', 'toast', 'lowest', 'peaches', 'pretzel', 'melted', 'radishes', '25', 'slash', 'pretty', 'liters', 'rotel', 'limeade', 'disappear', 'beets', 'cabbage', 'herb', 'doesn', 'muffin', '500', 'slicing', 'flounder', 'tube', 'out', 'swans', 'stops', 'teaspoonful', 'quiche', 'twinkies', 'summer', 'separated', 'stiff', 'creamed', 'qt', 'seedless', 'grinder', 'meats', 'rack', 'leaves', 'hickory', 'c', 'plain', 'same', 'grate', 'pearl', 'coca', 'peeling', 'delicately', 'beer', 'dab', 'return', 'twice', 'thickened', 'almond', 'moderately', 'other', 'toward', 'cores', 'plump', 'divide', 'peaks', 'uncovered', 'garlic', 'sections', 'appetizer', 'flaked', 'floating', 'evaporate', 'envelope', 'becomes', 'arrowroot', 'pyrex', 'begins', 'yeast', 'certo', 'firms', 'skin', 'chachere', 'milligrams', '11', 'scrape', 'along', 'mixture', 'moist', 'fluted', 'farm', 'roast', 'jackets', 'poke', 'snow', 'beaters', 'jalapeno', 'natural', 'only', 'stays', 'package', 'devein', 'close', 'cutlets', 'gather', 'coarsely', 'arugula', 'bath', 'soup', 'grapes', 'usual', 'burner', 'left', 'insert', 'turning', 'extracts', 'star', 'cauliflowerets', 'flatter', 'adjust', 'thighs', 'creme', 'chickens', 'protein', 'basil', 'pounds', 'real', 'wrappers', 'whisk', 'heath', 'measured', 'baked', 'stream', 'peak', 'moisten', 'overlapping', 'throughout', 'squeezing', 'this', 'undercooked', 'carton', 'glass', 'jello', 'artichokes', 'brook', 'rigatoni', 'depression', 'bens', 'colby', 'cheese', 'limburger', 'amber', 'meat', 'pitted', 'bologna', 'sweetened', 'several', 'berries', 'chex', 'casserole', 'pop', 'your', 'salt', '17', 'daily', 'retain', 'refrigerator', 'blackeyed', 'venison', 'cheddar', 'wine', '275', 'cranberries', 'cookies', 'au', 'coloring', 'karo', 'circles', 'gone', 'ravioli', 'bringing', 'important', 'settling', 'soaked', 'roses', 'millet', 'ends', 'pineapple', 'crepes', '64', 'horseradish', 'tomato', 'enchilada', 'towel', 'crockpot', 'advance', 'english', 'marshmallow', 'pudding', 'mg', 'seasonings', 'wire', 'pineapples', 'roasted', 'added', '85', 'main', 'substituted', 'finally', 'rectangular', 'shred', 'allspice', 'grains', 'coke', 'top', 'shot', 'salmon', 'crumbled', 'capful', 'pulp', 'cranberry', 'mix', 'raspberry', 'pressing', 'amount', 'follow', 'finely', 'marjoram', 'state', 'jelled', 'raspberries', 'salted', 'its', 'again', 'partially', 'right', 'any', 'meanwhile', 'gas', 'cereals', 'california', 'blintzes', 'old', 'ball', 'manwich', 'lightly', 'stand', 'kielbasa', 'exchange', 'fettucini', 'letting', 'gr', 'grand', 'even', 'diced', 'dipped', 'really', 'stiffen', 'club', 'rectangles', 'guests', 'pears', 'use', 'ribs', 'whirl', 'stuck', 'tasty', 'another', 'chilled', 'spring', 'disappears', 'we', 'covering', 'portion', 'sprinkled', 'others', 'process', 'dew', 'cognac', 'supper', 'v', 'baking', 'steamed', 'pin', 'velveeta', 'navy', '65', 'shaped', 'spray', 'torn', 'non', 'spread', 'warmer', 'scissors', 'halve', 'pot', 'needed', 'soupy', 'covered', 'savory', 'blade', 'picante', '48', 'desired', 'espresso', 'coating', 'batches', 'stands', 'birthday', 'instructions', 'into', 'butternut', 'glossy', 'angle', 'italian', 'dipping', 'bakon', 'warmed', 'fat', 'coconut', 'braise', 'fingers', 'shells', 'marmalade', 'splashing', 'skillet', 'granulated', 'mini', 'bottom', 'miracle', 'shelf', 'toasted', 'crowd', 'teaspoons', 'cukes', 'grams', '2', 'flame', 'whites', 'saucepot', 'soaking', 'number', '9', 'currant', 'gold', 'kraut', 'green', 'deboned', 'side', 'transparent', 'mush', 'poppy', 'popcorn', 'lids', 'i', 'bouillon', 'remains', '13x9', 'home', 'wash', 'palms', 'lump', 'nutmeg', 'various', 'of', 'ground', 'balls', 'wonton', 'safe', 'completely', 'dots', 'foam', 'bit', 'genesis', 'swiss', 'tail', 'paraffin', 'thawed', '8', 'chips', 'stove', 'oreo', 'store', 'serve', 'punch', 'wrap', 'drops', 'cacao', 'brandy', 'bisquick', 'finish', 'champagne', 'every', 'crystal', 'scrub', 'pints', 'on', 'scraping', 'that', 'hands', 'leaving', 'slices', 'beaten', 'flatten', 'rinsing', 'rises', 'vegetables', 'grease', 'firm', 'active', 'kernel', 'blanch', 'bell', 'cakes', 'during', 'knives', 'brussels', 'aside', 'very', 'poultry', 'watch', 'combination', 'after', 'scoops', 'cluster', 'beverages', 'chopper', 'near', 'self', 'oyster', 'flavoring', 'steak', 'moistened', 'crush', 'indirect', 'italianstyle', 'chopped', 'fitting', 'select', 'cauliflower', 'supreme', 'layers', 'diagonal', 'chocolates', 'crisco', 'go', 'prayers', 'griddle', 'colored', 'fasten', 'almonds', 'table', 'raw', 'chitterlings', 'alternating', 'drained', 'spreadable', 'saut', 'people', 'ungreased', 'allow', 'boiled', 'sweetener', 'degrees', 'oleomargarine', 'safflower', 'grapefruit', 'dropping', 'special', 'cholesterol', 'remaining', 'acting', 'hot', 'future', 'packaged', 'wedge', 'piping', 'enjoy', 'soda', 'sandwich', 'chicken', 'tenderloin', 'oblong', 'thirds', 'tuck', 'edges', 'tiny', 'vermicelli', 'bun', 'patty', 'around', 'brine', 'game', 'cross', 'plate', 'curry', 'beginning', 'n', 'individually', 'orzo', 'boneless', 'are', 'alone', 'bread', 'tabasco', 'you', 'shoots', 'mints', '10x', 'crusty', 'meatballs', 'cornmeal', 'working', 'taking', 'prune', 'lemonlime', 'way', 'pimentos', 'watercress', 'within', 'strip', 'easy', 'freezes', 'discarding', 'dates', 'indefinitely', 'mold', 'alcohol', 'crawfish', 'flours', 'unwrap', 'spins', 'dropped', 'deep', 'escape', 'medium', 'third', 'smearing', 'flake', 'mint', 'duty', 'temperature', 'ranch', 'cantaloupe', 'glazed', '300', 'parmesan', 'exchanges', 'oregano', 'included', 'absorb', 'phyllo', 'crepe', 'pasta', 'part', 'soft', 'deli', 'sausages', 'being', 'cools', 'strain', 'own', 'realemon', 'allbran', 'gently', 'packages', 'saltine', 'northern', 'lower', 'peppermint', 'pint', 'contents', 'test', 'juices', 'herbs', 'mascarpone', 'pepperoni', 'pasteurized', 'flower', 'cup', 'roaster', 'hormel', 'amounts', 'wishbone', 'graham', 'flavors', 'seasoned', 'homemade', 'log', 'reduce', 'across', 'slits', 'eight', 'stage', 'draw', 'pour', 'soon', 'juicy', 'full', 'strips', 'equally', 'lay', 'pig', 'generous', 'curls', 'slush', 'granules', 'glutamate', 'hand', 'finger', 'brush', 'proceed', 'suit', 'cutting', 'floured', 'twist', 'now', 'crumbling', 'fish', 'button', 'as', 'tastes', 'wrapper', 'filling', 'chile', 'heavy', 'gravy', 'bombs', 'check', 'perk', 'foamy', 'bars', 'try', 'should', 'cover', 'smoothness', 'toppings', 'salad', 'scorching', 'marinade', 'mace', 'shavings', 'tray', 'bacon', 'much', 'onions', 'fork', 'pimiento', 'still', 'hardened', 'ladle', 'rolling', 'mixtures', 'continually', 'stuff', 'kettle', 'substitute', 'avocado', 'truss', 'pies', 'rolls', 'wedges', 'blueberry', 'warm', 'spanish', 'whipped', 'fruit', 'tight', 'coated', 'puree', 'roasting', 'under', 'smile', 'both', 'fingertips', 'crunchies', 'butterfingers', 'sliced', 'cube', 'lastly', 'cupcake', 'blend', 'shallots', 'pepsi', 'toy', 'knox', 'reserved', 'maraschino', 'mounds', 'stem', 'sets', 'croquette', 'brownies', 'tips', 'hamburgers', 'bermuda', 'bowls', 'peanut', 'avoid', 'thyme', 'put', 'chilli', 'muffins', 'cherry', 'deviled', 'fruits', 'dog', 'foil', 'fry', 'richer', 'better', 'fully', 'best', 'congealed', 'early', 'kahlua', 'looks', 'dividing', 'smoke', 'limas', 'liqueur', 'croutons', 'grits', 'inch', 'jus', 'choc', 'onion', 'months', 'noodles', 'horizontally', 'want', 'pkg', 'sauce', 'molasses', 'sifted', 'opaque', 'll', 'zest', 'quick', 'hershey', 'flavored', 'reduced', 'thick', 'baby', 'sealing', 'line', 'skewer', 'dijon', 'tater', 'filo', 'camembert', 'mustard', 'was', 'cake', 'till', 'ziploc', 'rock', 'loosely', 'hollow', 'cider', 'caraway', 'condensed', 'inside', 'anise', 'sweat', 'browned', 'stay', 'chowder', 'doubled', '80', 'lobster', 'all', 'freeze', 'steep', 'more', 'would', 'plates', 'airtight', 'lamb', 'lumpy', 'it', 'collards', 'vegall', 'cocktail', 'picks', 'breading', 'bittersweet', 'most', 'strings', 'tie', 'elastic', 'freezing', 'slide', '240', 'fluff', 'precooked', 'less', 'omitted', 'soap', 'ladyfingers', 'halves', 'salami', 'prepare', 'persimmons', 'bird', 'strawberry', 'absorbed', 'dump', 'sterilize', '90', 'so', 'sour', 'handle', 'awhile', 'quarter', 'banana', 'mince', 'wafer', 'bubble', 'liver', 'carefully', 'anchovy', 'diagonally', 'style', 's', '3', 'pods', 'keeping', 'hang', 'family', 'solids', 'quickly', 'butterfly', 'maximum', 'needs', 'or', 'giblets', '6', 'jalapenos', 'per', 'sugar', 'balance', 'melts', 'directed', 'day', 'kettles', 'liquid', 'circle', 'choose', 'opening', 'evenly', 'hens', 'pack', 'sunflower', 'sesame', 'quarts', 'candies', 'wait', 'carrot', 'reaches', 'open', 'p', 'buttermilk', 'tall', 'holes', 'decorating', 'removing', 'garnish', 'crank', 'cucumbers', 'cola', 'yum', 'not', 'butterfinger', 'peas', 'figs', 'racks', 'closely', 'one', 'undrained', 'powder', 'loaf', 'nestle', 'dente', 'stroganoff', 'macaroni', 'crumb', 'motion', 'cornish', 'pimento', 'deer', 'cracked', 'tails', 'segments', 'eagle', 'pickles', 'wanted', 'combine', 'their', 'mouth', 'onto', 'trifle', 'rest', 'decorative', 'extremely', 'once', 'sift', 'simmer', '10', 'easier', 'larger', 'mug', 'outer', 'slivered', 'soak', 'saffron', 'melba', 'seasoning', 'relish', 'cornflakes', 'bubbles', 'sides', 'jar', 'waxed', 'hold', 'dissolved', 'always', 'pats', 'maybe', 'parts', 'run', 'flank', 'sticking', 'monde', 'seams', 'fries', 'group', 'sprinkle', 'chop', 'upon', 'corns', 'tortilla', 'heat', 'lot', 'lots', 'fettuccine', 'winter', 'puff', 'reheated', 'either', 'ripe', 'corn', 'mixed', 'the', 'cracker', 'tuna', 'stems', 'purchased', 'chunk', 'rich', 'additional', 'firmly', 'tins', 'crock', 'clams', 'almost', 'continuously', 'mayonnaise', 'ahead', 'pureed', 'breakfast', '1st', 'drink', 'human', 'served', 'making', 'preference', 'granola', 'canning', 'understanding', 'slowly', 'many', 'lined', '24', 'peanuts', 'lasts', 'unsalted', 'never', 'basting', 'hamburg', 'kool', 'oeuvre', 'careful', 'tarragon', 'they', 'room', 'undiluted', 'loin', 'hair', 'bubbling', 'king', 'cole', 'necessary', 'pans', 'volume', 'anchor', 'miniature', 'sherry', 'membranes', 'thousand', 'rye', 'boned', 'mugs', 'transfer', 'caramels', 'parsley', '4', 'frankfurters', 'scrambled', 'hawaiian', 'chunked', 'dozen', 'squares', 'forms', 'tapioca', 'dollop', 'evaporates', 'caps', 'lean', 'checking', 'tears', 'stocks', 'rabbits', 'repeat', 'lasagna', 'a', 'persimmon', 'cashews', 'turnips', 'packed', 'square', 'seems', 'throw', '35', 'crumbly', 'dandelion', 'gloss', 'allowed', 'dry', 'release', 'back', 'ramen', 'coriander', 'seam', 'tamari', 'florets', 'whatever', 'upside', 'hash', 'mixes', 'unmold', 'trout', 'sterilized', 'halved', 'rectangle', 'food', 'spoke', 'spoons', 'paint', 'worcestershire', 'tea', 'drain', 'luke', 'tap', 'tomatoes', 'batter', 'measure', 'poured', 'packet', 'bay', 'mocha', 'total', 'knorr', '20', 'sun', 'smoked', 'need', 'pickling', 'cheesecloth', 'usually', 'thermometer', 'ham', 'shows', 'pea', 'chickpeas', 'edge', 'spiral', 'soy', 'thickening', 'springs', 'pheasant', 'beater', 'few', 'comes', 'slow', 'oreos', 'discard', 'sink', 'hocks', 'waffles', 'marshmallows', '375', 'skins', 'clam', 'remainder', 'resistant', 'equal', 'flavorings', 'optional', 'ounce', 'barbecue', 'thumb', 'like', 'beating', 'jars', '14', 'toothpicks', 'church', 'building', 'outside', 'pliable', 'junior', 'owens', 'nachos', 'custard', 'chestnuts', 'havarti', 'pork', 'blender', 'lengthwise', 'had', 'overmix', 'bean', 'breadcrumbs', 'running', 'lift', 'tossed', 'blossoms', 'saute', 'single', 'blackberries', 'red', 'creaming', 'drizzle', 'coats', 'cupcakes', 'jelly', 'nutmeats', 'holds', 'scallions', 'bring', '60', 'dutch', 'empty', 'seafood', 'cottage', 'turns', 'manufacturer', 'gentle', 'crunch', 'capers', 'increase', 'accent', 'oval', 'aluminum', 'garnishes', 'joy', 'upright', '50', 'has', 'shin', 'stalk', '350', 'kneading', 'setting', 'before', 'pan', 'flavor', 'rotating', 'drippings', 'block', 'corners', 'followed', 'desire', 'lavender', 'carrots', 'air', 'extract', 'piece', '130', 'mountain', 'sack', 'fluffy', 'field', '30', 'portions', '234', 'preheating', 'yogurt', 'eat', 'refrigerated', 'make', 'ready', 'score', 'comino', 'healthy', 'wraps', 'pale', 'blending', 'child', 'dumplings', 'boxes', 'yields', 'peeled', 'stuffed', 'jellyroll', 'holding', 'meal', 'washed', 'gelatine', 'candy', 'mozzarella', 'could', 'taffy', 'an', 'longhorn', 'alum', 'dressing', 'basket', 'change', 'including', 'chinese', 'point', '250', 'alternate', 'lowfat', 'meaty', 'fryer', 'spicy', 'brown', 'frothy', 'get', 'listed', 'eggplant', 'and', 'wide', 'baker', 'row', 'buns', 'monosodium', 'tofu', 'm', '2nd', 'shellfish', 'sherbet', 'starting', 'sharp', 'curdle', 'pectin', 'containers', 'bubbly', 'marble', 'note', 'krispies', 'cream', 'heating', 'frying', 'burn', 'bakes', 'spareribs', 'those', 'margarine', 'wieners', 'popped', 'let', 'together', 'folding', 'consomme', 'bigger', 'narrow', 'milk', 'alternately', 'biscuit', 'worms', 'apart', 'breasts', 'breads', 'pare', 'lengths', 'kosher', 'teaspoonfuls', 'at', 'thin', 'refried', 'prick', 'oysters', 'kidney', 'wild', 'blueberries', 'entire', 'preheat', 'nacho', 'shoulder', 'honey', 'separate', 'citron', 'spooned', 'is', 'cans', 'apples', 'also', 'saucepan', 'mushroom', 'lemon', 'instead', 'tablespoon', 'yolks', 'turned', 'tests', 'limes', 'soba', 'kids', 'do', 'wrapped', 'double', 'sizzling', 'peek', 'move', 'pops', 'mcbutter', 'days', 'party', 'makes', 'sweet', 'chuck', 'person', 'coffee', 'crack', 'stalks', '450', 'roni', 'solution', 'chunky', 'liberally', 'remember', 'equals', 'proof', 'k', 'flowers', 'eaten', 'remain', 'electric', 'ounces', 'bar', 'logs', 'correct', 'tortellini', 'without', 'placed', 'regularly', 'greased', 'fix', 'shut', 'vessel', 'dashes', 'grahams', 'hotter', 'trimmings', 'there', 'peel', 'gumdrops', 'minced', 'hole', 'pumpkin', 'zinfandel', 'push', 'irish', 'give', 'purpose', 'marnier', 'rotate', 'syrup', 'invert', 'regular', 'milnot', 'de', 'hen', 'kale', 'be', 'shears', 'cloves', 'cayenne', 'diluted', 'gruyere', 'ragu', 'hr', 'shiny', 'golden', 'everything', 'wok', 'bran', 'kiss', 'directly', 'brand', 'indention', 'drinks', 'cooks', 'angel', 'loosen', 'squirt', 'moderate', 'kept', 'brushing', 'containing', 'dishes', 'how', 'storage', 'unroll', 'center', 'assorted', 'blackberry', 'steady', 'rather', 'peppercorns', '425', 'ingredient', 'flakes', 'rotelle', 'samuel', '18', 'monterey', 'base', 'hots', 'cubed', 'particles', 'white', 'bananas', 'draft', 'resembles', 'float', 'clumping', 'fun', 'burgers', 'bourbon', 'lunch', '22', 'rings', 'x', 'breaking', 'nuts', 'jack', 'crumble', 'garbanzos', 'absorbent', 'kernels', 'walnut', 'browning', 'chives', '7', 'keep', 'guacamole', 'apply', 'tbsp', 'spots', 'parboil', 'label', 'philadelphia', 'fats', 'maple', 'smash', 'black', 'have', 'hidden', 'allpurpose', 'just', 'head', 'broiler', 'sit', 'turn', 'pieces', 'sage', 'allowing', 'pronged', 'bite', 'yield', 'soften', 'harden', 'seasonall', 'wipe', 'slotted', 'freshly', 'nonfat', 'cubes', 'immediately', 'asparagus', '33', 'scatter', 'lettuce', 'clusters', 'biscuits', 'stick', 'cornbread', 'see', 'stir', 'elephant', 'taco', 'tablespoonfuls', 'leeks', 'squirrels', 'often', 'gummy', 'vigorously', 'swirl', 'pizza', 'broil', 'dissolve', 'pinto', 'such', 'prior', 'tear', 'cornflake', 'securely', 'etc', 'anything', 'zita', 'topped', 'microwavable', 'pretzels', 'candle', 'bagels', 'deeds', 'rivels', '365', 'delicious', 'tidbits', 'mill', 'sheet', 'colander', 'frosting', 'f', 'crescent', 'greens', 'spiced', 'pizzas', 'blue', 'topping', 'fast', '40', 'concentrate', 'nondairy', 'crunchy', 'grain', 'grocery', 'heaping', 'fillet', 'tupperware', 'lighten', 'mallet', 'generously', 'processor', 'cooked', 'olives', 'marsala', 'time', 'bone', 'bitters', 'bundles', 'surround', 'become', 'everyone', 'preserves', 'pound', 'reused', 'type', 'cuts', 'look', 'resemble', 'sorghum', 'xxxx', 'probably', 'confectioners', 'pit', 'broken', 'whole', 'tablespoons', 'alfalfa', 'shrimp', 'perforations', 'hour', 'veal', 'newspaper', 'skewers', 'gallon', 'potatoes', 'too', 'excess', 'does', 'brisket', 'dredge', 'fluid', 'personal', 'kisses', 'below', 'mushrooms', 'altogether', 'mango', 'enchiladas', 'cracks', 'surface', '45', 'limp', 'find', 'favorite', 'than', 'crispies', 'grill', 'rhubarb', '9x13', 'if', 'layer', '32', 'similar', 'softened', 'individual', 'new', 'island', 'thickens', 'grenadine', 'preparing', 'mexican', 'when', 'rapidly', 'sieve', '112', 'boston', 're', 'uncooked', 'pancake', 'puffs', 'linguine', 'shake', 'lasagne', 'luncheon', 'gelatin', 'whitefish', 'aid', 'tostitos', 'steaks', 'garnished', 'lemons', 'fritos', 'closed', 'skinless', 'exactly', 'arrange', 'fold', 'crosswise', 'until', 'crumbs', 'wet', 'oil', 'measuring', 'cereal', 'break', 'something', 'sooner', 'crisp', 'stewed', 'sec', 'steel', 'goes', '5', 'incorporate', 'handful', 'order', 'second', 'paprika', 'root', 'mayo', 'walnuts', 'canola', 'clean', 'through', 'solid', 'chops', 'uncover', 'bulk', 'called', 'least', 'sauerkraut', 'squeezed', 'helps', 'must', 'towels', 'tied', 'germ', 'mostaccioli', 'pistachio', '150', 'dunk', 'will', 'given', 'sticky', 'wings', 'dessert', 'create', 'thicken', 'briefly', 'spatula', 't', 'apricot', 'cucumber', '325', 'al', 'themselves', 'come', 'diet', 'large', 'pimientos', '23', 'taken', 'down', 'appear', 'artificial', 'puffy', 'bones', 'wesson', 'g', 'saucer', 'groundhog', 'mullet', 'week', 'teaspoon', 'don', 'five', 'seasons', 'placing', 'iron', 'rice', 'nearly', 'starts', 'cracklins', 'touching', 'ziti', 'stirred', 'fashioned', 'triangle', 'vent', 'avocados', 'freezer', 'peck', 'counter', 'romaine', 'oz', 'chipped', 'frost', 'stiffly', 'clove', 'door', 'scallops', 'flowerets', 'country', 'frypan', 'niblets', 'reserving', 'spears', 'icebox', 'cooling', 'degree', 'middle', 'gradually', 'lard', 'carman', 'burning', 'broccoli', 'reheat', 'pear', 'baste', 'off', 'liners', 'mixing', 'scramble', 'syrupy', 'whip', 'pie', 'dippers', 'fridge', 'simmering', 'icing', 'bowl', 'diameter', 'sprinkling', 'slight', 'ensure', 'decorate', 'pam', 'waverly', 'able', 'fondant', 'wooden', '370', 'while', 'itself', 'can', 'countertop', 'morning', 'excellent', 'layering', 'amaretto', 'high', 'these', 'whiz', 'flaky', 'paste', 'quart', 'nectar', 'away', 'thread', 'oat', 'prebaked', 'stack', 'over', 'peach', 'creamette', 'puffed', 'liquor', 'seem', 'finished', 'doneness', 'plastic', 'squirrel', 'artichoke', 'squash', 'garbanzo', '475', 'appearance', 'potato', 'weeks', 'prep', 'blanched', 'masher', 'toss', 'baguette', 'paper', 'cooker', 'add', 'gumbo', 'thaw', 'tinfoil', 'flattened', 'following', 'thickness', 'doritos', 'cookie', 'cut', 'congeal', 'dream', 'intact', 'press', 'start', 'rub', 'nine', 'crabmeat', 'because', 'color', 'butterscotch', 'thicker', 'stirring', 'quarters', 'power', 'may', 'grape', 'scoop', 'cornstarch', 'shapes', 'catsup', 'barely', 'hollowed', 'brownie', 'cups', 'palm', 'strokes', 'frozen', 'jam', 'pecans', 'mein', 'four', 'preparation', 'christmas', 'obrien', 'neck', 'sandwiches', 'cajun', 'contains', 'no', 'loose', 'translucent', 'nut', 'mandarin', 'scramblers', 'gouda', 'stone', 'triangles', 'rum', 'hamburger', 'fit', 'later', 'scant', 'lemonade', 'boiling', '15', 'melt', 'boiler', '12', 'creole', 'quantity', 'inches', 'ritz', 'awful', 'grilled', 'tortillas', 'sprigs', 'depth', 'chilies', 'helpings', 'items', 'hi', 'by', 'lukewarm', 'width', 'birds', 'pancakes', 'preferred', 'tender', 'butterflied', 'packets', 'vegetable', 'unbaked', 'envelopes', 'pinch', 'ingredients', 'prunes', 'board', 'balsamic', 'tongs', 'spinach', 'fudge', 'kind', 'already', 'olive', 'which', 'box', 'basic', 'each', 'says', 'month', 'bottle', 'pulled', 'oranges', 'approximately', 'holidays', 'turkey', 'pulls', 'stored', 'clings', 'keeps', 'easily', 'medal', '400', 'crab', 'elbow']\n"
     ]
    }
   ],
   "source": [
    "# calculate word frequency from directions and ingredients list (NER)\n",
    "if pre_processing == True:\n",
    "    \n",
    "    word_freq = collections.Counter()\n",
    "    for i, row in tokenized_nlg_df.iterrows():\n",
    "        for direction_list in row.directions:\n",
    "            for word in direction_list:\n",
    "                word_freq[word] += 1\n",
    "        \n",
    "        for ingredient_list in row.ingredients:\n",
    "            for word in ingredient_list:\n",
    "                word_freq[word] += 1\n",
    "    \n",
    "    minimum_word_freq = 2\n",
    "    vocab, ignored_words = set(), set()\n",
    "    for word, freq in word_freq.items():\n",
    "        if word_freq[word] >= minimum_word_freq:\n",
    "            vocab.add(word) \n",
    "        else:\n",
    "            ignored_words.add(word)\n",
    "            \n",
    "    for word in ignored_words:\n",
    "        del word_freq[word]\n",
    "\n",
    "    print('Unique words before ignoring:', len(vocab) + len(ignored_words))\n",
    "    print('Unique words after ignoring:', len(vocab))\n",
    "\n",
    "    vocab = list(vocab)\n",
    "    json.dump(vocab, open('./data/vocab.json', 'w'))\n",
    "\n",
    "    print(vocab)"
   ]
  },
  {
   "cell_type": "code",
   "execution_count": 453,
   "metadata": {},
   "outputs": [
    {
     "name": "stdout",
     "output_type": "stream",
     "text": [
      "{'raisin': 0, 'fitted': 1, 'yams': 2, 'snack': 3, 'wish': 4, 'chutney': 5, 'service': 6, 'hunger': 7, 'pizzelle': 8, 'tubs': 9, 'celery': 10, 'prayer': 11, 'dot': 12, 'headspace': 13, 'chill': 14, 'sprayed': 15, 'faith': 16, 'uv': 17, 'stockpot': 18, 'puddings': 19, 'valley': 20, '16': 21, 'overnight': 22, 'hock': 23, 'rim': 24, 'vegies': 25, 'coals': 26, 'atop': 27, 'pepperidge': 28, 'semisweet': 29, 'sifting': 30, 'prawns': 31, 'results': 32, 'rind': 33, 'teflon': 34, 'joe': 35, 'nicely': 36, 'nice': 37, 'caramel': 38, 'sear': 39, 'gets': 40, 'bake': 41, 'water': 42, 'hours': 43, 'knead': 44, 'sprouts': 45, 'dip': 46, 'crystallized': 47, 'pumpernickel': 48, 'salads': 49, 'bits': 50, 'reynolds': 51, 'soups': 52, 'tart': 53, 'slaw': 54, 'rolled': 55, 'filled': 56, 'splenda': 57, 'putting': 58, 'cilantro': 59, 'free': 60, 'showers': 61, 'treat': 62, 'veggies': 63, 'carnation': 64, 'cokes': 65, 'clear': 66, 'rosemary': 67, 'halibut': 68, 'chafing': 69, 'sundae': 70, 'sterile': 71, 'directions': 72, 'sealed': 73, 'saving': 74, 'minutes': 75, 'wilted': 76, 'consistency': 77, 'currants': 78, 'speed': 79, 'coarse': 80, 'combined': 81, '0': 82, 'liquids': 83, 'fill': 84, 'slice': 85, 'flute': 86, 'tin': 87, 'sure': 88, 'tartar': 89, 'seconds': 90, 'crackers': 91, 'uncle': 92, 'duncan': 93, 'burritos': 94, 'spreading': 95, 'vermouth': 96, 'fist': 97, 'starter': 98, 'half': 99, 'pull': 100, 'sticks': 101, 'pitcher': 102, 'kiwi': 103, 'couple': 104, 'sugars': 105, 'tel': 106, 'bitter': 107, 'life': 108, 'confectioner': 109, 'orange': 110, 'hard': 111, 'liter': 112, 'evaporated': 113, 'stock': 114, 'chilling': 115, 'rinse': 116, 'cleaned': 117, 'butter': 118, 'vodka': 119, 'ro': 120, 'jicama': 121, 'fire': 122, 'crimp': 123, 'adding': 124, 'raise': 125, 'mushy': 126, 'platter': 127, 'powdered': 128, 'oats': 129, 'reserve': 130, 'linguini': 131, 'cocoa': 132, 'tester': 133, 'container': 134, 'bark': 135, 'insides': 136, 'cumin': 137, 'love': 138, 'beat': 139, 'big': 140, 'won': 141, 'seal': 142, 'then': 143, 'crushed': 144, 'addition': 145, 'sheets': 146, 'method': 147, 'to': 148, 'cinnamon': 149, 'dish': 150, 'starch': 151, 'grated': 152, 'place': 153, 'cob': 154, 'fall': 155, 'mine': 156, 'original': 157, 'spoon': 158, 'constantly': 159, 'papers': 160, 'rims': 161, 'made': 162, 'unflavored': 163, 'sweeter': 164, 'smooth': 165, 'peppercorn': 166, 'fillets': 167, 'omit': 168, 'fresh': 169, 'teriyaki': 170, 'dirt': 171, 'kindly': 172, 'ale': 173, 'sausage': 174, 'roux': 175, 'takes': 176, 'sauteed': 177, 'hominy': 178, 'enough': 179, 'dash': 180, 'option': 181, 'inserted': 182, 'roughy': 183, 'pick': 184, 'eggs': 185, 'cool': 186, 'end': 187, 'pile': 188, 'rinsed': 189, 'gallons': 190, 'yolk': 191, 'depending': 192, 'hors': 193, 'fits': 194, 'dice': 195, 'spice': 196, 'sugared': 197, 'marinate': 198, 'remove': 199, 'oiled': 200, 'chestnut': 201, 'sized': 202, 'in': 203, 'actually': 204, 'lawry': 205, 'microwave': 206, 'shoyu': 207, 'ketchup': 208, 'work': 209, 'cheeses': 210, 'dark': 211, 'minute': 212, 'crystals': 213, 'macadamia': 214, 'corned': 215, 'serves': 216, 'frequently': 217, 'raisins': 218, 'serving': 219, 'preferably': 220, 'cook': 221, 'ovenproof': 222, 'fine': 223, 'works': 224, 'long': 225, 'shallow': 226, 'set': 227, 'zucchini': 228, 'thickest': 229, 'control': 230, 'wax': 231, 'pink': 232, 'metal': 233, 'night': 234, 'what': 235, 'sole': 236, 'some': 237, 'kraft': 238, 'ricotta': 239, 'rubber': 240, 'dill': 241, 'fairly': 242, 'dogs': 243, 'apple': 244, 'triple': 245, 'here': 246, 'sprinkles': 247, 'achiote': 248, 'eggbeater': 249, 'seed': 250, 'instant': 251, 'form': 252, 'rise': 253, 'tines': 254, 'fashion': 255, 'tip': 256, 'sprite': 257, 'thoroughly': 258, 'd': 259, 'tots': 260, 'runs': 261, 'beans': 262, 'choice': 263, 'for': 264, '36': 265, 'feet': 266, 'creamy': 267, 'liking': 268, 'emulsify': 269, 'times': 270, 'dust': 271, 'leftover': 272, 'debone': 273, 'doubleacting': 274, 'replace': 275, 'heads': 276, 'delightful': 277, 'rotary': 278, '86': 279, 'beef': 280, 'great': 281, 'low': 282, 'cutter': 283, 'cloth': 284, 'applesauce': 285, 'cooled': 286, 'continue': 287, 'drop': 288, 'sodium': 289, 'loses': 290, 'two': 291, 'been': 292, 'o': 293, 'overbeat': 294, 'whiskey': 295, 'garden': 296, 'slab': 297, 'doing': 298, 'scald': 299, 'sympathy': 300, 'longer': 301, '55': 302, 'peg': 303, 'requires': 304, 'up': 305, 'covers': 306, 'thinner': 307, 'rotini': 308, 'tsp': 309, 'parkay': 310, 'browns': 311, 'distribute': 312, 'partly': 313, '120': 314, 'turmeric': 315, 'min': 316, 'thinly': 317, 'creamer': 318, 'yellow': 319, 'blended': 320, 'strainer': 321, 'kindness': 322, 'sparkling': 323, 'bundt': 324, 'sourdough': 325, 'occasionally': 326, 'mound': 327, 'imitation': 328, 'fettucine': 329, 'chocolate': 330, 'light': 331, 'funnel': 332, 'flour': 333, 'extra': 334, 'dried': 335, 'meringue': 336, 'mashed': 337, 'sorrow': 338, 'glaze': 339, 'stars': 340, 'sandies': 341, 'shaking': 342, 'roll': 343, 'normally': 344, 'forming': 345, 'microcook': 346, 'overcook': 347, 'canned': 348, 'tapped': 349, 'lentils': 350, 'loaves': 351, 'buttered': 352, 'leftovers': 353, 'halfway': 354, 'using': 355, 'rabbit': 356, 'feta': 357, 'saran': 358, 'leave': 359, 'oatmeal': 360, '9x9': 361, 'parchment': 362, 'cheez': 363, 'clump': 364, 'calories': 365, 'ginger': 366, 'section': 367, 'chewy': 368, 'colors': 369, 'points': 370, 'salsa': 371, 'jell': 372, 'enclose': 373, 'step': 374, 'weed': 375, 'runny': 376, 'lid': 377, 'feed': 378, 'dome': 379, 'saved': 380, 'perhaps': 381, '70': 382, 'from': 383, 'purple': 384, 'chili': 385, 'little': 386, 'shell': 387, 'bed': 388, 'core': 389, 'morsels': 390, 'pith': 391, 'secure': 392, 'taste': 393, 'prevent': 394, 'inverted': 395, 'drying': 396, 'squeeze': 397, 'boil': 398, 'frosted': 399, 'slightly': 400, 'melting': 401, 'stew': 402, 'husks': 403, 'pepperoncini': 404, 'slit': 405, 'shortening': 406, 'souffle': 407, 'pickle': 408, 'molds': 409, 'spoonful': 410, 'among': 411, 'sweeten': 412, 'position': 413, 'variety': 414, 'haddock': 415, 'unpeeled': 416, 'tint': 417, 'pocket': 418, 'machine': 419, 'eggnog': 420, 'nonstick': 421, 'chunks': 422, 'preheated': 423, 'hearts': 424, 'shredded': 425, 'catalina': 426, 'legs': 427, 'steadily': 428, 'pulling': 429, 'strawberries': 430, 'according': 431, 'pastry': 432, 'provolone': 433, 'patties': 434, 'coal': 435, 'saltwater': 436, 'saifon': 437, 'scalded': 438, 'drumsticks': 439, 'mash': 440, 'lima': 441, 'crumbles': 442, 'steam': 443, 'except': 444, 'save': 445, 'sirloin': 446, 'duck': 447, 'vanilla': 448, 'different': 449, 'pet': 450, 'last': 451, 'seeds': 452, '8ths': 453, 'procedure': 454, 'damp': 455, 'formed': 456, 'noodle': 457, 'bottles': 458, 'dough': 459, 'buy': 460, 'pouring': 461, 'egg': 462, 'lumps': 463, 'stop': 464, 'rounded': 465, 'peaked': 466, 'shaker': 467, 'pattern': 468, 'help': 469, 'spoonfuls': 470, 'tamales': 471, 'plus': 472, 'unsweetened': 473, 'ice': 474, 'anchovies': 475, 'servings': 476, 'available': 477, 'gel': 478, 'oven': 479, 'virgin': 480, 'oleo': 481, 'stretch': 482, 'take': 483, 'pepper': 484, 'circular': 485, 'franks': 486, 'pat': 487, '100': 488, 'having': 489, 'complete': 490, 'romano': 491, 'cardamom': 492, 'dampen': 493, 'continuing': 494, 'pebbles': 495, 'going': 496, 'changes': 497, 'trays': 498, 'trim': 499, 'about': 500, 'whipping': 501, 'cast': 502, 'quite': 503, 'campbell': 504, '1': 505, 'mexicorn': 506, 'between': 507, 'first': 508, 'sauces': 509, 'overbake': 510, 'ending': 511, 'tough': 512, 'follows': 513, 'smaller': 514, 'chillies': 515, 'salty': 516, 'golf': 517, 'rows': 518, 'toothpick': 519, 'pecan': 520, 'bag': 521, 'unbeaten': 522, 'moisture': 523, 'touched': 524, 'coat': 525, 'simply': 526, 'tablespoonful': 527, 'watermelon': 528, 'sort': 529, 'french': 530, 'pressed': 531, 'american': 532, 'canadian': 533, 'heatproof': 534, 'tightly': 535, 'level': 536, 'cold': 537, 'refrigerate': 538, 'juice': 539, 'tvp': 540, '200': 541, 'good': 542, 'cocacola': 543, 'crispy': 544, 'cooking': 545, 'split': 546, 'pointed': 547, 'average': 548, 'flat': 549, 'possible': 550, 'dinner': 551, 'small': 552, 'spices': 553, 'feeds': 554, 'but': 555, 'dissolves': 556, 'centers': 557, 'next': 558, 'ones': 559, 'gives': 560, '13': 561, 'chow': 562, 'spaghetti': 563, 'children': 564, 'lime': 565, 'cheerios': 566, 'texture': 567, 'done': 568, 'fried': 569, 'three': 570, 'tops': 571, 'well': 572, 'blot': 573, 'rounds': 574, 'knife': 575, 'bamboo': 576, 'broth': 577, 'touch': 578, 'leaf': 579, 'candied': 580, 'them': 581, 'bags': 582, 'chiles': 583, 'crust': 584, 'vinegar': 585, 'wafers': 586, 'penne': 587, 'approx': 588, 'bottoms': 589, 'six': 590, 'crusts': 591, 'quartered': 592, 'tan': 593, 'lite': 594, 'handling': 595, 'against': 596, '75': 597, 'heated': 598, 'boils': 599, 'separates': 600, 'largest': 601, 'apricots': 602, 'russian': 603, 'string': 604, 'round': 605, 'grind': 606, 'criss': 607, 'creamstyle': 608, 'okra': 609, 'leak': 610, 'weather': 611, 'standing': 612, 'campbells': 613, 'tossing': 614, 'recipe': 615, 'eating': 616, 'ring': 617, 'age': 618, 'beet': 619, 'with': 620, 'cutters': 621, 'breast': 622, 'semi': 623, 'skim': 624, 'directs': 625, 'cherries': 626, 'removed': 627, 'crescents': 628, 'satisfy': 629, 'chip': 630, 'shape': 631, 'glasses': 632, 'couscous': 633, 'used': 634, 'prefer': 635, 'yummy': 636, 'please': 637, 'barley': 638, 'season': 639, 'size': 640, 'pressure': 641, 'my': 642, 'begin': 643, '46': 644, 'peppers': 645, 'parties': 646, 'prepared': 647, 'kitchen': 648, 'stewing': 649, 'batch': 650, 'dilute': 651, 'consideration': 652, 'stuffing': 653, 'skillets': 654, 'above': 655, 'separately': 656, 'wheat': 657, 'underside': 658, 'decoration': 659, 'mixer': 660, 'toast': 661, 'lowest': 662, 'peaches': 663, 'pretzel': 664, 'melted': 665, 'radishes': 666, '25': 667, 'slash': 668, 'pretty': 669, 'liters': 670, 'rotel': 671, 'limeade': 672, 'disappear': 673, 'beets': 674, 'cabbage': 675, 'herb': 676, 'doesn': 677, 'muffin': 678, '500': 679, 'slicing': 680, 'flounder': 681, 'tube': 682, 'out': 683, 'swans': 684, 'stops': 685, 'teaspoonful': 686, 'quiche': 687, 'twinkies': 688, 'summer': 689, 'separated': 690, 'stiff': 691, 'creamed': 692, 'qt': 693, 'seedless': 694, 'grinder': 695, 'meats': 696, 'rack': 697, 'leaves': 698, 'hickory': 699, 'c': 700, 'plain': 701, 'same': 702, 'grate': 703, 'pearl': 704, 'coca': 705, 'peeling': 706, 'delicately': 707, 'beer': 708, 'dab': 709, 'return': 710, 'twice': 711, 'thickened': 712, 'almond': 713, 'moderately': 714, 'other': 715, 'toward': 716, 'cores': 717, 'plump': 718, 'divide': 719, 'peaks': 720, 'uncovered': 721, 'garlic': 722, 'sections': 723, 'appetizer': 724, 'flaked': 725, 'floating': 726, 'evaporate': 727, 'envelope': 728, 'becomes': 729, 'arrowroot': 730, 'pyrex': 731, 'begins': 732, 'yeast': 733, 'certo': 734, 'firms': 735, 'skin': 736, 'chachere': 737, 'milligrams': 738, '11': 739, 'scrape': 740, 'along': 741, 'mixture': 742, 'moist': 743, 'fluted': 744, 'farm': 745, 'roast': 746, 'jackets': 747, 'poke': 748, 'snow': 749, 'beaters': 750, 'jalapeno': 751, 'natural': 752, 'only': 753, 'stays': 754, 'package': 755, 'devein': 756, 'close': 757, 'cutlets': 758, 'gather': 759, 'coarsely': 760, 'arugula': 761, 'bath': 762, 'soup': 763, 'grapes': 764, 'usual': 765, 'burner': 766, 'left': 767, 'insert': 768, 'turning': 769, 'extracts': 770, 'star': 771, 'cauliflowerets': 772, 'flatter': 773, 'adjust': 774, 'thighs': 775, 'creme': 776, 'chickens': 777, 'protein': 778, 'basil': 779, 'pounds': 780, 'real': 781, 'wrappers': 782, 'whisk': 783, 'heath': 784, 'measured': 785, 'baked': 786, 'stream': 787, 'peak': 788, 'moisten': 789, 'overlapping': 790, 'throughout': 791, 'squeezing': 792, 'this': 793, 'undercooked': 794, 'carton': 795, 'glass': 796, 'jello': 797, 'artichokes': 798, 'brook': 799, 'rigatoni': 800, 'depression': 801, 'bens': 802, 'colby': 803, 'cheese': 804, 'limburger': 805, 'amber': 806, 'meat': 807, 'pitted': 808, 'bologna': 809, 'sweetened': 810, 'several': 811, 'berries': 812, 'chex': 813, 'casserole': 814, 'pop': 815, 'your': 816, 'salt': 817, '17': 818, 'daily': 819, 'retain': 820, 'refrigerator': 821, 'blackeyed': 822, 'venison': 823, 'cheddar': 824, 'wine': 825, '275': 826, 'cranberries': 827, 'cookies': 828, 'au': 829, 'coloring': 830, 'karo': 831, 'circles': 832, 'gone': 833, 'ravioli': 834, 'bringing': 835, 'important': 836, 'settling': 837, 'soaked': 838, 'roses': 839, 'millet': 840, 'ends': 841, 'pineapple': 842, 'crepes': 843, '64': 844, 'horseradish': 845, 'tomato': 846, 'enchilada': 847, 'towel': 848, 'crockpot': 849, 'advance': 850, 'english': 851, 'marshmallow': 852, 'pudding': 853, 'mg': 854, 'seasonings': 855, 'wire': 856, 'pineapples': 857, 'roasted': 858, 'added': 859, '85': 860, 'main': 861, 'substituted': 862, 'finally': 863, 'rectangular': 864, 'shred': 865, 'allspice': 866, 'grains': 867, 'coke': 868, 'top': 869, 'shot': 870, 'salmon': 871, 'crumbled': 872, 'capful': 873, 'pulp': 874, 'cranberry': 875, 'mix': 876, 'raspberry': 877, 'pressing': 878, 'amount': 879, 'follow': 880, 'finely': 881, 'marjoram': 882, 'state': 883, 'jelled': 884, 'raspberries': 885, 'salted': 886, 'its': 887, 'again': 888, 'partially': 889, 'right': 890, 'any': 891, 'meanwhile': 892, 'gas': 893, 'cereals': 894, 'california': 895, 'blintzes': 896, 'old': 897, 'ball': 898, 'manwich': 899, 'lightly': 900, 'stand': 901, 'kielbasa': 902, 'exchange': 903, 'fettucini': 904, 'letting': 905, 'gr': 906, 'grand': 907, 'even': 908, 'diced': 909, 'dipped': 910, 'really': 911, 'stiffen': 912, 'club': 913, 'rectangles': 914, 'guests': 915, 'pears': 916, 'use': 917, 'ribs': 918, 'whirl': 919, 'stuck': 920, 'tasty': 921, 'another': 922, 'chilled': 923, 'spring': 924, 'disappears': 925, 'we': 926, 'covering': 927, 'portion': 928, 'sprinkled': 929, 'others': 930, 'process': 931, 'dew': 932, 'cognac': 933, 'supper': 934, 'v': 935, 'baking': 936, 'steamed': 937, 'pin': 938, 'velveeta': 939, 'navy': 940, '65': 941, 'shaped': 942, 'spray': 943, 'torn': 944, 'non': 945, 'spread': 946, 'warmer': 947, 'scissors': 948, 'halve': 949, 'pot': 950, 'needed': 951, 'soupy': 952, 'covered': 953, 'savory': 954, 'blade': 955, 'picante': 956, '48': 957, 'desired': 958, 'espresso': 959, 'coating': 960, 'batches': 961, 'stands': 962, 'birthday': 963, 'instructions': 964, 'into': 965, 'butternut': 966, 'glossy': 967, 'angle': 968, 'italian': 969, 'dipping': 970, 'bakon': 971, 'warmed': 972, 'fat': 973, 'coconut': 974, 'braise': 975, 'fingers': 976, 'shells': 977, 'marmalade': 978, 'splashing': 979, 'skillet': 980, 'granulated': 981, 'mini': 982, 'bottom': 983, 'miracle': 984, 'shelf': 985, 'toasted': 986, 'crowd': 987, 'teaspoons': 988, 'cukes': 989, 'grams': 990, '2': 991, 'flame': 992, 'whites': 993, 'saucepot': 994, 'soaking': 995, 'number': 996, '9': 997, 'currant': 998, 'gold': 999, 'kraut': 1000, 'green': 1001, 'deboned': 1002, 'side': 1003, 'transparent': 1004, 'mush': 1005, 'poppy': 1006, 'popcorn': 1007, 'lids': 1008, 'i': 1009, 'bouillon': 1010, 'remains': 1011, '13x9': 1012, 'home': 1013, 'wash': 1014, 'palms': 1015, 'lump': 1016, 'nutmeg': 1017, 'various': 1018, 'of': 1019, 'ground': 1020, 'balls': 1021, 'wonton': 1022, 'safe': 1023, 'completely': 1024, 'dots': 1025, 'foam': 1026, 'bit': 1027, 'genesis': 1028, 'swiss': 1029, 'tail': 1030, 'paraffin': 1031, 'thawed': 1032, '8': 1033, 'chips': 1034, 'stove': 1035, 'oreo': 1036, 'store': 1037, 'serve': 1038, 'punch': 1039, 'wrap': 1040, 'drops': 1041, 'cacao': 1042, 'brandy': 1043, 'bisquick': 1044, 'finish': 1045, 'champagne': 1046, 'every': 1047, 'crystal': 1048, 'scrub': 1049, 'pints': 1050, 'on': 1051, 'scraping': 1052, 'that': 1053, 'hands': 1054, 'leaving': 1055, 'slices': 1056, 'beaten': 1057, 'flatten': 1058, 'rinsing': 1059, 'rises': 1060, 'vegetables': 1061, 'grease': 1062, 'firm': 1063, 'active': 1064, 'kernel': 1065, 'blanch': 1066, 'bell': 1067, 'cakes': 1068, 'during': 1069, 'knives': 1070, 'brussels': 1071, 'aside': 1072, 'very': 1073, 'poultry': 1074, 'watch': 1075, 'combination': 1076, 'after': 1077, 'scoops': 1078, 'cluster': 1079, 'beverages': 1080, 'chopper': 1081, 'near': 1082, 'self': 1083, 'oyster': 1084, 'flavoring': 1085, 'steak': 1086, 'moistened': 1087, 'crush': 1088, 'indirect': 1089, 'italianstyle': 1090, 'chopped': 1091, 'fitting': 1092, 'select': 1093, 'cauliflower': 1094, 'supreme': 1095, 'layers': 1096, 'diagonal': 1097, 'chocolates': 1098, 'crisco': 1099, 'go': 1100, 'prayers': 1101, 'griddle': 1102, 'colored': 1103, 'fasten': 1104, 'almonds': 1105, 'table': 1106, 'raw': 1107, 'chitterlings': 1108, 'alternating': 1109, 'drained': 1110, 'spreadable': 1111, 'saut': 1112, 'people': 1113, 'ungreased': 1114, 'allow': 1115, 'boiled': 1116, 'sweetener': 1117, 'degrees': 1118, 'oleomargarine': 1119, 'safflower': 1120, 'grapefruit': 1121, 'dropping': 1122, 'special': 1123, 'cholesterol': 1124, 'remaining': 1125, 'acting': 1126, 'hot': 1127, 'future': 1128, 'packaged': 1129, 'wedge': 1130, 'piping': 1131, 'enjoy': 1132, 'soda': 1133, 'sandwich': 1134, 'chicken': 1135, 'tenderloin': 1136, 'oblong': 1137, 'thirds': 1138, 'tuck': 1139, 'edges': 1140, 'tiny': 1141, 'vermicelli': 1142, 'bun': 1143, 'patty': 1144, 'around': 1145, 'brine': 1146, 'game': 1147, 'cross': 1148, 'plate': 1149, 'curry': 1150, 'beginning': 1151, 'n': 1152, 'individually': 1153, 'orzo': 1154, 'boneless': 1155, 'are': 1156, 'alone': 1157, 'bread': 1158, 'tabasco': 1159, 'you': 1160, 'shoots': 1161, 'mints': 1162, '10x': 1163, 'crusty': 1164, 'meatballs': 1165, 'cornmeal': 1166, 'working': 1167, 'taking': 1168, 'prune': 1169, 'lemonlime': 1170, 'way': 1171, 'pimentos': 1172, 'watercress': 1173, 'within': 1174, 'strip': 1175, 'easy': 1176, 'freezes': 1177, 'discarding': 1178, 'dates': 1179, 'indefinitely': 1180, 'mold': 1181, 'alcohol': 1182, 'crawfish': 1183, 'flours': 1184, 'unwrap': 1185, 'spins': 1186, 'dropped': 1187, 'deep': 1188, 'escape': 1189, 'medium': 1190, 'third': 1191, 'smearing': 1192, 'flake': 1193, 'mint': 1194, 'duty': 1195, 'temperature': 1196, 'ranch': 1197, 'cantaloupe': 1198, 'glazed': 1199, '300': 1200, 'parmesan': 1201, 'exchanges': 1202, 'oregano': 1203, 'included': 1204, 'absorb': 1205, 'phyllo': 1206, 'crepe': 1207, 'pasta': 1208, 'part': 1209, 'soft': 1210, 'deli': 1211, 'sausages': 1212, 'being': 1213, 'cools': 1214, 'strain': 1215, 'own': 1216, 'realemon': 1217, 'allbran': 1218, 'gently': 1219, 'packages': 1220, 'saltine': 1221, 'northern': 1222, 'lower': 1223, 'peppermint': 1224, 'pint': 1225, 'contents': 1226, 'test': 1227, 'juices': 1228, 'herbs': 1229, 'mascarpone': 1230, 'pepperoni': 1231, 'pasteurized': 1232, 'flower': 1233, 'cup': 1234, 'roaster': 1235, 'hormel': 1236, 'amounts': 1237, 'wishbone': 1238, 'graham': 1239, 'flavors': 1240, 'seasoned': 1241, 'homemade': 1242, 'log': 1243, 'reduce': 1244, 'across': 1245, 'slits': 1246, 'eight': 1247, 'stage': 1248, 'draw': 1249, 'pour': 1250, 'soon': 1251, 'juicy': 1252, 'full': 1253, 'strips': 1254, 'equally': 1255, 'lay': 1256, 'pig': 1257, 'generous': 1258, 'curls': 1259, 'slush': 1260, 'granules': 1261, 'glutamate': 1262, 'hand': 1263, 'finger': 1264, 'brush': 1265, 'proceed': 1266, 'suit': 1267, 'cutting': 1268, 'floured': 1269, 'twist': 1270, 'now': 1271, 'crumbling': 1272, 'fish': 1273, 'button': 1274, 'as': 1275, 'tastes': 1276, 'wrapper': 1277, 'filling': 1278, 'chile': 1279, 'heavy': 1280, 'gravy': 1281, 'bombs': 1282, 'check': 1283, 'perk': 1284, 'foamy': 1285, 'bars': 1286, 'try': 1287, 'should': 1288, 'cover': 1289, 'smoothness': 1290, 'toppings': 1291, 'salad': 1292, 'scorching': 1293, 'marinade': 1294, 'mace': 1295, 'shavings': 1296, 'tray': 1297, 'bacon': 1298, 'much': 1299, 'onions': 1300, 'fork': 1301, 'pimiento': 1302, 'still': 1303, 'hardened': 1304, 'ladle': 1305, 'rolling': 1306, 'mixtures': 1307, 'continually': 1308, 'stuff': 1309, 'kettle': 1310, 'substitute': 1311, 'avocado': 1312, 'truss': 1313, 'pies': 1314, 'rolls': 1315, 'wedges': 1316, 'blueberry': 1317, 'warm': 1318, 'spanish': 1319, 'whipped': 1320, 'fruit': 1321, 'tight': 1322, 'coated': 1323, 'puree': 1324, 'roasting': 1325, 'under': 1326, 'smile': 1327, 'both': 1328, 'fingertips': 1329, 'crunchies': 1330, 'butterfingers': 1331, 'sliced': 1332, 'cube': 1333, 'lastly': 1334, 'cupcake': 1335, 'blend': 1336, 'shallots': 1337, 'pepsi': 1338, 'toy': 1339, 'knox': 1340, 'reserved': 1341, 'maraschino': 1342, 'mounds': 1343, 'stem': 1344, 'sets': 1345, 'croquette': 1346, 'brownies': 1347, 'tips': 1348, 'hamburgers': 1349, 'bermuda': 1350, 'bowls': 1351, 'peanut': 1352, 'avoid': 1353, 'thyme': 1354, 'put': 1355, 'chilli': 1356, 'muffins': 1357, 'cherry': 1358, 'deviled': 1359, 'fruits': 1360, 'dog': 1361, 'foil': 1362, 'fry': 1363, 'richer': 1364, 'better': 1365, 'fully': 1366, 'best': 1367, 'congealed': 1368, 'early': 1369, 'kahlua': 1370, 'looks': 1371, 'dividing': 1372, 'smoke': 1373, 'limas': 1374, 'liqueur': 1375, 'croutons': 1376, 'grits': 1377, 'inch': 1378, 'jus': 1379, 'choc': 1380, 'onion': 1381, 'months': 1382, 'noodles': 1383, 'horizontally': 1384, 'want': 1385, 'pkg': 1386, 'sauce': 1387, 'molasses': 1388, 'sifted': 1389, 'opaque': 1390, 'll': 1391, 'zest': 1392, 'quick': 1393, 'hershey': 1394, 'flavored': 1395, 'reduced': 1396, 'thick': 1397, 'baby': 1398, 'sealing': 1399, 'line': 1400, 'skewer': 1401, 'dijon': 1402, 'tater': 1403, 'filo': 1404, 'camembert': 1405, 'mustard': 1406, 'was': 1407, 'cake': 1408, 'till': 1409, 'ziploc': 1410, 'rock': 1411, 'loosely': 1412, 'hollow': 1413, 'cider': 1414, 'caraway': 1415, 'condensed': 1416, 'inside': 1417, 'anise': 1418, 'sweat': 1419, 'browned': 1420, 'stay': 1421, 'chowder': 1422, 'doubled': 1423, '80': 1424, 'lobster': 1425, 'all': 1426, 'freeze': 1427, 'steep': 1428, 'more': 1429, 'would': 1430, 'plates': 1431, 'airtight': 1432, 'lamb': 1433, 'lumpy': 1434, 'it': 1435, 'collards': 1436, 'vegall': 1437, 'cocktail': 1438, 'picks': 1439, 'breading': 1440, 'bittersweet': 1441, 'most': 1442, 'strings': 1443, 'tie': 1444, 'elastic': 1445, 'freezing': 1446, 'slide': 1447, '240': 1448, 'fluff': 1449, 'precooked': 1450, 'less': 1451, 'omitted': 1452, 'soap': 1453, 'ladyfingers': 1454, 'halves': 1455, 'salami': 1456, 'prepare': 1457, 'persimmons': 1458, 'bird': 1459, 'strawberry': 1460, 'absorbed': 1461, 'dump': 1462, 'sterilize': 1463, '90': 1464, 'so': 1465, 'sour': 1466, 'handle': 1467, 'awhile': 1468, 'quarter': 1469, 'banana': 1470, 'mince': 1471, 'wafer': 1472, 'bubble': 1473, 'liver': 1474, 'carefully': 1475, 'anchovy': 1476, 'diagonally': 1477, 'style': 1478, 's': 1479, '3': 1480, 'pods': 1481, 'keeping': 1482, 'hang': 1483, 'family': 1484, 'solids': 1485, 'quickly': 1486, 'butterfly': 1487, 'maximum': 1488, 'needs': 1489, 'or': 1490, 'giblets': 1491, '6': 1492, 'jalapenos': 1493, 'per': 1494, 'sugar': 1495, 'balance': 1496, 'melts': 1497, 'directed': 1498, 'day': 1499, 'kettles': 1500, 'liquid': 1501, 'circle': 1502, 'choose': 1503, 'opening': 1504, 'evenly': 1505, 'hens': 1506, 'pack': 1507, 'sunflower': 1508, 'sesame': 1509, 'quarts': 1510, 'candies': 1511, 'wait': 1512, 'carrot': 1513, 'reaches': 1514, 'open': 1515, 'p': 1516, 'buttermilk': 1517, 'tall': 1518, 'holes': 1519, 'decorating': 1520, 'removing': 1521, 'garnish': 1522, 'crank': 1523, 'cucumbers': 1524, 'cola': 1525, 'yum': 1526, 'not': 1527, 'butterfinger': 1528, 'peas': 1529, 'figs': 1530, 'racks': 1531, 'closely': 1532, 'one': 1533, 'undrained': 1534, 'powder': 1535, 'loaf': 1536, 'nestle': 1537, 'dente': 1538, 'stroganoff': 1539, 'macaroni': 1540, 'crumb': 1541, 'motion': 1542, 'cornish': 1543, 'pimento': 1544, 'deer': 1545, 'cracked': 1546, 'tails': 1547, 'segments': 1548, 'eagle': 1549, 'pickles': 1550, 'wanted': 1551, 'combine': 1552, 'their': 1553, 'mouth': 1554, 'onto': 1555, 'trifle': 1556, 'rest': 1557, 'decorative': 1558, 'extremely': 1559, 'once': 1560, 'sift': 1561, 'simmer': 1562, '10': 1563, 'easier': 1564, 'larger': 1565, 'mug': 1566, 'outer': 1567, 'slivered': 1568, 'soak': 1569, 'saffron': 1570, 'melba': 1571, 'seasoning': 1572, 'relish': 1573, 'cornflakes': 1574, 'bubbles': 1575, 'sides': 1576, 'jar': 1577, 'waxed': 1578, 'hold': 1579, 'dissolved': 1580, 'always': 1581, 'pats': 1582, 'maybe': 1583, 'parts': 1584, 'run': 1585, 'flank': 1586, 'sticking': 1587, 'monde': 1588, 'seams': 1589, 'fries': 1590, 'group': 1591, 'sprinkle': 1592, 'chop': 1593, 'upon': 1594, 'corns': 1595, 'tortilla': 1596, 'heat': 1597, 'lot': 1598, 'lots': 1599, 'fettuccine': 1600, 'winter': 1601, 'puff': 1602, 'reheated': 1603, 'either': 1604, 'ripe': 1605, 'corn': 1606, 'mixed': 1607, 'the': 1608, 'cracker': 1609, 'tuna': 1610, 'stems': 1611, 'purchased': 1612, 'chunk': 1613, 'rich': 1614, 'additional': 1615, 'firmly': 1616, 'tins': 1617, 'crock': 1618, 'clams': 1619, 'almost': 1620, 'continuously': 1621, 'mayonnaise': 1622, 'ahead': 1623, 'pureed': 1624, 'breakfast': 1625, '1st': 1626, 'drink': 1627, 'human': 1628, 'served': 1629, 'making': 1630, 'preference': 1631, 'granola': 1632, 'canning': 1633, 'understanding': 1634, 'slowly': 1635, 'many': 1636, 'lined': 1637, '24': 1638, 'peanuts': 1639, 'lasts': 1640, 'unsalted': 1641, 'never': 1642, 'basting': 1643, 'hamburg': 1644, 'kool': 1645, 'oeuvre': 1646, 'careful': 1647, 'tarragon': 1648, 'they': 1649, 'room': 1650, 'undiluted': 1651, 'loin': 1652, 'hair': 1653, 'bubbling': 1654, 'king': 1655, 'cole': 1656, 'necessary': 1657, 'pans': 1658, 'volume': 1659, 'anchor': 1660, 'miniature': 1661, 'sherry': 1662, 'membranes': 1663, 'thousand': 1664, 'rye': 1665, 'boned': 1666, 'mugs': 1667, 'transfer': 1668, 'caramels': 1669, 'parsley': 1670, '4': 1671, 'frankfurters': 1672, 'scrambled': 1673, 'hawaiian': 1674, 'chunked': 1675, 'dozen': 1676, 'squares': 1677, 'forms': 1678, 'tapioca': 1679, 'dollop': 1680, 'evaporates': 1681, 'caps': 1682, 'lean': 1683, 'checking': 1684, 'tears': 1685, 'stocks': 1686, 'rabbits': 1687, 'repeat': 1688, 'lasagna': 1689, 'a': 1690, 'persimmon': 1691, 'cashews': 1692, 'turnips': 1693, 'packed': 1694, 'square': 1695, 'seems': 1696, 'throw': 1697, '35': 1698, 'crumbly': 1699, 'dandelion': 1700, 'gloss': 1701, 'allowed': 1702, 'dry': 1703, 'release': 1704, 'back': 1705, 'ramen': 1706, 'coriander': 1707, 'seam': 1708, 'tamari': 1709, 'florets': 1710, 'whatever': 1711, 'upside': 1712, 'hash': 1713, 'mixes': 1714, 'unmold': 1715, 'trout': 1716, 'sterilized': 1717, 'halved': 1718, 'rectangle': 1719, 'food': 1720, 'spoke': 1721, 'spoons': 1722, 'paint': 1723, 'worcestershire': 1724, 'tea': 1725, 'drain': 1726, 'luke': 1727, 'tap': 1728, 'tomatoes': 1729, 'batter': 1730, 'measure': 1731, 'poured': 1732, 'packet': 1733, 'bay': 1734, 'mocha': 1735, 'total': 1736, 'knorr': 1737, '20': 1738, 'sun': 1739, 'smoked': 1740, 'need': 1741, 'pickling': 1742, 'cheesecloth': 1743, 'usually': 1744, 'thermometer': 1745, 'ham': 1746, 'shows': 1747, 'pea': 1748, 'chickpeas': 1749, 'edge': 1750, 'spiral': 1751, 'soy': 1752, 'thickening': 1753, 'springs': 1754, 'pheasant': 1755, 'beater': 1756, 'few': 1757, 'comes': 1758, 'slow': 1759, 'oreos': 1760, 'discard': 1761, 'sink': 1762, 'hocks': 1763, 'waffles': 1764, 'marshmallows': 1765, '375': 1766, 'skins': 1767, 'clam': 1768, 'remainder': 1769, 'resistant': 1770, 'equal': 1771, 'flavorings': 1772, 'optional': 1773, 'ounce': 1774, 'barbecue': 1775, 'thumb': 1776, 'like': 1777, 'beating': 1778, 'jars': 1779, '14': 1780, 'toothpicks': 1781, 'church': 1782, 'building': 1783, 'outside': 1784, 'pliable': 1785, 'junior': 1786, 'owens': 1787, 'nachos': 1788, 'custard': 1789, 'chestnuts': 1790, 'havarti': 1791, 'pork': 1792, 'blender': 1793, 'lengthwise': 1794, 'had': 1795, 'overmix': 1796, 'bean': 1797, 'breadcrumbs': 1798, 'running': 1799, 'lift': 1800, 'tossed': 1801, 'blossoms': 1802, 'saute': 1803, 'single': 1804, 'blackberries': 1805, 'red': 1806, 'creaming': 1807, 'drizzle': 1808, 'coats': 1809, 'cupcakes': 1810, 'jelly': 1811, 'nutmeats': 1812, 'holds': 1813, 'scallions': 1814, 'bring': 1815, '60': 1816, 'dutch': 1817, 'empty': 1818, 'seafood': 1819, 'cottage': 1820, 'turns': 1821, 'manufacturer': 1822, 'gentle': 1823, 'crunch': 1824, 'capers': 1825, 'increase': 1826, 'accent': 1827, 'oval': 1828, 'aluminum': 1829, 'garnishes': 1830, 'joy': 1831, 'upright': 1832, '50': 1833, 'has': 1834, 'shin': 1835, 'stalk': 1836, '350': 1837, 'kneading': 1838, 'setting': 1839, 'before': 1840, 'pan': 1841, 'flavor': 1842, 'rotating': 1843, 'drippings': 1844, 'block': 1845, 'corners': 1846, 'followed': 1847, 'desire': 1848, 'lavender': 1849, 'carrots': 1850, 'air': 1851, 'extract': 1852, 'piece': 1853, '130': 1854, 'mountain': 1855, 'sack': 1856, 'fluffy': 1857, 'field': 1858, '30': 1859, 'portions': 1860, '234': 1861, 'preheating': 1862, 'yogurt': 1863, 'eat': 1864, 'refrigerated': 1865, 'make': 1866, 'ready': 1867, 'score': 1868, 'comino': 1869, 'healthy': 1870, 'wraps': 1871, 'pale': 1872, 'blending': 1873, 'child': 1874, 'dumplings': 1875, 'boxes': 1876, 'yields': 1877, 'peeled': 1878, 'stuffed': 1879, 'jellyroll': 1880, 'holding': 1881, 'meal': 1882, 'washed': 1883, 'gelatine': 1884, 'candy': 1885, 'mozzarella': 1886, 'could': 1887, 'taffy': 1888, 'an': 1889, 'longhorn': 1890, 'alum': 1891, 'dressing': 1892, 'basket': 1893, 'change': 1894, 'including': 1895, 'chinese': 1896, 'point': 1897, '250': 1898, 'alternate': 1899, 'lowfat': 1900, 'meaty': 1901, 'fryer': 1902, 'spicy': 1903, 'brown': 1904, 'frothy': 1905, 'get': 1906, 'listed': 1907, 'eggplant': 1908, 'and': 1909, 'wide': 1910, 'baker': 1911, 'row': 1912, 'buns': 1913, 'monosodium': 1914, 'tofu': 1915, 'm': 1916, '2nd': 1917, 'shellfish': 1918, 'sherbet': 1919, 'starting': 1920, 'sharp': 1921, 'curdle': 1922, 'pectin': 1923, 'containers': 1924, 'bubbly': 1925, 'marble': 1926, 'note': 1927, 'krispies': 1928, 'cream': 1929, 'heating': 1930, 'frying': 1931, 'burn': 1932, 'bakes': 1933, 'spareribs': 1934, 'those': 1935, 'margarine': 1936, 'wieners': 1937, 'popped': 1938, 'let': 1939, 'together': 1940, 'folding': 1941, 'consomme': 1942, 'bigger': 1943, 'narrow': 1944, 'milk': 1945, 'alternately': 1946, 'biscuit': 1947, 'worms': 1948, 'apart': 1949, 'breasts': 1950, 'breads': 1951, 'pare': 1952, 'lengths': 1953, 'kosher': 1954, 'teaspoonfuls': 1955, 'at': 1956, 'thin': 1957, 'refried': 1958, 'prick': 1959, 'oysters': 1960, 'kidney': 1961, 'wild': 1962, 'blueberries': 1963, 'entire': 1964, 'preheat': 1965, 'nacho': 1966, 'shoulder': 1967, 'honey': 1968, 'separate': 1969, 'citron': 1970, 'spooned': 1971, 'is': 1972, 'cans': 1973, 'apples': 1974, 'also': 1975, 'saucepan': 1976, 'mushroom': 1977, 'lemon': 1978, 'instead': 1979, 'tablespoon': 1980, 'yolks': 1981, 'turned': 1982, 'tests': 1983, 'limes': 1984, 'soba': 1985, 'kids': 1986, 'do': 1987, 'wrapped': 1988, 'double': 1989, 'sizzling': 1990, 'peek': 1991, 'move': 1992, 'pops': 1993, 'mcbutter': 1994, 'days': 1995, 'party': 1996, 'makes': 1997, 'sweet': 1998, 'chuck': 1999, 'person': 2000, 'coffee': 2001, 'crack': 2002, 'stalks': 2003, '450': 2004, 'roni': 2005, 'solution': 2006, 'chunky': 2007, 'liberally': 2008, 'remember': 2009, 'equals': 2010, 'proof': 2011, 'k': 2012, 'flowers': 2013, 'eaten': 2014, 'remain': 2015, 'electric': 2016, 'ounces': 2017, 'bar': 2018, 'logs': 2019, 'correct': 2020, 'tortellini': 2021, 'without': 2022, 'placed': 2023, 'regularly': 2024, 'greased': 2025, 'fix': 2026, 'shut': 2027, 'vessel': 2028, 'dashes': 2029, 'grahams': 2030, 'hotter': 2031, 'trimmings': 2032, 'there': 2033, 'peel': 2034, 'gumdrops': 2035, 'minced': 2036, 'hole': 2037, 'pumpkin': 2038, 'zinfandel': 2039, 'push': 2040, 'irish': 2041, 'give': 2042, 'purpose': 2043, 'marnier': 2044, 'rotate': 2045, 'syrup': 2046, 'invert': 2047, 'regular': 2048, 'milnot': 2049, 'de': 2050, 'hen': 2051, 'kale': 2052, 'be': 2053, 'shears': 2054, 'cloves': 2055, 'cayenne': 2056, 'diluted': 2057, 'gruyere': 2058, 'ragu': 2059, 'hr': 2060, 'shiny': 2061, 'golden': 2062, 'everything': 2063, 'wok': 2064, 'bran': 2065, 'kiss': 2066, 'directly': 2067, 'brand': 2068, 'indention': 2069, 'drinks': 2070, 'cooks': 2071, 'angel': 2072, 'loosen': 2073, 'squirt': 2074, 'moderate': 2075, 'kept': 2076, 'brushing': 2077, 'containing': 2078, 'dishes': 2079, 'how': 2080, 'storage': 2081, 'unroll': 2082, 'center': 2083, 'assorted': 2084, 'blackberry': 2085, 'steady': 2086, 'rather': 2087, 'peppercorns': 2088, '425': 2089, 'ingredient': 2090, 'flakes': 2091, 'rotelle': 2092, 'samuel': 2093, '18': 2094, 'monterey': 2095, 'base': 2096, 'hots': 2097, 'cubed': 2098, 'particles': 2099, 'white': 2100, 'bananas': 2101, 'draft': 2102, 'resembles': 2103, 'float': 2104, 'clumping': 2105, 'fun': 2106, 'burgers': 2107, 'bourbon': 2108, 'lunch': 2109, '22': 2110, 'rings': 2111, 'x': 2112, 'breaking': 2113, 'nuts': 2114, 'jack': 2115, 'crumble': 2116, 'garbanzos': 2117, 'absorbent': 2118, 'kernels': 2119, 'walnut': 2120, 'browning': 2121, 'chives': 2122, '7': 2123, 'keep': 2124, 'guacamole': 2125, 'apply': 2126, 'tbsp': 2127, 'spots': 2128, 'parboil': 2129, 'label': 2130, 'philadelphia': 2131, 'fats': 2132, 'maple': 2133, 'smash': 2134, 'black': 2135, 'have': 2136, 'hidden': 2137, 'allpurpose': 2138, 'just': 2139, 'head': 2140, 'broiler': 2141, 'sit': 2142, 'turn': 2143, 'pieces': 2144, 'sage': 2145, 'allowing': 2146, 'pronged': 2147, 'bite': 2148, 'yield': 2149, 'soften': 2150, 'harden': 2151, 'seasonall': 2152, 'wipe': 2153, 'slotted': 2154, 'freshly': 2155, 'nonfat': 2156, 'cubes': 2157, 'immediately': 2158, 'asparagus': 2159, '33': 2160, 'scatter': 2161, 'lettuce': 2162, 'clusters': 2163, 'biscuits': 2164, 'stick': 2165, 'cornbread': 2166, 'see': 2167, 'stir': 2168, 'elephant': 2169, 'taco': 2170, 'tablespoonfuls': 2171, 'leeks': 2172, 'squirrels': 2173, 'often': 2174, 'gummy': 2175, 'vigorously': 2176, 'swirl': 2177, 'pizza': 2178, 'broil': 2179, 'dissolve': 2180, 'pinto': 2181, 'such': 2182, 'prior': 2183, 'tear': 2184, 'cornflake': 2185, 'securely': 2186, 'etc': 2187, 'anything': 2188, 'zita': 2189, 'topped': 2190, 'microwavable': 2191, 'pretzels': 2192, 'candle': 2193, 'bagels': 2194, 'deeds': 2195, 'rivels': 2196, '365': 2197, 'delicious': 2198, 'tidbits': 2199, 'mill': 2200, 'sheet': 2201, 'colander': 2202, 'frosting': 2203, 'f': 2204, 'crescent': 2205, 'greens': 2206, 'spiced': 2207, 'pizzas': 2208, 'blue': 2209, 'topping': 2210, 'fast': 2211, '40': 2212, 'concentrate': 2213, 'nondairy': 2214, 'crunchy': 2215, 'grain': 2216, 'grocery': 2217, 'heaping': 2218, 'fillet': 2219, 'tupperware': 2220, 'lighten': 2221, 'mallet': 2222, 'generously': 2223, 'processor': 2224, 'cooked': 2225, 'olives': 2226, 'marsala': 2227, 'time': 2228, 'bone': 2229, 'bitters': 2230, 'bundles': 2231, 'surround': 2232, 'become': 2233, 'everyone': 2234, 'preserves': 2235, 'pound': 2236, 'reused': 2237, 'type': 2238, 'cuts': 2239, 'look': 2240, 'resemble': 2241, 'sorghum': 2242, 'xxxx': 2243, 'probably': 2244, 'confectioners': 2245, 'pit': 2246, 'broken': 2247, 'whole': 2248, 'tablespoons': 2249, 'alfalfa': 2250, 'shrimp': 2251, 'perforations': 2252, 'hour': 2253, 'veal': 2254, 'newspaper': 2255, 'skewers': 2256, 'gallon': 2257, 'potatoes': 2258, 'too': 2259, 'excess': 2260, 'does': 2261, 'brisket': 2262, 'dredge': 2263, 'fluid': 2264, 'personal': 2265, 'kisses': 2266, 'below': 2267, 'mushrooms': 2268, 'altogether': 2269, 'mango': 2270, 'enchiladas': 2271, 'cracks': 2272, 'surface': 2273, '45': 2274, 'limp': 2275, 'find': 2276, 'favorite': 2277, 'than': 2278, 'crispies': 2279, 'grill': 2280, 'rhubarb': 2281, '9x13': 2282, 'if': 2283, 'layer': 2284, '32': 2285, 'similar': 2286, 'softened': 2287, 'individual': 2288, 'new': 2289, 'island': 2290, 'thickens': 2291, 'grenadine': 2292, 'preparing': 2293, 'mexican': 2294, 'when': 2295, 'rapidly': 2296, 'sieve': 2297, '112': 2298, 'boston': 2299, 're': 2300, 'uncooked': 2301, 'pancake': 2302, 'puffs': 2303, 'linguine': 2304, 'shake': 2305, 'lasagne': 2306, 'luncheon': 2307, 'gelatin': 2308, 'whitefish': 2309, 'aid': 2310, 'tostitos': 2311, 'steaks': 2312, 'garnished': 2313, 'lemons': 2314, 'fritos': 2315, 'closed': 2316, 'skinless': 2317, 'exactly': 2318, 'arrange': 2319, 'fold': 2320, 'crosswise': 2321, 'until': 2322, 'crumbs': 2323, 'wet': 2324, 'oil': 2325, 'measuring': 2326, 'cereal': 2327, 'break': 2328, 'something': 2329, 'sooner': 2330, 'crisp': 2331, 'stewed': 2332, 'sec': 2333, 'steel': 2334, 'goes': 2335, '5': 2336, 'incorporate': 2337, 'handful': 2338, 'order': 2339, 'second': 2340, 'paprika': 2341, 'root': 2342, 'mayo': 2343, 'walnuts': 2344, 'canola': 2345, 'clean': 2346, 'through': 2347, 'solid': 2348, 'chops': 2349, 'uncover': 2350, 'bulk': 2351, 'called': 2352, 'least': 2353, 'sauerkraut': 2354, 'squeezed': 2355, 'helps': 2356, 'must': 2357, 'towels': 2358, 'tied': 2359, 'germ': 2360, 'mostaccioli': 2361, 'pistachio': 2362, '150': 2363, 'dunk': 2364, 'will': 2365, 'given': 2366, 'sticky': 2367, 'wings': 2368, 'dessert': 2369, 'create': 2370, 'thicken': 2371, 'briefly': 2372, 'spatula': 2373, 't': 2374, 'apricot': 2375, 'cucumber': 2376, '325': 2377, 'al': 2378, 'themselves': 2379, 'come': 2380, 'diet': 2381, 'large': 2382, 'pimientos': 2383, '23': 2384, 'taken': 2385, 'down': 2386, 'appear': 2387, 'artificial': 2388, 'puffy': 2389, 'bones': 2390, 'wesson': 2391, 'g': 2392, 'saucer': 2393, 'groundhog': 2394, 'mullet': 2395, 'week': 2396, 'teaspoon': 2397, 'don': 2398, 'five': 2399, 'seasons': 2400, 'placing': 2401, 'iron': 2402, 'rice': 2403, 'nearly': 2404, 'starts': 2405, 'cracklins': 2406, 'touching': 2407, 'ziti': 2408, 'stirred': 2409, 'fashioned': 2410, 'triangle': 2411, 'vent': 2412, 'avocados': 2413, 'freezer': 2414, 'peck': 2415, 'counter': 2416, 'romaine': 2417, 'oz': 2418, 'chipped': 2419, 'frost': 2420, 'stiffly': 2421, 'clove': 2422, 'door': 2423, 'scallops': 2424, 'flowerets': 2425, 'country': 2426, 'frypan': 2427, 'niblets': 2428, 'reserving': 2429, 'spears': 2430, 'icebox': 2431, 'cooling': 2432, 'degree': 2433, 'middle': 2434, 'gradually': 2435, 'lard': 2436, 'carman': 2437, 'burning': 2438, 'broccoli': 2439, 'reheat': 2440, 'pear': 2441, 'baste': 2442, 'off': 2443, 'liners': 2444, 'mixing': 2445, 'scramble': 2446, 'syrupy': 2447, 'whip': 2448, 'pie': 2449, 'dippers': 2450, 'fridge': 2451, 'simmering': 2452, 'icing': 2453, 'bowl': 2454, 'diameter': 2455, 'sprinkling': 2456, 'slight': 2457, 'ensure': 2458, 'decorate': 2459, 'pam': 2460, 'waverly': 2461, 'able': 2462, 'fondant': 2463, 'wooden': 2464, '370': 2465, 'while': 2466, 'itself': 2467, 'can': 2468, 'countertop': 2469, 'morning': 2470, 'excellent': 2471, 'layering': 2472, 'amaretto': 2473, 'high': 2474, 'these': 2475, 'whiz': 2476, 'flaky': 2477, 'paste': 2478, 'quart': 2479, 'nectar': 2480, 'away': 2481, 'thread': 2482, 'oat': 2483, 'prebaked': 2484, 'stack': 2485, 'over': 2486, 'peach': 2487, 'creamette': 2488, 'puffed': 2489, 'liquor': 2490, 'seem': 2491, 'finished': 2492, 'doneness': 2493, 'plastic': 2494, 'squirrel': 2495, 'artichoke': 2496, 'squash': 2497, 'garbanzo': 2498, '475': 2499, 'appearance': 2500, 'potato': 2501, 'weeks': 2502, 'prep': 2503, 'blanched': 2504, 'masher': 2505, 'toss': 2506, 'baguette': 2507, 'paper': 2508, 'cooker': 2509, 'add': 2510, 'gumbo': 2511, 'thaw': 2512, 'tinfoil': 2513, 'flattened': 2514, 'following': 2515, 'thickness': 2516, 'doritos': 2517, 'cookie': 2518, 'cut': 2519, 'congeal': 2520, 'dream': 2521, 'intact': 2522, 'press': 2523, 'start': 2524, 'rub': 2525, 'nine': 2526, 'crabmeat': 2527, 'because': 2528, 'color': 2529, 'butterscotch': 2530, 'thicker': 2531, 'stirring': 2532, 'quarters': 2533, 'power': 2534, 'may': 2535, 'grape': 2536, 'scoop': 2537, 'cornstarch': 2538, 'shapes': 2539, 'catsup': 2540, 'barely': 2541, 'hollowed': 2542, 'brownie': 2543, 'cups': 2544, 'palm': 2545, 'strokes': 2546, 'frozen': 2547, 'jam': 2548, 'pecans': 2549, 'mein': 2550, 'four': 2551, 'preparation': 2552, 'christmas': 2553, 'obrien': 2554, 'neck': 2555, 'sandwiches': 2556, 'cajun': 2557, 'contains': 2558, 'no': 2559, 'loose': 2560, 'translucent': 2561, 'nut': 2562, 'mandarin': 2563, 'scramblers': 2564, 'gouda': 2565, 'stone': 2566, 'triangles': 2567, 'rum': 2568, 'hamburger': 2569, 'fit': 2570, 'later': 2571, 'scant': 2572, 'lemonade': 2573, 'boiling': 2574, '15': 2575, 'melt': 2576, 'boiler': 2577, '12': 2578, 'creole': 2579, 'quantity': 2580, 'inches': 2581, 'ritz': 2582, 'awful': 2583, 'grilled': 2584, 'tortillas': 2585, 'sprigs': 2586, 'depth': 2587, 'chilies': 2588, 'helpings': 2589, 'items': 2590, 'hi': 2591, 'by': 2592, 'lukewarm': 2593, 'width': 2594, 'birds': 2595, 'pancakes': 2596, 'preferred': 2597, 'tender': 2598, 'butterflied': 2599, 'packets': 2600, 'vegetable': 2601, 'unbaked': 2602, 'envelopes': 2603, 'pinch': 2604, 'ingredients': 2605, 'prunes': 2606, 'board': 2607, 'balsamic': 2608, 'tongs': 2609, 'spinach': 2610, 'fudge': 2611, 'kind': 2612, 'already': 2613, 'olive': 2614, 'which': 2615, 'box': 2616, 'basic': 2617, 'each': 2618, 'says': 2619, 'month': 2620, 'bottle': 2621, 'pulled': 2622, 'oranges': 2623, 'approximately': 2624, 'holidays': 2625, 'turkey': 2626, 'pulls': 2627, 'stored': 2628, 'clings': 2629, 'keeps': 2630, 'easily': 2631, 'medal': 2632, '400': 2633, 'crab': 2634, 'elbow': 2635}\n"
     ]
    }
   ],
   "source": [
    "# store vocab into a .json file\n",
    "vocab = json.load(open('./data/vocab.json', 'r'))\n",
    "vocab_stoi = {s: i for i, s in enumerate(vocab)}\n",
    "vocab_itos = {i: s for i, s in enumerate(vocab)}\n",
    "vocab_size = len(vocab)\n",
    "\n",
    "print(vocab_stoi)"
   ]
  },
  {
   "attachments": {},
   "cell_type": "markdown",
   "metadata": {},
   "source": [
    "### Token to Index"
   ]
  },
  {
   "cell_type": "code",
   "execution_count": 454,
   "metadata": {},
   "outputs": [
    {
     "name": "stdout",
     "output_type": "stream",
     "text": [
      "[343, 1086, 1254, 203, 333, 1904, 203, 980, 817, 1909, 484, 1552, 846, 1501, 42, 1300, 1909, 1420, 1086, 1289, 1909, 1562, 264, 1533, 1909, 1690, 1469, 43, 2350, 1909, 2168, 203, 1724, 1387, 2510, 1729, 1001, 645, 1909, 1562, 264, 2336, 75, 1038, 2486, 1127, 2225, 2403]\n"
     ]
    }
   ],
   "source": [
    "if pre_processing == True:\n",
    "    indexed_directions = []\n",
    "    for i, row in tokenized_nlg_df.iterrows():\n",
    "        direction = []\n",
    "        for word in row.combined_directions:\n",
    "            if word in vocab:\n",
    "                direction.append(vocab_stoi[word])\n",
    "        indexed_directions.append(direction)\n",
    "        \n",
    "    print(indexed_directions[8])"
   ]
  },
  {
   "cell_type": "code",
   "execution_count": 455,
   "metadata": {},
   "outputs": [
    {
     "name": "stdout",
     "output_type": "stream",
     "text": [
      "[1729, 42, 1300, 1724, 1387, 1001, 645, 2325]\n"
     ]
    }
   ],
   "source": [
    "if pre_processing == True:\n",
    "    indexed_ingredients = []\n",
    "    for i, row in tokenized_nlg_df.iterrows():\n",
    "        ingredients = []\n",
    "        for ingredient_list in row.ingredients:\n",
    "            for word in ingredient_list:\n",
    "                if word in vocab:\n",
    "                    ingredients.append(vocab_stoi[word])\n",
    "        indexed_ingredients.append(ingredients)\n",
    "        \n",
    "    print(indexed_ingredients[8])"
   ]
  },
  {
   "cell_type": "code",
   "execution_count": 457,
   "metadata": {},
   "outputs": [],
   "source": [
    "if pre_processing == True:\n",
    "    indexed_nlg_df = pd.DataFrame({'directions': indexed_directions, 'ingredients': indexed_ingredients})\n",
    "    #indexed_nlg_df.to_csv('data/indexed_nlg.csv', header=False, index=False)\n",
    "    \n",
    "#indexed_nlg_df = pd.read_csv('data/indexed_nlg.csv', header=None, names=[\"directions\", \"ingredients\"],\n",
    "#                            converters={'directions':pd.eval, 'ingredients':pd.eval})\n",
    "\n",
    "    indexed_nlg_df.to_json('./data/indexed_nlg.json')\n",
    "    \n",
    "indexed_nlg_df = pd.read_json('./data/indexed_nlg.json')"
   ]
  },
  {
   "cell_type": "code",
   "execution_count": 458,
   "metadata": {},
   "outputs": [
    {
     "data": {
      "text/html": [
       "<div>\n",
       "<style scoped>\n",
       "    .dataframe tbody tr th:only-of-type {\n",
       "        vertical-align: middle;\n",
       "    }\n",
       "\n",
       "    .dataframe tbody tr th {\n",
       "        vertical-align: top;\n",
       "    }\n",
       "\n",
       "    .dataframe thead th {\n",
       "        text-align: right;\n",
       "    }\n",
       "</style>\n",
       "<table border=\"1\" class=\"dataframe\">\n",
       "  <thead>\n",
       "    <tr style=\"text-align: right;\">\n",
       "      <th></th>\n",
       "      <th>directions</th>\n",
       "      <th>ingredients</th>\n",
       "    </tr>\n",
       "  </thead>\n",
       "  <tbody>\n",
       "    <tr>\n",
       "      <th>0</th>\n",
       "      <td>[203, 1690, 1280, 991, 2479, 1976, 876, 1904, ...</td>\n",
       "      <td>[1904, 1495, 1945, 448, 2114, 118, 2148, 640, ...</td>\n",
       "    </tr>\n",
       "    <tr>\n",
       "      <th>1</th>\n",
       "      <td>[153, 2419, 280, 1051, 983, 1019, 936, 150, 15...</td>\n",
       "      <td>[280, 1135, 1950, 1929, 1019, 1977, 763, 1466,...</td>\n",
       "    </tr>\n",
       "    <tr>\n",
       "      <th>2</th>\n",
       "      <td>[203, 1690, 1759, 2509, 1552, 1426, 2605, 1289...</td>\n",
       "      <td>[2547, 1606, 1929, 804, 118, 722, 1535, 817, 484]</td>\n",
       "    </tr>\n",
       "  </tbody>\n",
       "</table>\n",
       "</div>"
      ],
      "text/plain": [
       "                                          directions  \\\n",
       "0  [203, 1690, 1280, 991, 2479, 1976, 876, 1904, ...   \n",
       "1  [153, 2419, 280, 1051, 983, 1019, 936, 150, 15...   \n",
       "2  [203, 1690, 1759, 2509, 1552, 1426, 2605, 1289...   \n",
       "\n",
       "                                         ingredients  \n",
       "0  [1904, 1495, 1945, 448, 2114, 118, 2148, 640, ...  \n",
       "1  [280, 1135, 1950, 1929, 1019, 1977, 763, 1466,...  \n",
       "2  [2547, 1606, 1929, 804, 118, 722, 1535, 817, 484]  "
      ]
     },
     "execution_count": 458,
     "metadata": {},
     "output_type": "execute_result"
    }
   ],
   "source": [
    "indexed_nlg_df[:3]"
   ]
  },
  {
   "attachments": {},
   "cell_type": "markdown",
   "metadata": {},
   "source": [
    "### Direction Character Vocabulary\n",
    "For the baseline model, a character based vocabulary will be used instead"
   ]
  },
  {
   "cell_type": "code",
   "execution_count": 459,
   "metadata": {},
   "outputs": [
    {
     "name": "stdout",
     "output_type": "stream",
     "text": [
      "['a', 'b', 'c', 'd', 'e', 'f', 'g', 'h', 'i', 'j', 'k', 'l', 'm', 'n', 'o', 'p', 'q', 'r', 's', 't', 'u', 'v', 'w', 'x', 'y', 'z', '0', '1', '2', '3', '4', '5', '6', '7', '8', '9', ' ', ';']\n",
      "{'a': 0, 'b': 1, 'c': 2, 'd': 3, 'e': 4, 'f': 5, 'g': 6, 'h': 7, 'i': 8, 'j': 9, 'k': 10, 'l': 11, 'm': 12, 'n': 13, 'o': 14, 'p': 15, 'q': 16, 'r': 17, 's': 18, 't': 19, 'u': 20, 'v': 21, 'w': 22, 'x': 23, 'y': 24, 'z': 25, '0': 26, '1': 27, '2': 28, '3': 29, '4': 30, '5': 31, '6': 32, '7': 33, '8': 34, '9': 35, ' ': 36, ';': 37}\n"
     ]
    }
   ],
   "source": [
    "if pre_processing == True:\n",
    "    char_vocab = list(string.ascii_lowercase) + list(string.digits) + [' ', ';']\n",
    "    json.dump(char_vocab, open('./data/char_vocab.json', 'w'))\n",
    "char_vocab = json.load(open('./data/char_vocab.json', 'r'))\n",
    "char_vocab_stoi = {s: i for i, s in enumerate(char_vocab)}\n",
    "char_vocab_itos = {i: s for i, s in enumerate(char_vocab)}\n",
    "char_vocab_size = len(vocab)\n",
    "print(char_vocab)\n",
    "print(char_vocab_stoi)"
   ]
  },
  {
   "cell_type": "code",
   "execution_count": 460,
   "metadata": {},
   "outputs": [],
   "source": [
    "# remove characters not in the character vocabulary\n",
    "chared_directions_list = []\n",
    "chared_ingredients_list = []\n",
    "for i, row in combined_nlg_df.iterrows(): \n",
    "    chared_direction = ''\n",
    "    for char in row.directions:\n",
    "        if char in char_vocab:\n",
    "            chared_direction += char\n",
    "    chared_directions_list.append(chared_direction)\n",
    "    \n",
    "    chared_ingredients = ''\n",
    "    for char in row.ingredients:\n",
    "        if char in char_vocab:\n",
    "            chared_ingredients += char\n",
    "    chared_ingredients_list.append(chared_ingredients)"
   ]
  },
  {
   "cell_type": "code",
   "execution_count": 461,
   "metadata": {},
   "outputs": [],
   "source": [
    "char_nlg_df = pd.DataFrame()\n",
    "char_nlg_df['directions'] = chared_directions_list\n",
    "char_nlg_df['ingredients'] = chared_ingredients_list"
   ]
  },
  {
   "cell_type": "code",
   "execution_count": 462,
   "metadata": {},
   "outputs": [],
   "source": [
    "if pre_processing == True:\n",
    "    char_nlg_df.to_csv('data/char_nlg_df.csv', header=False, index=False)\n",
    "    \n",
    "char_nlg_df = pd.read_csv('data/char_nlg_df.csv', header=None, names=[\"directions\", \"ingredients\"])"
   ]
  },
  {
   "cell_type": "code",
   "execution_count": 463,
   "metadata": {},
   "outputs": [
    {
     "data": {
      "text/html": [
       "<div>\n",
       "<style scoped>\n",
       "    .dataframe tbody tr th:only-of-type {\n",
       "        vertical-align: middle;\n",
       "    }\n",
       "\n",
       "    .dataframe tbody tr th {\n",
       "        vertical-align: top;\n",
       "    }\n",
       "\n",
       "    .dataframe thead th {\n",
       "        text-align: right;\n",
       "    }\n",
       "</style>\n",
       "<table border=\"1\" class=\"dataframe\">\n",
       "  <thead>\n",
       "    <tr style=\"text-align: right;\">\n",
       "      <th></th>\n",
       "      <th>directions</th>\n",
       "      <th>ingredients</th>\n",
       "    </tr>\n",
       "  </thead>\n",
       "  <tbody>\n",
       "    <tr>\n",
       "      <th>0</th>\n",
       "      <td>in a heavy 2 quart saucepan mix brown sugar nu...</td>\n",
       "      <td>brown sugar ; milk ; vanilla ; nuts ; butter ;...</td>\n",
       "    </tr>\n",
       "    <tr>\n",
       "      <th>1</th>\n",
       "      <td>place chipped beef on bottom of baking dish  ;...</td>\n",
       "      <td>beef ; chicken breasts ; cream of mushroom sou...</td>\n",
       "    </tr>\n",
       "    <tr>\n",
       "      <th>2</th>\n",
       "      <td>in a slow cooker combine all ingredients cover...</td>\n",
       "      <td>frozen corn ; cream cheese ; butter ; garlic p...</td>\n",
       "    </tr>\n",
       "  </tbody>\n",
       "</table>\n",
       "</div>"
      ],
      "text/plain": [
       "                                          directions  \\\n",
       "0  in a heavy 2 quart saucepan mix brown sugar nu...   \n",
       "1  place chipped beef on bottom of baking dish  ;...   \n",
       "2  in a slow cooker combine all ingredients cover...   \n",
       "\n",
       "                                         ingredients  \n",
       "0  brown sugar ; milk ; vanilla ; nuts ; butter ;...  \n",
       "1  beef ; chicken breasts ; cream of mushroom sou...  \n",
       "2  frozen corn ; cream cheese ; butter ; garlic p...  "
      ]
     },
     "execution_count": 463,
     "metadata": {},
     "output_type": "execute_result"
    }
   ],
   "source": [
    "char_nlg_df[:3]"
   ]
  },
  {
   "attachments": {},
   "cell_type": "markdown",
   "metadata": {},
   "source": [
    "### Closest Ingredients"
   ]
  },
  {
   "cell_type": "code",
   "execution_count": 490,
   "metadata": {},
   "outputs": [],
   "source": [
    "# param: ingredient - list of strings of an ingredient (tokenized)\n",
    "#        ingredient_df - dataframe containing ingredient vocabulary and\n",
    "#                        their corresponding GloVe embedding\n",
    "# return: string of closest ingredient in vocabulary\n",
    "#         if none (e.g. ingredient has is OOV in GloVe), returns empty string\n",
    "def get_closest_ingredient (ingredient, ingredients_df):\n",
    "    # check if ingredient is in ingredients_df\n",
    "    if len(ingredient) == 1 and ingredient[0] in ingredients_df['ingredient'].values:\n",
    "        return ingredient[0]\n",
    "    \n",
    "    closest_ingredient = ''\n",
    "    smallest_distance = float('inf')\n",
    "    \n",
    "    if (len(ingredient) == 0):\n",
    "        return closest_ingredient\n",
    "    \n",
    "    # compute the GloVe embedding of the ingredient\n",
    "    ingredient_embedding = glove_average(ingredient)\n",
    "    \n",
    "    if torch.count_nonzero(ingredient_embedding) == 0:\n",
    "        return ''\n",
    "    \n",
    "    # compute distances between embeddings, choose the smallest distance\n",
    "    for _, row in ingredients_df.iterrows():\n",
    "        difference = ingredient_embedding - torch.FloatTensor(row['embedding'])\n",
    "        distance = torch.sum(torch.square(difference))\n",
    "        if distance < smallest_distance:\n",
    "            smallest_distance = distance\n",
    "            closest_ingredient = row['ingredient']\n",
    "    \n",
    "    return closest_ingredient"
   ]
  },
  {
   "cell_type": "code",
   "execution_count": 491,
   "metadata": {},
   "outputs": [
    {
     "name": "stdout",
     "output_type": "stream",
     "text": [
      "['brown sugar', 'milk', 'vanilla', 'soy nut', 'butter', 'rice paper']\n"
     ]
    }
   ],
   "source": [
    "if pre_processing == True:\n",
    "    # changes the ingredients list into their corresponding closest ingredients\n",
    "    # in the vocabulary using the GloVe embeddings\n",
    "    NER_closest_ingredients = []\n",
    "\n",
    "    for i, row in tokenized_nlg_df.iterrows():\n",
    "        NER_closest_list = []\n",
    "        for ingredient_tokens in row.ingredients:\n",
    "            NER_closest_list.append( get_closest_ingredient(ingredient_tokens, ingredients_df) )\n",
    "        NER_closest_ingredients.append(NER_closest_list)\n",
    "\n",
    "    print(NER_closest_ingredients[0])"
   ]
  },
  {
   "cell_type": "code",
   "execution_count": 492,
   "metadata": {},
   "outputs": [],
   "source": [
    "if pre_processing == True:\n",
    "    nlg_ingredients_df = pd.DataFrame()\n",
    "    nlg_ingredients_df['token_NER'] = list(tokenized_nlg_df['ingredients'])\n",
    "    nlg_ingredients_df['closest_ingredients'] = NER_closest_ingredients\n",
    "    nlg_ingredients_df.to_csv('data/recipe_nlg/closest_ingredients.csv', header=True, index=True)"
   ]
  },
  {
   "cell_type": "code",
   "execution_count": 493,
   "metadata": {},
   "outputs": [
    {
     "data": {
      "text/html": [
       "<div>\n",
       "<style scoped>\n",
       "    .dataframe tbody tr th:only-of-type {\n",
       "        vertical-align: middle;\n",
       "    }\n",
       "\n",
       "    .dataframe tbody tr th {\n",
       "        vertical-align: top;\n",
       "    }\n",
       "\n",
       "    .dataframe thead th {\n",
       "        text-align: right;\n",
       "    }\n",
       "</style>\n",
       "<table border=\"1\" class=\"dataframe\">\n",
       "  <thead>\n",
       "    <tr style=\"text-align: right;\">\n",
       "      <th></th>\n",
       "      <th>token_NER</th>\n",
       "      <th>closest_ingredients</th>\n",
       "    </tr>\n",
       "  </thead>\n",
       "  <tbody>\n",
       "    <tr>\n",
       "      <th>0</th>\n",
       "      <td>[[brown, sugar], [milk], [vanilla], [nuts], [b...</td>\n",
       "      <td>[brown sugar, milk, vanilla, soy nut, butter, ...</td>\n",
       "    </tr>\n",
       "    <tr>\n",
       "      <th>1</th>\n",
       "      <td>[[beef], [chicken, breasts], [cream, of, mushr...</td>\n",
       "      <td>[beef, chicken, passion fruit, sour cream]</td>\n",
       "    </tr>\n",
       "    <tr>\n",
       "      <th>2</th>\n",
       "      <td>[[frozen, corn], [cream, cheese], [butter], [g...</td>\n",
       "      <td>[corn, cheese, butter, garlic, salt, pepper]</td>\n",
       "    </tr>\n",
       "    <tr>\n",
       "      <th>3</th>\n",
       "      <td>[[chicken], [chicken, gravy], [cream, of, mush...</td>\n",
       "      <td>[chicken, chicken, passion fruit, cheese]</td>\n",
       "    </tr>\n",
       "    <tr>\n",
       "      <th>4</th>\n",
       "      <td>[[peanut, butter], [graham, cracker, crumbs], ...</td>\n",
       "      <td>[peanut butter, graham cracker, butter, sugar,...</td>\n",
       "    </tr>\n",
       "    <tr>\n",
       "      <th>5</th>\n",
       "      <td>[[baking, potatoes], [extra, lean, ground, bee...</td>\n",
       "      <td>[baking mix, crescent roll, butter, milk, salt...</td>\n",
       "    </tr>\n",
       "    <tr>\n",
       "      <th>6</th>\n",
       "      <td>[[sugar], [butter], [egg], [buttermilk], [flou...</td>\n",
       "      <td>[sugar, butter, egg, buttermilk, flour, salt, ...</td>\n",
       "    </tr>\n",
       "  </tbody>\n",
       "</table>\n",
       "</div>"
      ],
      "text/plain": [
       "                                           token_NER  \\\n",
       "0  [[brown, sugar], [milk], [vanilla], [nuts], [b...   \n",
       "1  [[beef], [chicken, breasts], [cream, of, mushr...   \n",
       "2  [[frozen, corn], [cream, cheese], [butter], [g...   \n",
       "3  [[chicken], [chicken, gravy], [cream, of, mush...   \n",
       "4  [[peanut, butter], [graham, cracker, crumbs], ...   \n",
       "5  [[baking, potatoes], [extra, lean, ground, bee...   \n",
       "6  [[sugar], [butter], [egg], [buttermilk], [flou...   \n",
       "\n",
       "                                 closest_ingredients  \n",
       "0  [brown sugar, milk, vanilla, soy nut, butter, ...  \n",
       "1         [beef, chicken, passion fruit, sour cream]  \n",
       "2       [corn, cheese, butter, garlic, salt, pepper]  \n",
       "3          [chicken, chicken, passion fruit, cheese]  \n",
       "4  [peanut butter, graham cracker, butter, sugar,...  \n",
       "5  [baking mix, crescent roll, butter, milk, salt...  \n",
       "6  [sugar, butter, egg, buttermilk, flour, salt, ...  "
      ]
     },
     "execution_count": 493,
     "metadata": {},
     "output_type": "execute_result"
    }
   ],
   "source": [
    "nlg_ingredients_df[:7]"
   ]
  },
  {
   "cell_type": "code",
   "execution_count": 246,
   "metadata": {},
   "outputs": [
    {
     "name": "stdout",
     "output_type": "stream",
     "text": [
      "['lettuce', 'black pepper', 'grape', 'garlic', 'pepper', 'onion', 'seasoning', 'lentils', 'gorgonzola']\n"
     ]
    }
   ],
   "source": [
    "# outputs the ingredient to closest ingredient pairings for What's Cooking data\n",
    "if pre_processing == True:\n",
    "    wc_ingredients, wc_closest_ingredients = [], []\n",
    "    \n",
    "    limit = 7500\n",
    "    for i in range(len(wc_train_data)):\n",
    "        wc_ingredients.append(wc_train_data[i]['ingredients'])\n",
    "        \n",
    "        item_closest_ingredients = []\n",
    "        for ingredient in wc_train_data[i]['ingredients']:\n",
    "            token_list = re.sub(r\"[^a-zA-Z ]+\", '', ingredient.lower()).split(' ')\n",
    "            closest_ingredient = get_closest_ingredient(token_list, ingredients_df)\n",
    "            item_closest_ingredients.append(closest_ingredient)\n",
    "        wc_closest_ingredients.append(item_closest_ingredients)\n",
    "        \n",
    "        if i >= limit:\n",
    "            break\n",
    "\n",
    "    print(wc_closest_ingredients[0])\n",
    "    \n",
    "    wc_ingredients_df = pd.DataFrame({'ingredients': wc_ingredients, 'closest_ingredients': wc_closest_ingredients})\n",
    "    wc_ingredients_df.to_csv('data/whats_cooking/closest_ingredients.csv', header=True, index=True)"
   ]
  },
  {
   "attachments": {},
   "cell_type": "markdown",
   "metadata": {},
   "source": [
    "### Ingredient Frequency"
   ]
  },
  {
   "cell_type": "code",
   "execution_count": 494,
   "metadata": {},
   "outputs": [],
   "source": [
    "if pre_processing == True:\n",
    "    # get frequency based on appearences in Recipenlg recipes\n",
    "    nlg_ingredients_df = pd.read_csv('data/recipe_nlg/closest_ingredients.csv', index_col=0,\n",
    "                               converters={'token_NER':pd.eval, 'closest_ingredients':pd.eval})\n",
    "    \n",
    "    ingredient_frequency = torch.zeros(len(ingredients_df)).tolist()\n",
    "    \n",
    "    for i in range(nlg_ingredients_df.shape[0]):\n",
    "        for closest_ingredient in nlg_ingredients_df[\"closest_ingredients\"][i]:\n",
    "            index = ingredient_vocab_stoi.get(closest_ingredient)\n",
    "            if (index != None):\n",
    "                ingredient_frequency[index] += 1\n",
    "    "
   ]
  },
  {
   "cell_type": "code",
   "execution_count": 495,
   "metadata": {},
   "outputs": [],
   "source": [
    "if pre_processing == True:\n",
    "    # get frequency based on appearences in What's Cooking recipes\n",
    "    wc_ingredients_df = pd.read_csv('data/whats_cooking/closest_ingredients.csv', index_col=0,\n",
    "                                    converters={'ingredients':pd.eval, 'closest_ingredients':pd.eval})\n",
    "    \n",
    "    for i in range(wc_ingredients_df.shape[0]):\n",
    "        for closest_ingredient in wc_ingredients_df[\"closest_ingredients\"][i]:\n",
    "            index = ingredient_vocab_stoi.get(closest_ingredient)\n",
    "            if (index != None):\n",
    "                ingredient_frequency[index] += 1"
   ]
  },
  {
   "cell_type": "code",
   "execution_count": 496,
   "metadata": {},
   "outputs": [],
   "source": [
    "if pre_processing == True:\n",
    "    ingredient_frequency = ( torch.FloatTensor(ingredient_frequency) / max(ingredient_frequency) ).tolist()\n",
    "    ingredients_frequency_df = (ingredients_df.copy()).drop('embedding', axis=1)\n",
    "    ingredients_frequency_df['frequency'] = ingredient_frequency\n",
    "    ingredients_frequency_df.to_csv('data/ingredients_frequency.csv', header=False, index=False)"
   ]
  },
  {
   "cell_type": "code",
   "execution_count": 497,
   "metadata": {},
   "outputs": [],
   "source": [
    "ingredients_frequency_df = pd.read_csv('data/ingredients_frequency.csv', header=None, names=[\"ingredient\", \"frequency\"])"
   ]
  },
  {
   "cell_type": "code",
   "execution_count": 498,
   "metadata": {},
   "outputs": [
    {
     "data": {
      "text/html": [
       "<div>\n",
       "<style scoped>\n",
       "    .dataframe tbody tr th:only-of-type {\n",
       "        vertical-align: middle;\n",
       "    }\n",
       "\n",
       "    .dataframe tbody tr th {\n",
       "        vertical-align: top;\n",
       "    }\n",
       "\n",
       "    .dataframe thead th {\n",
       "        text-align: right;\n",
       "    }\n",
       "</style>\n",
       "<table border=\"1\" class=\"dataframe\">\n",
       "  <thead>\n",
       "    <tr style=\"text-align: right;\">\n",
       "      <th></th>\n",
       "      <th>ingredient</th>\n",
       "      <th>frequency</th>\n",
       "    </tr>\n",
       "  </thead>\n",
       "  <tbody>\n",
       "    <tr>\n",
       "      <th>0</th>\n",
       "      <td>aioli</td>\n",
       "      <td>0.004231</td>\n",
       "    </tr>\n",
       "    <tr>\n",
       "      <th>1</th>\n",
       "      <td>ale</td>\n",
       "      <td>0.007678</td>\n",
       "    </tr>\n",
       "    <tr>\n",
       "      <th>2</th>\n",
       "      <td>almond</td>\n",
       "      <td>0.014886</td>\n",
       "    </tr>\n",
       "    <tr>\n",
       "      <th>3</th>\n",
       "      <td>anise</td>\n",
       "      <td>0.002977</td>\n",
       "    </tr>\n",
       "    <tr>\n",
       "      <th>4</th>\n",
       "      <td>apple</td>\n",
       "      <td>0.008461</td>\n",
       "    </tr>\n",
       "    <tr>\n",
       "      <th>5</th>\n",
       "      <td>applesauce</td>\n",
       "      <td>0.013475</td>\n",
       "    </tr>\n",
       "    <tr>\n",
       "      <th>6</th>\n",
       "      <td>apricot</td>\n",
       "      <td>0.005641</td>\n",
       "    </tr>\n",
       "    <tr>\n",
       "      <th>7</th>\n",
       "      <td>artichoke</td>\n",
       "      <td>0.009715</td>\n",
       "    </tr>\n",
       "    <tr>\n",
       "      <th>8</th>\n",
       "      <td>arugula</td>\n",
       "      <td>0.007521</td>\n",
       "    </tr>\n",
       "    <tr>\n",
       "      <th>9</th>\n",
       "      <td>asafoetida</td>\n",
       "      <td>0.005171</td>\n",
       "    </tr>\n",
       "  </tbody>\n",
       "</table>\n",
       "</div>"
      ],
      "text/plain": [
       "   ingredient  frequency\n",
       "0       aioli   0.004231\n",
       "1         ale   0.007678\n",
       "2      almond   0.014886\n",
       "3       anise   0.002977\n",
       "4       apple   0.008461\n",
       "5  applesauce   0.013475\n",
       "6     apricot   0.005641\n",
       "7   artichoke   0.009715\n",
       "8     arugula   0.007521\n",
       "9  asafoetida   0.005171"
      ]
     },
     "execution_count": 498,
     "metadata": {},
     "output_type": "execute_result"
    }
   ],
   "source": [
    "ingredients_frequency_df[:10]"
   ]
  },
  {
   "attachments": {},
   "cell_type": "markdown",
   "metadata": {},
   "source": [
    "In the first iteration, we further filter the ingredients with less than 0.1% frequency. This yielded 381 ingredients."
   ]
  },
  {
   "cell_type": "code",
   "execution_count": 105,
   "metadata": {},
   "outputs": [
    {
     "name": "stdout",
     "output_type": "stream",
     "text": [
      "381\n"
     ]
    }
   ],
   "source": [
    "if pre_processing == True:\n",
    "    filtered_ingredients_frequency_df = ingredients_frequency_df[ingredients_frequency_df['frequency'] > 0.001]\n",
    "    print(filtered_ingredients_frequency_df.shape[0])\n",
    "    filtered_ingredients_frequency_df.drop('frequency', axis=1).to_csv('data/intermediary/frequency_filtered_ingredients.csv', header=False, index=False)"
   ]
  },
  {
   "attachments": {},
   "cell_type": "markdown",
   "metadata": {},
   "source": [
    "### Ingredient Graph"
   ]
  },
  {
   "attachments": {},
   "cell_type": "markdown",
   "metadata": {},
   "source": [
    "To create the graph, each time an ingredient appears in a recipe with another ingredient, their compatibility is increased. This is implemented with an adjacency matrix. The compatibilities will be normalized by each row of the matrix."
   ]
  },
  {
   "cell_type": "code",
   "execution_count": 499,
   "metadata": {},
   "outputs": [],
   "source": [
    "if pre_processing == True:\n",
    "    ingredient_graph = torch.zeros(len(ingredients_df), len(ingredients_df))\n",
    "\n",
    "    for i in range(nlg_ingredients_df.shape[0]):\n",
    "        for ingredient_1 in nlg_ingredients_df[\"closest_ingredients\"][i]:\n",
    "            if ingredient_1 != '':\n",
    "                index_1 = ingredient_vocab_stoi[ingredient_1]\n",
    "                for ingredient_2 in nlg_ingredients_df[\"closest_ingredients\"][i]:\n",
    "                    if ingredient_2 != '' and ingredient_2 != ingredient_1:\n",
    "                        index_2 = ingredient_vocab_stoi[ingredient_2]\n",
    "                        \n",
    "                        ingredient_graph[index_1][index_2] += 1\n",
    "    \n",
    "    for i in range(ingredient_graph.shape[0]):\n",
    "        ingredient_max = torch.max(ingredient_graph[i])\n",
    "        if (ingredient_max > 0):\n",
    "            ingredient_graph[i] = ingredient_graph[i] / ingredient_max\n",
    "        \n",
    "    json.dump(ingredient_graph.tolist(), open('./data/ingredient_graph.json', 'w'))"
   ]
  },
  {
   "cell_type": "code",
   "execution_count": 500,
   "metadata": {},
   "outputs": [
    {
     "name": "stdout",
     "output_type": "stream",
     "text": [
      "tensor([[0.0000, 0.1091, 0.0000, 0.0000, 0.0000, 0.5818, 0.0000, 0.0000, 0.0000],\n",
      "        [0.1000, 0.0000, 0.1167, 0.0000, 0.0000, 0.4667, 0.0000, 0.0000, 0.0333],\n",
      "        [0.0000, 0.0199, 0.0000, 0.0000, 0.0000, 0.6534, 0.0511, 0.0142, 0.0142],\n",
      "        [0.0000, 0.0000, 0.0000, 0.0000, 0.0000, 0.3333, 0.0000, 0.0000, 0.0000],\n",
      "        [0.0000, 0.0000, 0.0000, 0.0000, 0.0000, 0.0000, 0.0000, 0.0000, 0.0000],\n",
      "        [0.0527, 0.0461, 0.3789, 0.0016, 0.0000, 0.0000, 0.0675, 0.0099, 0.0148],\n",
      "        [0.0000, 0.0000, 0.1552, 0.0000, 0.0000, 0.3534, 0.0000, 0.0000, 0.0000],\n",
      "        [0.0000, 0.0000, 0.3571, 0.0000, 0.0000, 0.4286, 0.0000, 0.0000, 0.0000],\n",
      "        [0.0000, 0.0476, 0.1190, 0.0000, 0.0000, 0.2143, 0.0000, 0.0000, 0.0000]])\n"
     ]
    }
   ],
   "source": [
    "ingredient_graph = json.load(open('./data/ingredient_graph.json', 'r'))\n",
    "ingredient_graph = torch.FloatTensor(ingredient_graph)\n",
    "print(ingredient_graph[40:49,40:49])"
   ]
  },
  {
   "attachments": {},
   "cell_type": "markdown",
   "metadata": {},
   "source": [
    "----\n",
    "## Primary Model"
   ]
  },
  {
   "attachments": {},
   "cell_type": "markdown",
   "metadata": {},
   "source": [
    "### Ingredient Selector"
   ]
  },
  {
   "cell_type": "code",
   "execution_count": null,
   "metadata": {},
   "outputs": [],
   "source": []
  },
  {
   "attachments": {},
   "cell_type": "markdown",
   "metadata": {},
   "source": [
    "### GAN RNN"
   ]
  },
  {
   "cell_type": "code",
   "execution_count": null,
   "metadata": {},
   "outputs": [],
   "source": []
  },
  {
   "attachments": {},
   "cell_type": "markdown",
   "metadata": {},
   "source": [
    "### Training"
   ]
  },
  {
   "cell_type": "code",
   "execution_count": null,
   "metadata": {},
   "outputs": [],
   "source": []
  },
  {
   "attachments": {},
   "cell_type": "markdown",
   "metadata": {},
   "source": [
    "----\n",
    "## Baseline Model"
   ]
  },
  {
   "attachments": {},
   "cell_type": "markdown",
   "metadata": {},
   "source": [
    "Model: A generative RNN trained using character-tokenized recipes."
   ]
  },
  {
   "cell_type": "code",
   "execution_count": null,
   "metadata": {},
   "outputs": [],
   "source": [
    "class RNNRecipeGenerator(nn.Moduel):\n",
    "    def __init__(self, vocab_size, hidden_size, n_layers =1 ):\n",
    "          super(RNNRecipeGenerator, self).__init__()\n",
    "          self.ident = torch.eye(vocab_size)\n",
    "          self.rnn = nn.GRU(vocab_size, hidden_size, n_layers, batch_first = True)\n",
    "          self.decoder = nn.Linear(hidden_size, vocab_size)\n",
    "\n",
    "    def forward(self, inp, hidden = None):\n",
    "          inp = self.ident[inp]\n",
    "          output, hidden = self.rnn(inp, hidden)\n",
    "          output = self.decoder(output)\n",
    "          return output, hidden"
   ]
  },
  {
   "attachments": {},
   "cell_type": "markdown",
   "metadata": {},
   "source": [
    "Recipe Generation: Using probability distribution to predict next character. GPU Enabled to speed up generation."
   ]
  },
  {
   "cell_type": "code",
   "execution_count": null,
   "metadata": {},
   "outputs": [],
   "source": [
    "def sample_sequence_cuda(model, max_len=1000, temperature=0.8):\n",
    "    generated_sequence = \"\n",
    "    \n",
    "    inp = torch.Tensor([vocab_stoi[\"<BOS>\"]]).long().cuda()\n",
    "    hidden = None\n",
    "\n",
    "    for c in range(max_len):\n",
    "          output, hidden = model(inp.unsqueeze(0), hidden)\n",
    "          output_dist = output.data.view(-1).div(temperature).exp().cpu()\n",
    "          top_i = int(torch.multinomial(output_dist, 1)[0])\n",
    "\n",
    "          predicted_char = vocab_itos[top_i]\n",
    "\n",
    "          if predicted_char == \"<EOS>\":\n",
    "              break\n",
    "\n",
    "          generated_sequence += predicted char\n",
    "          inp = torch.Tensor([top_i]).long().cuda()\n",
    "\n",
    "    return generated_sequence"
   ]
  },
  {
   "attachments": {},
   "cell_type": "markdown",
   "metadata": {},
   "source": [
    "Training: GPU Enabled to speed up training. A sample is printed every print_freq iterations to see the model's progression."
   ]
  },
  {
   "cell_type": "code",
   "execution_count": null,
   "metadata": {},
   "outputs": [],
   "source": [
    "def train_cuda(model, data, batch_size=1, num_epochs=1, lr=1e-3, print_freq=200):\n",
    "    optimizer = torch.optim.Adam(model.parameters(), lr=lr)\n",
    "    criterion = nn.CrossEntropyLoss()\n",
    "    iter = 0\n",
    "    data_iter = torchtext.legacy.data.BucketIterator(data, batch_size=batch_size, sort_key=lambda x: len(x.text), sort_within_batch=True)\n",
    "    losses, epochs = []\n",
    "\n",
    "    for e in range(num_epochs):\n",
    "        avg_loss = 0\n",
    "        for (recipe, lengths), label in data_iter:\n",
    "            target = recipe[:, 1:].cuda()\n",
    "            inp = recipe[:, :-1].cuda()\n",
    "\n",
    "            optimizer.zero_grad()\n",
    "\n",
    "            output, _ = model(inp)\n",
    "            loss = criterion(output.reshape(-1, vocab_size), target.reshape(-1))\n",
    "\n",
    "            loss.backward()\n",
    "            optimizer.step()\n",
    "\n",
    "            avg_loss += loss\n",
    "            iter += 1\n",
    "            losses.append(float(loss))\n",
    "            epochs.append(e)\n",
    "\n",
    "            if iter % print_freq == 0:\n",
    "                  print(\"Iteration # %d: Loss %f\" % (it+1, float(avg_loss/print_freq)))\n",
    "                  print(\"Generated Recipe: \" + sample_sequence_cuda(model, 140, 0.8))\n",
    "                  avg_loss = 0\n",
    "\n",
    "\n",
    "    plt.title(\"Training Curve\")\n",
    "    plt.plot(epochs, losses, label = \"Training\")\n",
    "    plt.xlabel(\"Iterations\")\n",
    "    plt.ylabel(\"Loss\")\n",
    "    plt.show()"
   ]
  },
  {
   "cell_type": "code",
   "execution_count": null,
   "metadata": {},
   "outputs": [],
   "source": [
    "baseline_model = RNNRecipeGenerator(vocab_size, 64)\n",
    "baseline_model = baseline_model.cuda()\n",
    "baseline_model.ident = baseline_model.ident.cuda()\n",
    "train_cuda(baseline_model, recipes, batch_size=32, num_epochs=1, lr=1e-3, print_every=100)"
   ]
  },
  {
   "attachments": {},
   "cell_type": "markdown",
   "metadata": {},
   "source": [
    "----\n",
    "## Results and Comparison"
   ]
  },
  {
   "cell_type": "markdown",
   "metadata": {},
   "source": []
  }
 ],
 "metadata": {
  "kernelspec": {
   "display_name": "ailab",
   "language": "python",
   "name": "python3"
  },
  "language_info": {
   "codemirror_mode": {
    "name": "ipython",
    "version": 3
   },
   "file_extension": ".py",
   "mimetype": "text/x-python",
   "name": "python",
   "nbconvert_exporter": "python",
   "pygments_lexer": "ipython3",
   "version": "3.9.16"
  },
  "orig_nbformat": 4,
  "vscode": {
   "interpreter": {
    "hash": "8f6b67828bcf6e6b24b24226b27e29c318445726d2dd849532926bd41a61ff72"
   }
  }
 },
 "nbformat": 4,
 "nbformat_minor": 2
}
