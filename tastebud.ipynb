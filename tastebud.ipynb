{
 "cells": [
  {
   "attachments": {},
   "cell_type": "markdown",
   "metadata": {},
   "source": [
    "# TasteBud: GAN Based Recipe Generation with Graph\n",
    "\n",
    "Introductory words about this project..."
   ]
  },
  {
   "attachments": {},
   "cell_type": "markdown",
   "metadata": {},
   "source": [
    "----\n",
    "## Data Processing\n",
    "\n",
    "Data processing here has two main goals each with smaller milestones: tokenizing recipe data and creating the ingredients graph.\n",
    "Tokenizing data requires parsing the RecipeNGL dataset, which will be subsetted due to its large size.\n",
    "Creating the ingredients graph first requires a list of ingredients. A raw list will be obtained from the What's Cooking and RecipeNGL datasets. Then, the list will be filtered into a smaller list. The filtered list will be used for indexing ingredients, finding related/close ingredients, and creating the graph."
   ]
  },
  {
   "cell_type": "code",
   "execution_count": 236,
   "metadata": {},
   "outputs": [],
   "source": [
    "import csv\n",
    "import numpy as np\n",
    "import random\n",
    "import torch\n",
    "import torch.nn as nn\n",
    "import torch.nn.functional as F\n",
    "import torch.optim as optim\n",
    "import torch.utils.data\n",
    "import torchtext\n",
    "import pandas as pd\n",
    "import matplotlib.pyplot as plt\n",
    "import os.path\n",
    "import json\n",
    "import ast\n",
    "import glob\n",
    "import re"
   ]
  },
  {
   "cell_type": "code",
   "execution_count": 225,
   "metadata": {},
   "outputs": [],
   "source": [
    "pre_processing = True\n",
    "glove = torchtext.vocab.GloVe(name='6B', dim=50)"
   ]
  },
  {
   "attachments": {},
   "cell_type": "markdown",
   "metadata": {},
   "source": [
    "### What's Cooking Data"
   ]
  },
  {
   "cell_type": "code",
   "execution_count": 226,
   "metadata": {},
   "outputs": [
    {
     "name": "stdout",
     "output_type": "stream",
     "text": [
      "{'id': 10259, 'cuisine': 'greek', 'ingredients': ['romaine lettuce', 'black olives', 'grape tomatoes', 'garlic', 'pepper', 'purple onion', 'seasoning', 'garbanzo beans', 'feta cheese crumbles']}\n"
     ]
    }
   ],
   "source": [
    "# loading the What's Cooking dataset from the .json file\n",
    "wc_train_path = './data/whats_cooking/train.json'\n",
    "wc_train_data = json.load(open(wc_train_path, 'r'))\n",
    "print(wc_train_data[0])"
   ]
  },
  {
   "cell_type": "code",
   "execution_count": 227,
   "metadata": {},
   "outputs": [
    {
     "name": "stdout",
     "output_type": "stream",
     "text": [
      "['cinnamon hot candy', 'white pepper', 'frozen onion rings', 'vanilla cake mix', 'white hominy', 'sea bass', 'cholesterol free egg substitute', 'bone marrow', 'low sodium canned chicken broth', 'fillet steaks', 'duck egg', 'corn flour', 'frozen orange juice concentrate', 'pure vanilla extract', 'black mushrooms', 'recipe crumbles', 'challa', 'dried black beans', 'shortcrust pastry', 'hot pepper rings', 'whipped dessert topping', 'dried fettuccine', 'condensed milk', 'prepared pasta sauce', 'green lentil']\n"
     ]
    }
   ],
   "source": [
    "if pre_processing == True:\n",
    "    # creating a list of unique ingredients from the datasets\n",
    "    ingredients_set = set()\n",
    "\n",
    "    for i in range(len(wc_train_data)):\n",
    "        ingredients_set = ingredients_set | set(wc_train_data[i]['ingredients'])\n",
    "    print(list(ingredients_set)[0:25])"
   ]
  },
  {
   "attachments": {},
   "cell_type": "markdown",
   "metadata": {},
   "source": [
    "### Data Subsetting\n",
    "Since RecipeNGL contains 2.23 million recipes, select a subset to use:"
   ]
  },
  {
   "cell_type": "code",
   "execution_count": 229,
   "metadata": {},
   "outputs": [
    {
     "name": "stdout",
     "output_type": "stream",
     "text": [
      "./data/recipe_ngl\\dataset_0_100.csv\n",
      "./data/recipe_ngl\\dataset_0_5000.csv\n"
     ]
    }
   ],
   "source": [
    "full_ngl_path = './data/recipe_ngl/full_dataset.csv'\n",
    "# if the full recipeNGL dataset csv file exists, read a subset of it\n",
    "if os.path.exists(full_ngl_path):\n",
    "    ngl_subset = [0, 5000]\n",
    "    ngl_df = pd.read_csv(full_ngl_path, skiprows=ngl_subset[0], nrows=ngl_subset[1], index_col=0)\n",
    "    ngl_df.to_csv(f'./data/recipe_ngl/dataset_{ngl_subset[0]}_{ngl_subset[1]}.csv')\n",
    "\n",
    "for file in glob.glob('./data/recipe_ngl/dataset*.csv'):\n",
    "    print(file)\n",
    "    ngl_df = pd.read_csv(file, index_col=0, \n",
    "                         converters={'ingredients':pd.eval, 'directions':pd.eval, 'NER':pd.eval})"
   ]
  },
  {
   "cell_type": "code",
   "execution_count": 230,
   "metadata": {},
   "outputs": [
    {
     "data": {
      "text/html": [
       "<div>\n",
       "<style scoped>\n",
       "    .dataframe tbody tr th:only-of-type {\n",
       "        vertical-align: middle;\n",
       "    }\n",
       "\n",
       "    .dataframe tbody tr th {\n",
       "        vertical-align: top;\n",
       "    }\n",
       "\n",
       "    .dataframe thead th {\n",
       "        text-align: right;\n",
       "    }\n",
       "</style>\n",
       "<table border=\"1\" class=\"dataframe\">\n",
       "  <thead>\n",
       "    <tr style=\"text-align: right;\">\n",
       "      <th></th>\n",
       "      <th>title</th>\n",
       "      <th>ingredients</th>\n",
       "      <th>directions</th>\n",
       "      <th>link</th>\n",
       "      <th>source</th>\n",
       "      <th>NER</th>\n",
       "    </tr>\n",
       "  </thead>\n",
       "  <tbody>\n",
       "    <tr>\n",
       "      <th>0</th>\n",
       "      <td>No-Bake Nut Cookies</td>\n",
       "      <td>[1 c. firmly packed brown sugar, 1/2 c. evapor...</td>\n",
       "      <td>[In a heavy 2-quart saucepan, mix brown sugar,...</td>\n",
       "      <td>www.cookbooks.com/Recipe-Details.aspx?id=44874</td>\n",
       "      <td>Gathered</td>\n",
       "      <td>[brown sugar, milk, vanilla, nuts, butter, bit...</td>\n",
       "    </tr>\n",
       "    <tr>\n",
       "      <th>1</th>\n",
       "      <td>Jewell Ball'S Chicken</td>\n",
       "      <td>[1 small jar chipped beef, cut up, 4 boned chi...</td>\n",
       "      <td>[Place chipped beef on bottom of baking dish.,...</td>\n",
       "      <td>www.cookbooks.com/Recipe-Details.aspx?id=699419</td>\n",
       "      <td>Gathered</td>\n",
       "      <td>[beef, chicken breasts, cream of mushroom soup...</td>\n",
       "    </tr>\n",
       "    <tr>\n",
       "      <th>2</th>\n",
       "      <td>Creamy Corn</td>\n",
       "      <td>[2 (16 oz.) pkg. frozen corn, 1 (8 oz.) pkg. c...</td>\n",
       "      <td>[In a slow cooker, combine all ingredients. Co...</td>\n",
       "      <td>www.cookbooks.com/Recipe-Details.aspx?id=10570</td>\n",
       "      <td>Gathered</td>\n",
       "      <td>[frozen corn, cream cheese, butter, garlic pow...</td>\n",
       "    </tr>\n",
       "  </tbody>\n",
       "</table>\n",
       "</div>"
      ],
      "text/plain": [
       "                   title                                        ingredients  \\\n",
       "0    No-Bake Nut Cookies  [1 c. firmly packed brown sugar, 1/2 c. evapor...   \n",
       "1  Jewell Ball'S Chicken  [1 small jar chipped beef, cut up, 4 boned chi...   \n",
       "2            Creamy Corn  [2 (16 oz.) pkg. frozen corn, 1 (8 oz.) pkg. c...   \n",
       "\n",
       "                                          directions  \\\n",
       "0  [In a heavy 2-quart saucepan, mix brown sugar,...   \n",
       "1  [Place chipped beef on bottom of baking dish.,...   \n",
       "2  [In a slow cooker, combine all ingredients. Co...   \n",
       "\n",
       "                                              link    source  \\\n",
       "0   www.cookbooks.com/Recipe-Details.aspx?id=44874  Gathered   \n",
       "1  www.cookbooks.com/Recipe-Details.aspx?id=699419  Gathered   \n",
       "2   www.cookbooks.com/Recipe-Details.aspx?id=10570  Gathered   \n",
       "\n",
       "                                                 NER  \n",
       "0  [brown sugar, milk, vanilla, nuts, butter, bit...  \n",
       "1  [beef, chicken breasts, cream of mushroom soup...  \n",
       "2  [frozen corn, cream cheese, butter, garlic pow...  "
      ]
     },
     "execution_count": 230,
     "metadata": {},
     "output_type": "execute_result"
    }
   ],
   "source": [
    "ngl_df[:3]"
   ]
  },
  {
   "attachments": {},
   "cell_type": "markdown",
   "metadata": {},
   "source": [
    "### Create List of Ingredients"
   ]
  },
  {
   "cell_type": "code",
   "execution_count": 231,
   "metadata": {},
   "outputs": [
    {
     "name": "stdout",
     "output_type": "stream",
     "text": [
      "['cinnamon hot candy', 'jalapeno peppers', 'Swiss', 'cholesterol free egg substitute', 'bone marrow', 'fresh berries', 'duck egg', 'chopped nut meats', 'pure vanilla extract', 'black mushrooms', 'recipe crumbles', 'dried black beans', 'shortcrust pastry', 'hot pepper rings', 'condensed milk', 'prepared pasta sauce', 'coconut topping', 'green lentil', 'milk chocolate frosting', 'light kidney beans', 'Greek black olives', 'sage leaves', 'Parmesan', 'Flake Coconut', 'instant vanilla pudding', 'yellow cornmeal', 'extra lean ground beef', 'Kraft Slim Cut Mozzarella Cheese Slices', 'string cheese', 'drumsticks', 'dried sardines', 'chicken granules', 'large snails', 'whole wheat pizza crust', 'green figs', 'grease', 'white sesame seed', 'salad dressing mix', 'rennet', 'chocolate powder', 'bourbon liqueur', 'round sourdough bread', 'fresh herbs', 'fresh brussels sprouts', 'vanilla pods', 'brewed coffee', 'fine salt', 'cherrystone clams', 'chili beef soup', 'thawed broccoli']\n"
     ]
    }
   ],
   "source": [
    "if pre_processing == True:\n",
    "    for i in range(len(ngl_df[\"NER\"])):\n",
    "        ingredients_set = ingredients_set | set(ngl_df[\"NER\"][i])\n",
    "    print(list(ingredients_set)[0:50])"
   ]
  },
  {
   "cell_type": "code",
   "execution_count": 232,
   "metadata": {},
   "outputs": [],
   "source": [
    "if pre_processing == True:\n",
    "    cw = csv.writer(open(\"data/raw_ingredients_list.csv\",'w'))\n",
    "    cw.writerow(list(ingredients_set))\n",
    "    pd.read_csv('data/raw_ingredients_list.csv', header=None).T.to_csv('data/raw_ingredients_list_transpose.csv', header=False, index=False)"
   ]
  },
  {
   "attachments": {},
   "cell_type": "markdown",
   "metadata": {},
   "source": [
    "From a list of 8500 ingredients, we manually removed duplicated items that had spelling errors, semantic similarities, and extra numeric or qualitative descriptors (e.g. chopped, 2% fat, shredded, unsweetened), giving 955 ingredients. Then, each is paired its gloVe embedding."
   ]
  },
  {
   "cell_type": "code",
   "execution_count": 269,
   "metadata": {},
   "outputs": [],
   "source": [
    "# param: token_list - a list of tokens, no spaces or symbols\n",
    "# return: a tensor of the averaged GloVe embeddings of each token\n",
    "def glove_average(token_list):\n",
    "    embeds_list = []\n",
    "    for token in token_list:\n",
    "        embeds_list.append(glove[token])\n",
    "    embeds_average = torch.mean(torch.stack(embeds_list), dim=0)\n",
    "    return embeds_average"
   ]
  },
  {
   "cell_type": "code",
   "execution_count": 312,
   "metadata": {},
   "outputs": [],
   "source": [
    "if pre_processing == True:\n",
    "    filtered_ingredients_df = pd.read_csv('data/filtered_ingredients_list_transpose.csv', header=None, names=[\"ingredient\"])\n",
    "    ingredient_embeddings = []\n",
    "\n",
    "    for i, row in filtered_ingredients_df.iterrows():\n",
    "        token_list = re.sub(r\"[^a-zA-Z ]+\", '', filtered_ingredients_df['ingredient'][i].lower()).split(' ')\n",
    "        embed_list = []\n",
    "        ingredient_embeddings.append(glove_average(token_list).tolist())\n",
    "        \n",
    "    filtered_ingredients_df['embedding'] = ingredient_embeddings\n",
    "    filtered_ingredients_df.to_csv('data/glove_ingredients_list.csv', header=False, index=False)"
   ]
  },
  {
   "cell_type": "code",
   "execution_count": 316,
   "metadata": {},
   "outputs": [],
   "source": [
    "ingredients_df = pd.read_csv('data/glove_ingredients_list.csv', header=None, names=[\"ingredient\", \"embedding\"],\n",
    "                         converters={'embedding':pd.eval})\n",
    "ingredients_df['ingredient'] = ingredients_df['ingredient'].apply(lambda x: re.sub(r\"[ ]+\", '', x))"
   ]
  },
  {
   "cell_type": "code",
   "execution_count": 317,
   "metadata": {},
   "outputs": [
    {
     "data": {
      "text/html": [
       "<div>\n",
       "<style scoped>\n",
       "    .dataframe tbody tr th:only-of-type {\n",
       "        vertical-align: middle;\n",
       "    }\n",
       "\n",
       "    .dataframe tbody tr th {\n",
       "        vertical-align: top;\n",
       "    }\n",
       "\n",
       "    .dataframe thead th {\n",
       "        text-align: right;\n",
       "    }\n",
       "</style>\n",
       "<table border=\"1\" class=\"dataframe\">\n",
       "  <thead>\n",
       "    <tr style=\"text-align: right;\">\n",
       "      <th></th>\n",
       "      <th>ingredient</th>\n",
       "      <th>embedding</th>\n",
       "    </tr>\n",
       "  </thead>\n",
       "  <tbody>\n",
       "    <tr>\n",
       "      <th>0</th>\n",
       "      <td>abalone</td>\n",
       "      <td>[0.34318000078201294, -0.8134999871253967, -0....</td>\n",
       "    </tr>\n",
       "    <tr>\n",
       "      <th>1</th>\n",
       "      <td>absinthe</td>\n",
       "      <td>[-0.06579200178384781, -0.009294699877500534, ...</td>\n",
       "    </tr>\n",
       "    <tr>\n",
       "      <th>2</th>\n",
       "      <td>acai</td>\n",
       "      <td>[0.2497600018978119, 0.08926700055599213, -0.4...</td>\n",
       "    </tr>\n",
       "  </tbody>\n",
       "</table>\n",
       "</div>"
      ],
      "text/plain": [
       "  ingredient                                          embedding\n",
       "0    abalone  [0.34318000078201294, -0.8134999871253967, -0....\n",
       "1   absinthe  [-0.06579200178384781, -0.009294699877500534, ...\n",
       "2       acai  [0.2497600018978119, 0.08926700055599213, -0.4..."
      ]
     },
     "execution_count": 317,
     "metadata": {},
     "output_type": "execute_result"
    }
   ],
   "source": [
    "ingredients_df[:3]"
   ]
  },
  {
   "attachments": {},
   "cell_type": "markdown",
   "metadata": {},
   "source": [
    "Since GloVe give embeddings for out-of-vocabulary words, the words with null tensors `[0,0,0,...,0]` were removed from the ingredients list, giving a total of 840 ingredients. Using these embeddings will allow for ingredients not in the list to be mapped to the closest ingredient, then put in the ingredient graph."
   ]
  },
  {
   "attachments": {},
   "cell_type": "markdown",
   "metadata": {},
   "source": [
    "### Recipe Data Cleaning"
   ]
  },
  {
   "cell_type": "code",
   "execution_count": 252,
   "metadata": {},
   "outputs": [],
   "source": [
    "# filter for only \"Gathered\" sources, since those have more consistent format\n",
    "gathered_ngl_df = ngl_df[ngl_df.source == 'Gathered']\n",
    "# remove unnecessary columns\n",
    "filtered_ngl_df = gathered_ngl_df[['title', 'ingredients', 'directions', 'NER']]"
   ]
  },
  {
   "cell_type": "code",
   "execution_count": 253,
   "metadata": {},
   "outputs": [
    {
     "data": {
      "text/html": [
       "<div>\n",
       "<style scoped>\n",
       "    .dataframe tbody tr th:only-of-type {\n",
       "        vertical-align: middle;\n",
       "    }\n",
       "\n",
       "    .dataframe tbody tr th {\n",
       "        vertical-align: top;\n",
       "    }\n",
       "\n",
       "    .dataframe thead th {\n",
       "        text-align: right;\n",
       "    }\n",
       "</style>\n",
       "<table border=\"1\" class=\"dataframe\">\n",
       "  <thead>\n",
       "    <tr style=\"text-align: right;\">\n",
       "      <th></th>\n",
       "      <th>title</th>\n",
       "      <th>ingredients</th>\n",
       "      <th>directions</th>\n",
       "      <th>NER</th>\n",
       "    </tr>\n",
       "  </thead>\n",
       "  <tbody>\n",
       "    <tr>\n",
       "      <th>0</th>\n",
       "      <td>No-Bake Nut Cookies</td>\n",
       "      <td>[1 c. firmly packed brown sugar, 1/2 c. evapor...</td>\n",
       "      <td>[In a heavy 2-quart saucepan, mix brown sugar,...</td>\n",
       "      <td>[brown sugar, milk, vanilla, nuts, butter, bit...</td>\n",
       "    </tr>\n",
       "    <tr>\n",
       "      <th>1</th>\n",
       "      <td>Jewell Ball'S Chicken</td>\n",
       "      <td>[1 small jar chipped beef, cut up, 4 boned chi...</td>\n",
       "      <td>[Place chipped beef on bottom of baking dish.,...</td>\n",
       "      <td>[beef, chicken breasts, cream of mushroom soup...</td>\n",
       "    </tr>\n",
       "    <tr>\n",
       "      <th>2</th>\n",
       "      <td>Creamy Corn</td>\n",
       "      <td>[2 (16 oz.) pkg. frozen corn, 1 (8 oz.) pkg. c...</td>\n",
       "      <td>[In a slow cooker, combine all ingredients. Co...</td>\n",
       "      <td>[frozen corn, cream cheese, butter, garlic pow...</td>\n",
       "    </tr>\n",
       "    <tr>\n",
       "      <th>3</th>\n",
       "      <td>Chicken Funny</td>\n",
       "      <td>[1 large whole chicken, 2 (10 1/2 oz.) cans ch...</td>\n",
       "      <td>[Boil and debone chicken., Put bite size piece...</td>\n",
       "      <td>[chicken, chicken gravy, cream of mushroom sou...</td>\n",
       "    </tr>\n",
       "    <tr>\n",
       "      <th>4</th>\n",
       "      <td>Reeses Cups(Candy)</td>\n",
       "      <td>[1 c. peanut butter, 3/4 c. graham cracker cru...</td>\n",
       "      <td>[Combine first four ingredients and press in 1...</td>\n",
       "      <td>[peanut butter, graham cracker crumbs, butter,...</td>\n",
       "    </tr>\n",
       "    <tr>\n",
       "      <th>5</th>\n",
       "      <td>Cheeseburger Potato Soup</td>\n",
       "      <td>[6 baking potatoes, 1 lb. of extra lean ground...</td>\n",
       "      <td>[Wash potatoes; prick several times with a for...</td>\n",
       "      <td>[baking potatoes, extra lean ground beef, butt...</td>\n",
       "    </tr>\n",
       "    <tr>\n",
       "      <th>6</th>\n",
       "      <td>Rhubarb Coffee Cake</td>\n",
       "      <td>[1 1/2 c. sugar, 1/2 c. butter, 1 egg, 1 c. bu...</td>\n",
       "      <td>[Cream sugar and butter., Add egg and beat wel...</td>\n",
       "      <td>[sugar, butter, egg, buttermilk, flour, salt, ...</td>\n",
       "    </tr>\n",
       "  </tbody>\n",
       "</table>\n",
       "</div>"
      ],
      "text/plain": [
       "                      title  \\\n",
       "0       No-Bake Nut Cookies   \n",
       "1     Jewell Ball'S Chicken   \n",
       "2               Creamy Corn   \n",
       "3             Chicken Funny   \n",
       "4      Reeses Cups(Candy)     \n",
       "5  Cheeseburger Potato Soup   \n",
       "6       Rhubarb Coffee Cake   \n",
       "\n",
       "                                         ingredients  \\\n",
       "0  [1 c. firmly packed brown sugar, 1/2 c. evapor...   \n",
       "1  [1 small jar chipped beef, cut up, 4 boned chi...   \n",
       "2  [2 (16 oz.) pkg. frozen corn, 1 (8 oz.) pkg. c...   \n",
       "3  [1 large whole chicken, 2 (10 1/2 oz.) cans ch...   \n",
       "4  [1 c. peanut butter, 3/4 c. graham cracker cru...   \n",
       "5  [6 baking potatoes, 1 lb. of extra lean ground...   \n",
       "6  [1 1/2 c. sugar, 1/2 c. butter, 1 egg, 1 c. bu...   \n",
       "\n",
       "                                          directions  \\\n",
       "0  [In a heavy 2-quart saucepan, mix brown sugar,...   \n",
       "1  [Place chipped beef on bottom of baking dish.,...   \n",
       "2  [In a slow cooker, combine all ingredients. Co...   \n",
       "3  [Boil and debone chicken., Put bite size piece...   \n",
       "4  [Combine first four ingredients and press in 1...   \n",
       "5  [Wash potatoes; prick several times with a for...   \n",
       "6  [Cream sugar and butter., Add egg and beat wel...   \n",
       "\n",
       "                                                 NER  \n",
       "0  [brown sugar, milk, vanilla, nuts, butter, bit...  \n",
       "1  [beef, chicken breasts, cream of mushroom soup...  \n",
       "2  [frozen corn, cream cheese, butter, garlic pow...  \n",
       "3  [chicken, chicken gravy, cream of mushroom sou...  \n",
       "4  [peanut butter, graham cracker crumbs, butter,...  \n",
       "5  [baking potatoes, extra lean ground beef, butt...  \n",
       "6  [sugar, butter, egg, buttermilk, flour, salt, ...  "
      ]
     },
     "execution_count": 253,
     "metadata": {},
     "output_type": "execute_result"
    }
   ],
   "source": [
    "filtered_ngl_df[:7]"
   ]
  },
  {
   "attachments": {},
   "cell_type": "markdown",
   "metadata": {},
   "source": [
    "### Recipe Data Tokenizing"
   ]
  },
  {
   "cell_type": "code",
   "execution_count": 248,
   "metadata": {},
   "outputs": [
    {
     "name": "stdout",
     "output_type": "stream",
     "text": [
      "['No-Bake', 'Nut', 'Cookies']\n",
      "[['1', 'c.', 'firmly', 'packed', 'brown', 'sugar'], ['1/2', 'c.', 'evaporated', 'milk'], ['1/2', 'tsp.', 'vanilla'], ['1/2', 'c.', 'broken', 'nuts', '(pecans)'], ['2', 'Tbsp.', 'butter', 'or', 'margarine'], ['3', '1/2', 'c.', 'bite', 'size', 'shredded', 'rice', 'biscuits']]\n",
      "[['In', 'a', 'heavy', '2-quart', 'saucepan,', 'mix', 'brown', 'sugar,', 'nuts,', 'evaporated', 'milk', 'and', 'butter', 'or', 'margarine.'], ['Stir', 'over', 'medium', 'heat', 'until', 'mixture', 'bubbles', 'all', 'over', 'top.'], ['Boil', 'and', 'stir', '5', 'minutes', 'more.', 'Take', 'off', 'heat.'], ['Stir', 'in', 'vanilla', 'and', 'cereal;', 'mix', 'well.'], ['Using', '2', 'teaspoons,', 'drop', 'and', 'shape', 'into', '30', 'clusters', 'on', 'wax', 'paper.'], ['Let', 'stand', 'until', 'firm,', 'about', '30', 'minutes.']]\n",
      "[['brown', 'sugar'], ['milk'], ['vanilla'], ['nuts'], ['butter'], ['bite', 'size', 'shredded', 'rice', 'biscuits']]\n"
     ]
    }
   ],
   "source": [
    "tokenized_titles = []\n",
    "tokenized_ingredients = []\n",
    "tokenized_directions = []\n",
    "tokenized_NER = []\n",
    "\n",
    "for i, row in filtered_ngl_df.iterrows():\n",
    "    # tokenize titles\n",
    "    tokens_list = filtered_ngl_df.title.values[i].split(' ')\n",
    "    tokenized_titles.append(tokens_list)\n",
    "    \n",
    "    # tokenize ingredients\n",
    "    tokens_list = []\n",
    "    for ingredient_item in row.ingredients:\n",
    "        tokens_list.append(ingredient_item.split(' '))\n",
    "    tokenized_ingredients.append(tokens_list)\n",
    "    \n",
    "    # tokenize directions\n",
    "    tokens_list = []\n",
    "    for direction_item in row.directions:\n",
    "        tokens_list.append(direction_item.split(' '))\n",
    "    tokenized_directions.append(tokens_list)\n",
    "    \n",
    "    # tokenize ingredients\n",
    "    tokens_list = []\n",
    "    for NER_item in row.NER:\n",
    "        tokens_list.append( re.sub(r\"[^a-zA-Z ]+\", '', NER_item.lower()).split(' ') )\n",
    "    tokenized_NER.append(tokens_list)\n",
    "\n",
    "print(tokenized_titles[0])\n",
    "print(tokenized_ingredients[0])\n",
    "print(tokenized_directions[0])\n",
    "print(tokenized_NER[0])"
   ]
  },
  {
   "cell_type": "code",
   "execution_count": 125,
   "metadata": {},
   "outputs": [],
   "source": [
    "tokenized_ngl_df = filtered_ngl_df.copy()\n",
    "tokenized_ngl_df['token_title'] = tokenized_titles\n",
    "tokenized_ngl_df['token_ingredients'] = tokenized_ingredients\n",
    "tokenized_ngl_df['token_directions'] = tokenized_directions\n",
    "tokenized_ngl_df['token_NER'] = tokenized_NER"
   ]
  },
  {
   "cell_type": "code",
   "execution_count": 126,
   "metadata": {},
   "outputs": [
    {
     "data": {
      "text/html": [
       "<div>\n",
       "<style scoped>\n",
       "    .dataframe tbody tr th:only-of-type {\n",
       "        vertical-align: middle;\n",
       "    }\n",
       "\n",
       "    .dataframe tbody tr th {\n",
       "        vertical-align: top;\n",
       "    }\n",
       "\n",
       "    .dataframe thead th {\n",
       "        text-align: right;\n",
       "    }\n",
       "</style>\n",
       "<table border=\"1\" class=\"dataframe\">\n",
       "  <thead>\n",
       "    <tr style=\"text-align: right;\">\n",
       "      <th></th>\n",
       "      <th>title</th>\n",
       "      <th>ingredients</th>\n",
       "      <th>directions</th>\n",
       "      <th>NER</th>\n",
       "      <th>token_title</th>\n",
       "      <th>token_ingredients</th>\n",
       "      <th>token_directions</th>\n",
       "      <th>token_NER</th>\n",
       "    </tr>\n",
       "  </thead>\n",
       "  <tbody>\n",
       "    <tr>\n",
       "      <th>0</th>\n",
       "      <td>No-Bake Nut Cookies</td>\n",
       "      <td>[1 c. firmly packed brown sugar, 1/2 c. evapor...</td>\n",
       "      <td>[In a heavy 2-quart saucepan, mix brown sugar,...</td>\n",
       "      <td>[brown sugar, milk, vanilla, nuts, butter, bit...</td>\n",
       "      <td>[No-Bake, Nut, Cookies]</td>\n",
       "      <td>[[1, c., firmly, packed, brown, sugar], [1/2, ...</td>\n",
       "      <td>[[In, a, heavy, 2-quart, saucepan,, mix, brown...</td>\n",
       "      <td>[[brown, sugar], [milk], [vanilla], [nuts], [b...</td>\n",
       "    </tr>\n",
       "    <tr>\n",
       "      <th>1</th>\n",
       "      <td>Jewell Ball'S Chicken</td>\n",
       "      <td>[1 small jar chipped beef, cut up, 4 boned chi...</td>\n",
       "      <td>[Place chipped beef on bottom of baking dish.,...</td>\n",
       "      <td>[beef, chicken breasts, cream of mushroom soup...</td>\n",
       "      <td>[Jewell, Ball'S, Chicken]</td>\n",
       "      <td>[[1, small, jar, chipped, beef,, cut, up], [4,...</td>\n",
       "      <td>[[Place, chipped, beef, on, bottom, of, baking...</td>\n",
       "      <td>[[beef], [chicken, breasts], [cream, of, mushr...</td>\n",
       "    </tr>\n",
       "    <tr>\n",
       "      <th>2</th>\n",
       "      <td>Creamy Corn</td>\n",
       "      <td>[2 (16 oz.) pkg. frozen corn, 1 (8 oz.) pkg. c...</td>\n",
       "      <td>[In a slow cooker, combine all ingredients. Co...</td>\n",
       "      <td>[frozen corn, cream cheese, butter, garlic pow...</td>\n",
       "      <td>[Creamy, Corn]</td>\n",
       "      <td>[[2, (16, oz.), pkg., frozen, corn], [1, (8, o...</td>\n",
       "      <td>[[In, a, slow, cooker,, combine, all, ingredie...</td>\n",
       "      <td>[[frozen, corn], [cream, cheese], [butter], [g...</td>\n",
       "    </tr>\n",
       "    <tr>\n",
       "      <th>3</th>\n",
       "      <td>Chicken Funny</td>\n",
       "      <td>[1 large whole chicken, 2 (10 1/2 oz.) cans ch...</td>\n",
       "      <td>[Boil and debone chicken., Put bite size piece...</td>\n",
       "      <td>[chicken, chicken gravy, cream of mushroom sou...</td>\n",
       "      <td>[Chicken, Funny]</td>\n",
       "      <td>[[1, large, whole, chicken], [2, (10, 1/2, oz....</td>\n",
       "      <td>[[Boil, and, debone, chicken.], [Put, bite, si...</td>\n",
       "      <td>[[chicken], [chicken, gravy], [cream, of, mush...</td>\n",
       "    </tr>\n",
       "    <tr>\n",
       "      <th>4</th>\n",
       "      <td>Reeses Cups(Candy)</td>\n",
       "      <td>[1 c. peanut butter, 3/4 c. graham cracker cru...</td>\n",
       "      <td>[Combine first four ingredients and press in 1...</td>\n",
       "      <td>[peanut butter, graham cracker crumbs, butter,...</td>\n",
       "      <td>[Reeses, Cups(Candy), , ]</td>\n",
       "      <td>[[1, c., peanut, butter], [3/4, c., graham, cr...</td>\n",
       "      <td>[[Combine, first, four, ingredients, and, pres...</td>\n",
       "      <td>[[peanut, butter], [graham, cracker, crumbs], ...</td>\n",
       "    </tr>\n",
       "    <tr>\n",
       "      <th>5</th>\n",
       "      <td>Cheeseburger Potato Soup</td>\n",
       "      <td>[6 baking potatoes, 1 lb. of extra lean ground...</td>\n",
       "      <td>[Wash potatoes; prick several times with a for...</td>\n",
       "      <td>[baking potatoes, extra lean ground beef, butt...</td>\n",
       "      <td>[Cheeseburger, Potato, Soup]</td>\n",
       "      <td>[[6, baking, potatoes], [1, lb., of, extra, le...</td>\n",
       "      <td>[[Wash, potatoes;, prick, several, times, with...</td>\n",
       "      <td>[[baking, potatoes], [extra, lean, ground, bee...</td>\n",
       "    </tr>\n",
       "    <tr>\n",
       "      <th>6</th>\n",
       "      <td>Rhubarb Coffee Cake</td>\n",
       "      <td>[1 1/2 c. sugar, 1/2 c. butter, 1 egg, 1 c. bu...</td>\n",
       "      <td>[Cream sugar and butter., Add egg and beat wel...</td>\n",
       "      <td>[sugar, butter, egg, buttermilk, flour, salt, ...</td>\n",
       "      <td>[Rhubarb, Coffee, Cake]</td>\n",
       "      <td>[[1, 1/2, c., sugar], [1/2, c., butter], [1, e...</td>\n",
       "      <td>[[Cream, sugar, and, butter.], [Add, egg, and,...</td>\n",
       "      <td>[[sugar], [butter], [egg], [buttermilk], [flou...</td>\n",
       "    </tr>\n",
       "  </tbody>\n",
       "</table>\n",
       "</div>"
      ],
      "text/plain": [
       "                      title  \\\n",
       "0       No-Bake Nut Cookies   \n",
       "1     Jewell Ball'S Chicken   \n",
       "2               Creamy Corn   \n",
       "3             Chicken Funny   \n",
       "4      Reeses Cups(Candy)     \n",
       "5  Cheeseburger Potato Soup   \n",
       "6       Rhubarb Coffee Cake   \n",
       "\n",
       "                                         ingredients  \\\n",
       "0  [1 c. firmly packed brown sugar, 1/2 c. evapor...   \n",
       "1  [1 small jar chipped beef, cut up, 4 boned chi...   \n",
       "2  [2 (16 oz.) pkg. frozen corn, 1 (8 oz.) pkg. c...   \n",
       "3  [1 large whole chicken, 2 (10 1/2 oz.) cans ch...   \n",
       "4  [1 c. peanut butter, 3/4 c. graham cracker cru...   \n",
       "5  [6 baking potatoes, 1 lb. of extra lean ground...   \n",
       "6  [1 1/2 c. sugar, 1/2 c. butter, 1 egg, 1 c. bu...   \n",
       "\n",
       "                                          directions  \\\n",
       "0  [In a heavy 2-quart saucepan, mix brown sugar,...   \n",
       "1  [Place chipped beef on bottom of baking dish.,...   \n",
       "2  [In a slow cooker, combine all ingredients. Co...   \n",
       "3  [Boil and debone chicken., Put bite size piece...   \n",
       "4  [Combine first four ingredients and press in 1...   \n",
       "5  [Wash potatoes; prick several times with a for...   \n",
       "6  [Cream sugar and butter., Add egg and beat wel...   \n",
       "\n",
       "                                                 NER  \\\n",
       "0  [brown sugar, milk, vanilla, nuts, butter, bit...   \n",
       "1  [beef, chicken breasts, cream of mushroom soup...   \n",
       "2  [frozen corn, cream cheese, butter, garlic pow...   \n",
       "3  [chicken, chicken gravy, cream of mushroom sou...   \n",
       "4  [peanut butter, graham cracker crumbs, butter,...   \n",
       "5  [baking potatoes, extra lean ground beef, butt...   \n",
       "6  [sugar, butter, egg, buttermilk, flour, salt, ...   \n",
       "\n",
       "                    token_title  \\\n",
       "0       [No-Bake, Nut, Cookies]   \n",
       "1     [Jewell, Ball'S, Chicken]   \n",
       "2                [Creamy, Corn]   \n",
       "3              [Chicken, Funny]   \n",
       "4     [Reeses, Cups(Candy), , ]   \n",
       "5  [Cheeseburger, Potato, Soup]   \n",
       "6       [Rhubarb, Coffee, Cake]   \n",
       "\n",
       "                                   token_ingredients  \\\n",
       "0  [[1, c., firmly, packed, brown, sugar], [1/2, ...   \n",
       "1  [[1, small, jar, chipped, beef,, cut, up], [4,...   \n",
       "2  [[2, (16, oz.), pkg., frozen, corn], [1, (8, o...   \n",
       "3  [[1, large, whole, chicken], [2, (10, 1/2, oz....   \n",
       "4  [[1, c., peanut, butter], [3/4, c., graham, cr...   \n",
       "5  [[6, baking, potatoes], [1, lb., of, extra, le...   \n",
       "6  [[1, 1/2, c., sugar], [1/2, c., butter], [1, e...   \n",
       "\n",
       "                                    token_directions  \\\n",
       "0  [[In, a, heavy, 2-quart, saucepan,, mix, brown...   \n",
       "1  [[Place, chipped, beef, on, bottom, of, baking...   \n",
       "2  [[In, a, slow, cooker,, combine, all, ingredie...   \n",
       "3  [[Boil, and, debone, chicken.], [Put, bite, si...   \n",
       "4  [[Combine, first, four, ingredients, and, pres...   \n",
       "5  [[Wash, potatoes;, prick, several, times, with...   \n",
       "6  [[Cream, sugar, and, butter.], [Add, egg, and,...   \n",
       "\n",
       "                                           token_NER  \n",
       "0  [[brown, sugar], [milk], [vanilla], [nuts], [b...  \n",
       "1  [[beef], [chicken, breasts], [cream, of, mushr...  \n",
       "2  [[frozen, corn], [cream, cheese], [butter], [g...  \n",
       "3  [[chicken], [chicken, gravy], [cream, of, mush...  \n",
       "4  [[peanut, butter], [graham, cracker, crumbs], ...  \n",
       "5  [[baking, potatoes], [extra, lean, ground, bee...  \n",
       "6  [[sugar], [butter], [egg], [buttermilk], [flou...  "
      ]
     },
     "execution_count": 126,
     "metadata": {},
     "output_type": "execute_result"
    }
   ],
   "source": [
    "tokenized_ngl_df[:7]"
   ]
  },
  {
   "attachments": {},
   "cell_type": "markdown",
   "metadata": {},
   "source": [
    "### Ingredient Graph"
   ]
  },
  {
   "cell_type": "code",
   "execution_count": 340,
   "metadata": {},
   "outputs": [],
   "source": [
    "# param: ingredient - list of strings of an ingredient (tokenized)\n",
    "#        ingredient_df - dataframe containing ingredient vocabulary and\n",
    "#                        their corresponding GloVe embedding\n",
    "# return: string of closest ingredient in vocabulary\n",
    "#         if none (e.g. ingredient has is OOV in GloVe), returns empty string\n",
    "def get_closest_ingredient (ingredient, ingredients_df):\n",
    "    # check if ingredient is in ingredients_df\n",
    "    if len(ingredient) == 1 and ingredient[0] in ingredients_df['ingredient'].values:\n",
    "        return ingredient\n",
    "    \n",
    "    closest_ingredient = ''\n",
    "    smallest_distance = float('inf')\n",
    "    \n",
    "    # compute the GloVe embedding of the ingredient\n",
    "    ingredient_embedding = glove_average(ingredient)\n",
    "    \n",
    "    if torch.count_nonzero(ingredient_embedding) == 0:\n",
    "        return ''\n",
    "    \n",
    "    # compute distances between embeddings, choose the smallest distance\n",
    "    for _, row in ingredients_df.iterrows():\n",
    "        difference = ingredient_embedding - torch.FloatTensor(row['embedding'])\n",
    "        distance = torch.sum(torch.square(difference))\n",
    "        if distance < smallest_distance:\n",
    "            smallest_distance = distance\n",
    "            closest_ingredient = row['ingredient']\n",
    "    \n",
    "    return closest_ingredient"
   ]
  },
  {
   "cell_type": "code",
   "execution_count": 347,
   "metadata": {},
   "outputs": [
    {
     "data": {
      "text/plain": [
       "'tomato'"
      ]
     },
     "execution_count": 347,
     "metadata": {},
     "output_type": "execute_result"
    }
   ],
   "source": [
    "get_closest_ingredient([\"tomatoes\"], ingredients_df)"
   ]
  },
  {
   "attachments": {},
   "cell_type": "markdown",
   "metadata": {},
   "source": [
    "----\n",
    "## Primary Model"
   ]
  },
  {
   "attachments": {},
   "cell_type": "markdown",
   "metadata": {},
   "source": [
    "### Ingredient Selector"
   ]
  },
  {
   "cell_type": "code",
   "execution_count": null,
   "metadata": {},
   "outputs": [],
   "source": []
  },
  {
   "attachments": {},
   "cell_type": "markdown",
   "metadata": {},
   "source": [
    "### GAN RNN"
   ]
  },
  {
   "cell_type": "code",
   "execution_count": null,
   "metadata": {},
   "outputs": [],
   "source": []
  },
  {
   "attachments": {},
   "cell_type": "markdown",
   "metadata": {},
   "source": [
    "### Training"
   ]
  },
  {
   "cell_type": "code",
   "execution_count": null,
   "metadata": {},
   "outputs": [],
   "source": []
  },
  {
   "attachments": {},
   "cell_type": "markdown",
   "metadata": {},
   "source": [
    "----\n",
    "## Baseline Model"
   ]
  },
  {
   "cell_type": "code",
   "execution_count": null,
   "metadata": {},
   "outputs": [],
   "source": []
  },
  {
   "attachments": {},
   "cell_type": "markdown",
   "metadata": {},
   "source": [
    "----\n",
    "## Results and Comparison"
   ]
  },
  {
   "cell_type": "markdown",
   "metadata": {},
   "source": []
  }
 ],
 "metadata": {
  "kernelspec": {
   "display_name": "ailab",
   "language": "python",
   "name": "python3"
  },
  "language_info": {
   "codemirror_mode": {
    "name": "ipython",
    "version": 3
   },
   "file_extension": ".py",
   "mimetype": "text/x-python",
   "name": "python",
   "nbconvert_exporter": "python",
   "pygments_lexer": "ipython3",
   "version": "3.9.16"
  },
  "orig_nbformat": 4,
  "vscode": {
   "interpreter": {
    "hash": "8f6b67828bcf6e6b24b24226b27e29c318445726d2dd849532926bd41a61ff72"
   }
  }
 },
 "nbformat": 4,
 "nbformat_minor": 2
}
