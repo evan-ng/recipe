{
 "cells": [
  {
   "attachments": {},
   "cell_type": "markdown",
   "metadata": {},
   "source": [
    "# TasteBud: GAN Based Recipe Generation with Graph\n",
    "\n",
    "Introductory words about this project..."
   ]
  },
  {
   "attachments": {},
   "cell_type": "markdown",
   "metadata": {},
   "source": [
    "----\n",
    "## Data Processing\n",
    "\n",
    "Some words about source and process..."
   ]
  },
  {
   "cell_type": "code",
   "execution_count": 33,
   "metadata": {},
   "outputs": [],
   "source": [
    "import csv\n",
    "import numpy as mp\n",
    "import random\n",
    "import torch\n",
    "import torch.nn as nn\n",
    "import torch.nn.functional as F\n",
    "import torch.optim as optim\n",
    "import torch.utils.data\n",
    "import torchtext\n",
    "import pandas as pd\n",
    "import matplotlib.pyplot as plt\n",
    "import os.path\n",
    "import ast\n",
    "import glob"
   ]
  },
  {
   "attachments": {},
   "cell_type": "markdown",
   "metadata": {},
   "source": [
    "### Data Subsetting\n",
    "Since RecipeNGL contains 2.23 million recipes, select a subset to use:"
   ]
  },
  {
   "cell_type": "code",
   "execution_count": 101,
   "metadata": {},
   "outputs": [
    {
     "name": "stdout",
     "output_type": "stream",
     "text": [
      "./data/recipe_ngl\\dataset_0_100.csv\n"
     ]
    }
   ],
   "source": [
    "full_ngl_path = './data/recipe_ngl/full_dataset.csv'\n",
    "# if the full recipeNGL dataset csv file exists, read a subset of it\n",
    "if os.path.exists(full_ngl_path):\n",
    "    ngl_subset = [0, 100]\n",
    "    df = pd.read_csv(full_ngl_path, skiprows=ngl_subset[0], nrows=ngl_subset[1], index_col=0)\n",
    "    df.to_csv(f'./data/recipe_ngl/dataset_{ngl_subset[0]}_{ngl_subset[1]}.csv')\n",
    "\n",
    "for file in glob.glob('./data/recipe_ngl/dataset*.csv'):\n",
    "    print(file)\n",
    "    df = pd.read_csv(file, index_col=0, \n",
    "                     converters={'ingredients':pd.eval, 'directions':pd.eval, 'NER':pd.eval})"
   ]
  },
  {
   "cell_type": "code",
   "execution_count": 53,
   "metadata": {},
   "outputs": [
    {
     "data": {
      "text/html": [
       "<div>\n",
       "<style scoped>\n",
       "    .dataframe tbody tr th:only-of-type {\n",
       "        vertical-align: middle;\n",
       "    }\n",
       "\n",
       "    .dataframe tbody tr th {\n",
       "        vertical-align: top;\n",
       "    }\n",
       "\n",
       "    .dataframe thead th {\n",
       "        text-align: right;\n",
       "    }\n",
       "</style>\n",
       "<table border=\"1\" class=\"dataframe\">\n",
       "  <thead>\n",
       "    <tr style=\"text-align: right;\">\n",
       "      <th></th>\n",
       "      <th>title</th>\n",
       "      <th>ingredients</th>\n",
       "      <th>directions</th>\n",
       "      <th>link</th>\n",
       "      <th>source</th>\n",
       "      <th>NER</th>\n",
       "    </tr>\n",
       "  </thead>\n",
       "  <tbody>\n",
       "    <tr>\n",
       "      <th>0</th>\n",
       "      <td>No-Bake Nut Cookies</td>\n",
       "      <td>[1 c. firmly packed brown sugar, 1/2 c. evapor...</td>\n",
       "      <td>[In a heavy 2-quart saucepan, mix brown sugar,...</td>\n",
       "      <td>www.cookbooks.com/Recipe-Details.aspx?id=44874</td>\n",
       "      <td>Gathered</td>\n",
       "      <td>[brown sugar, milk, vanilla, nuts, butter, bit...</td>\n",
       "    </tr>\n",
       "    <tr>\n",
       "      <th>1</th>\n",
       "      <td>Jewell Ball'S Chicken</td>\n",
       "      <td>[1 small jar chipped beef, cut up, 4 boned chi...</td>\n",
       "      <td>[Place chipped beef on bottom of baking dish.,...</td>\n",
       "      <td>www.cookbooks.com/Recipe-Details.aspx?id=699419</td>\n",
       "      <td>Gathered</td>\n",
       "      <td>[beef, chicken breasts, cream of mushroom soup...</td>\n",
       "    </tr>\n",
       "    <tr>\n",
       "      <th>2</th>\n",
       "      <td>Creamy Corn</td>\n",
       "      <td>[2 (16 oz.) pkg. frozen corn, 1 (8 oz.) pkg. c...</td>\n",
       "      <td>[In a slow cooker, combine all ingredients. Co...</td>\n",
       "      <td>www.cookbooks.com/Recipe-Details.aspx?id=10570</td>\n",
       "      <td>Gathered</td>\n",
       "      <td>[frozen corn, cream cheese, butter, garlic pow...</td>\n",
       "    </tr>\n",
       "  </tbody>\n",
       "</table>\n",
       "</div>"
      ],
      "text/plain": [
       "                   title                                        ingredients  \\\n",
       "0    No-Bake Nut Cookies  [1 c. firmly packed brown sugar, 1/2 c. evapor...   \n",
       "1  Jewell Ball'S Chicken  [1 small jar chipped beef, cut up, 4 boned chi...   \n",
       "2            Creamy Corn  [2 (16 oz.) pkg. frozen corn, 1 (8 oz.) pkg. c...   \n",
       "\n",
       "                                          directions  \\\n",
       "0  [In a heavy 2-quart saucepan, mix brown sugar,...   \n",
       "1  [Place chipped beef on bottom of baking dish.,...   \n",
       "2  [In a slow cooker, combine all ingredients. Co...   \n",
       "\n",
       "                                              link    source  \\\n",
       "0   www.cookbooks.com/Recipe-Details.aspx?id=44874  Gathered   \n",
       "1  www.cookbooks.com/Recipe-Details.aspx?id=699419  Gathered   \n",
       "2   www.cookbooks.com/Recipe-Details.aspx?id=10570  Gathered   \n",
       "\n",
       "                                                 NER  \n",
       "0  [brown sugar, milk, vanilla, nuts, butter, bit...  \n",
       "1  [beef, chicken breasts, cream of mushroom soup...  \n",
       "2  [frozen corn, cream cheese, butter, garlic pow...  "
      ]
     },
     "execution_count": 53,
     "metadata": {},
     "output_type": "execute_result"
    }
   ],
   "source": [
    "df[:3]"
   ]
  },
  {
   "attachments": {},
   "cell_type": "markdown",
   "metadata": {},
   "source": [
    "### Create List of Ingredients"
   ]
  },
  {
   "cell_type": "code",
   "execution_count": 70,
   "metadata": {},
   "outputs": [
    {
     "name": "stdout",
     "output_type": "stream",
     "text": [
      "{'dark sweet pitted cherries', 'garlic salt', 'nutmeg', 'orange flavoring', 'red apples', 'Tomato', 'nut meats', 'whole cloves', 'ground white pepper', 'fruit cocktail', 'cocoa', 'apple', 'flavor gelatin', 'Mozzarella cheese', 'kidney beans', 'thin green onion strips', 'lemons', 'garlic', 'Crisco oil', 'cheese', 'orange', 'chicken cutlets', 'green beans', 'condensed milk', 'cream-style', 'bell peppers', 'pepper', 'carrot chunks', 'extra lean ground beef', 'mayonnaise', 'macaroni', 'sweet basil', 'corn tortilla', 'buttermilk', 'corn', 'chocolate fudge pudding', 'broccoli', 'bell pepper', 'chocolate fudge cake', 'green chili peppers', 'Italian tomatoes', 'orange juice', 'mushrooms', 'cheddar cheese', 'pie filling', 'rhubarb', 'shell', 'pear halves', 'jars Junior baby food', 'egg whites', 'cold water', 'oleo', 'lemon yogurt', 'mustard', 'crackers', 'yellow cake mix', 'onion', 'applesauce', 'chicken broth', 'black pepper', 'strawberry jello', 'Italian dressing', 'whipping cream', 'stuffing mix', 'clove garlic', 'white grapes', 'sweet milk', 'hearts', 'boiling water', 'cream of mushroom soup', 'cleaned strawberries', 'vegetable cooking spray', 'Velveeta', 'orange sliced candy', 'graham cracker crumbs', 'semi-sweet chocolate chips', 'olive oil', 'soda', 'peppers', 'vanilla pudding', 'multi-colored candies', 'watermelon rind', 'cranberries', 'cherries', 'frozen strawberries', 'oregano', 'onions', 'oats', 'warm water', 'graham cracker crusts', 'green pepper', 'marshmallows', 'water', 'butter beans', 'soy sauce', 'lime gelatin', 'eggs', 'powdered sugar', 'apricot jello', 'cinnamon', 'white cake', 'oil', 'apple juice', 'ground red pepper', 'potatoes', 'peppermint candy', 'barbecue sauce', 'dry mustard', 'cooking oil', 'ginger ale', 'baking soda', 'catsup', 'oranges', 'ground beef', 'pecans', 'sesame seed', 'corned beef', 'Ground Beef', 'celery', 'onion soup', 'white corn syrup', 'deluxe white cake mix', 'long', 'shredded lettuce', 'sugar', 'Italian seasoning', 'tomato paste', 'chocolate syrup', 'beef consomme', 'baking potatoes', 'sausage', 'hen', 'noodles', 'vegetable oil', 'chicken breasts', 'margarine', 'bacon', 'cream-style corn', 'crescent rolls', 'tomato soup', 'Wesson oil', 'Bisquick', 'vanilla wafers', 'fresh mushrooms', 'ground nuts', 'shortening', 'beef stock', 'purple grapes', 'frozen corn', 'flour', 'unsweetened chocolate', 'tomato juice', 'oil of cinnamon', 'tomato', 'confectioners sugar', 'coconut', 'vinegar', 'pimentos', 'Angel', 'ginger', 'moist coconut', 'salad oil', 'apples', 'chicken', 'cake mix', 'green onions', 'green onion', 'fresh strawberries', 'bread', 'Cheddar cheese', 'cornstarch', 'raisins', 'Frango', 'tomatoes', 'beans', 'cream cheese', 'rice', 'sour cream', 'chicken gravy', 'cranberry sauce', 'Parmesan cheese', 'black olives', 'butter', 'lemon juice', 'salsa', 'beer', 'granulated sugar', 'yellow apples', 'Velveeta cheese', 'beef', 'cabbage', 'taco seasoning', 'cream of chicken soup', 'green chili salsa sauce', 'squash', 'tuna', 'tortilla chips', 'Salad Supreme', 'egg', 'baking powder', 'taco sauce', 'steak', 'corn bread', 'yellow cake', 'pimento', 'bananas', 'corn flake crumbs', 'drops red pepper sauce', 'basil', 'vanilla', 'pineapple', 'shredded cheese', 'egg yolks', 'vegetable soup mix', 'curry powder', 'pork', 'brown sugar', 'Vidalia onion', 'flounder', 'garlic powder', 'consomme', 'almond extract', 'strawberry', 'yeast', 'peaches', 'yellow beans', 'peas', 'honey', 'cornflakes', 'bite size shredded rice biscuits', 'Worcestershire sauce', 'allspice', 'grated ginger', 'walnuts', 'paraffin', 'green peppers', 'frozen mixed vegetables', 'peanut butter', 'orange gelatin', 'Tabasco sauce', 'carrots', 'nuts', 'cloves', 'Spanish rice', 'ground black pepper', 'apple vinegar', 'green chilies', 'chocolate chips', 'cream of celery soup', 'whole kernel corn', 'tomato sauce', 'English peas', 'milk', 'salt', 'cherry pie mix', 'red vinegar'}\n"
     ]
    }
   ],
   "source": [
    "ingredients_set = set()\n",
    "for i in range(len(df[\"NER\"])):\n",
    "    ingredients_set = ingredients_set | set(df[\"NER\"][i])\n",
    "print(ingredients_set)"
   ]
  },
  {
   "cell_type": "code",
   "execution_count": 69,
   "metadata": {},
   "outputs": [
    {
     "data": {
      "text/plain": [
       "3152"
      ]
     },
     "execution_count": 69,
     "metadata": {},
     "output_type": "execute_result"
    }
   ],
   "source": [
    "cw = csv.writer(open(\"data/ingredients_list.csv\",'w'))\n",
    "cw.writerow(list(ingredients_set))"
   ]
  },
  {
   "attachments": {},
   "cell_type": "markdown",
   "metadata": {},
   "source": [
    "### Data Cleaning"
   ]
  },
  {
   "cell_type": "code",
   "execution_count": 90,
   "metadata": {},
   "outputs": [],
   "source": [
    "# filter for only \"Gathered\" sources, since those have more consistent format\n",
    "gathered_df = df[df.source == 'Gathered']\n",
    "# remove unnecessary columns\n",
    "filtered_df = gathered_df[['title', 'ingredients', 'directions', 'NER']]"
   ]
  },
  {
   "cell_type": "code",
   "execution_count": 91,
   "metadata": {},
   "outputs": [
    {
     "data": {
      "text/html": [
       "<div>\n",
       "<style scoped>\n",
       "    .dataframe tbody tr th:only-of-type {\n",
       "        vertical-align: middle;\n",
       "    }\n",
       "\n",
       "    .dataframe tbody tr th {\n",
       "        vertical-align: top;\n",
       "    }\n",
       "\n",
       "    .dataframe thead th {\n",
       "        text-align: right;\n",
       "    }\n",
       "</style>\n",
       "<table border=\"1\" class=\"dataframe\">\n",
       "  <thead>\n",
       "    <tr style=\"text-align: right;\">\n",
       "      <th></th>\n",
       "      <th>title</th>\n",
       "      <th>ingredients</th>\n",
       "      <th>directions</th>\n",
       "      <th>NER</th>\n",
       "    </tr>\n",
       "  </thead>\n",
       "  <tbody>\n",
       "    <tr>\n",
       "      <th>0</th>\n",
       "      <td>No-Bake Nut Cookies</td>\n",
       "      <td>[1 c. firmly packed brown sugar, 1/2 c. evapor...</td>\n",
       "      <td>[In a heavy 2-quart saucepan, mix brown sugar,...</td>\n",
       "      <td>[brown sugar, milk, vanilla, nuts, butter, bit...</td>\n",
       "    </tr>\n",
       "    <tr>\n",
       "      <th>1</th>\n",
       "      <td>Jewell Ball'S Chicken</td>\n",
       "      <td>[1 small jar chipped beef, cut up, 4 boned chi...</td>\n",
       "      <td>[Place chipped beef on bottom of baking dish.,...</td>\n",
       "      <td>[beef, chicken breasts, cream of mushroom soup...</td>\n",
       "    </tr>\n",
       "    <tr>\n",
       "      <th>2</th>\n",
       "      <td>Creamy Corn</td>\n",
       "      <td>[2 (16 oz.) pkg. frozen corn, 1 (8 oz.) pkg. c...</td>\n",
       "      <td>[In a slow cooker, combine all ingredients. Co...</td>\n",
       "      <td>[frozen corn, cream cheese, butter, garlic pow...</td>\n",
       "    </tr>\n",
       "    <tr>\n",
       "      <th>3</th>\n",
       "      <td>Chicken Funny</td>\n",
       "      <td>[1 large whole chicken, 2 (10 1/2 oz.) cans ch...</td>\n",
       "      <td>[Boil and debone chicken., Put bite size piece...</td>\n",
       "      <td>[chicken, chicken gravy, cream of mushroom sou...</td>\n",
       "    </tr>\n",
       "    <tr>\n",
       "      <th>4</th>\n",
       "      <td>Reeses Cups(Candy)</td>\n",
       "      <td>[1 c. peanut butter, 3/4 c. graham cracker cru...</td>\n",
       "      <td>[Combine first four ingredients and press in 1...</td>\n",
       "      <td>[peanut butter, graham cracker crumbs, butter,...</td>\n",
       "    </tr>\n",
       "    <tr>\n",
       "      <th>5</th>\n",
       "      <td>Cheeseburger Potato Soup</td>\n",
       "      <td>[6 baking potatoes, 1 lb. of extra lean ground...</td>\n",
       "      <td>[Wash potatoes; prick several times with a for...</td>\n",
       "      <td>[baking potatoes, extra lean ground beef, butt...</td>\n",
       "    </tr>\n",
       "    <tr>\n",
       "      <th>6</th>\n",
       "      <td>Rhubarb Coffee Cake</td>\n",
       "      <td>[1 1/2 c. sugar, 1/2 c. butter, 1 egg, 1 c. bu...</td>\n",
       "      <td>[Cream sugar and butter., Add egg and beat wel...</td>\n",
       "      <td>[sugar, butter, egg, buttermilk, flour, salt, ...</td>\n",
       "    </tr>\n",
       "  </tbody>\n",
       "</table>\n",
       "</div>"
      ],
      "text/plain": [
       "                      title  \\\n",
       "0       No-Bake Nut Cookies   \n",
       "1     Jewell Ball'S Chicken   \n",
       "2               Creamy Corn   \n",
       "3             Chicken Funny   \n",
       "4      Reeses Cups(Candy)     \n",
       "5  Cheeseburger Potato Soup   \n",
       "6       Rhubarb Coffee Cake   \n",
       "\n",
       "                                         ingredients  \\\n",
       "0  [1 c. firmly packed brown sugar, 1/2 c. evapor...   \n",
       "1  [1 small jar chipped beef, cut up, 4 boned chi...   \n",
       "2  [2 (16 oz.) pkg. frozen corn, 1 (8 oz.) pkg. c...   \n",
       "3  [1 large whole chicken, 2 (10 1/2 oz.) cans ch...   \n",
       "4  [1 c. peanut butter, 3/4 c. graham cracker cru...   \n",
       "5  [6 baking potatoes, 1 lb. of extra lean ground...   \n",
       "6  [1 1/2 c. sugar, 1/2 c. butter, 1 egg, 1 c. bu...   \n",
       "\n",
       "                                          directions  \\\n",
       "0  [In a heavy 2-quart saucepan, mix brown sugar,...   \n",
       "1  [Place chipped beef on bottom of baking dish.,...   \n",
       "2  [In a slow cooker, combine all ingredients. Co...   \n",
       "3  [Boil and debone chicken., Put bite size piece...   \n",
       "4  [Combine first four ingredients and press in 1...   \n",
       "5  [Wash potatoes; prick several times with a for...   \n",
       "6  [Cream sugar and butter., Add egg and beat wel...   \n",
       "\n",
       "                                                 NER  \n",
       "0  [brown sugar, milk, vanilla, nuts, butter, bit...  \n",
       "1  [beef, chicken breasts, cream of mushroom soup...  \n",
       "2  [frozen corn, cream cheese, butter, garlic pow...  \n",
       "3  [chicken, chicken gravy, cream of mushroom sou...  \n",
       "4  [peanut butter, graham cracker crumbs, butter,...  \n",
       "5  [baking potatoes, extra lean ground beef, butt...  \n",
       "6  [sugar, butter, egg, buttermilk, flour, salt, ...  "
      ]
     },
     "execution_count": 91,
     "metadata": {},
     "output_type": "execute_result"
    }
   ],
   "source": [
    "filtered_df[:7]"
   ]
  },
  {
   "attachments": {},
   "cell_type": "markdown",
   "metadata": {},
   "source": [
    "### Data Tokenizing"
   ]
  },
  {
   "cell_type": "code",
   "execution_count": 124,
   "metadata": {},
   "outputs": [
    {
     "name": "stdout",
     "output_type": "stream",
     "text": [
      "['No-Bake', 'Nut', 'Cookies']\n",
      "[['1', 'c.', 'firmly', 'packed', 'brown', 'sugar'], ['1/2', 'c.', 'evaporated', 'milk'], ['1/2', 'tsp.', 'vanilla'], ['1/2', 'c.', 'broken', 'nuts', '(pecans)'], ['2', 'Tbsp.', 'butter', 'or', 'margarine'], ['3', '1/2', 'c.', 'bite', 'size', 'shredded', 'rice', 'biscuits']]\n",
      "[['In', 'a', 'heavy', '2-quart', 'saucepan,', 'mix', 'brown', 'sugar,', 'nuts,', 'evaporated', 'milk', 'and', 'butter', 'or', 'margarine.'], ['Stir', 'over', 'medium', 'heat', 'until', 'mixture', 'bubbles', 'all', 'over', 'top.'], ['Boil', 'and', 'stir', '5', 'minutes', 'more.', 'Take', 'off', 'heat.'], ['Stir', 'in', 'vanilla', 'and', 'cereal;', 'mix', 'well.'], ['Using', '2', 'teaspoons,', 'drop', 'and', 'shape', 'into', '30', 'clusters', 'on', 'wax', 'paper.'], ['Let', 'stand', 'until', 'firm,', 'about', '30', 'minutes.']]\n",
      "[['brown', 'sugar'], ['milk'], ['vanilla'], ['nuts'], ['butter'], ['bite', 'size', 'shredded', 'rice', 'biscuits']]\n"
     ]
    }
   ],
   "source": [
    "tokenized_titles = []\n",
    "tokenized_ingredients = []\n",
    "tokenized_directions = []\n",
    "tokenized_NER = []\n",
    "\n",
    "for i, row in filtered_df.iterrows():\n",
    "    # tokenize titles\n",
    "    tokens_list = filtered_df.title.values[i].split(' ')\n",
    "    tokenized_titles.append(tokens_list)\n",
    "    \n",
    "    # tokenize ingredients\n",
    "    tokens_list = []\n",
    "    for ingredient_item in row.ingredients:\n",
    "        tokens_list.append(ingredient_item.split(' '))\n",
    "    tokenized_ingredients.append(tokens_list)\n",
    "    \n",
    "    # tokenize directions\n",
    "    tokens_list = []\n",
    "    for direction_item in row.directions:\n",
    "        tokens_list.append(direction_item.split(' '))\n",
    "    tokenized_directions.append(tokens_list)\n",
    "    \n",
    "    # tokenize ingredients\n",
    "    tokens_list = []\n",
    "    for NER_item in row.NER:\n",
    "        tokens_list.append(NER_item.split(' '))\n",
    "    tokenized_NER.append(tokens_list)\n",
    "\n",
    "print(tokenized_titles[0])\n",
    "print(tokenized_ingredients[0])\n",
    "print(tokenized_directions[0])\n",
    "print(tokenized_NER[0])"
   ]
  },
  {
   "cell_type": "code",
   "execution_count": 125,
   "metadata": {},
   "outputs": [],
   "source": [
    "tokenized_df = filtered_df.copy()\n",
    "tokenized_df['token_title'] = tokenized_titles\n",
    "tokenized_df['token_ingredients'] = tokenized_ingredients\n",
    "tokenized_df['token_directions'] = tokenized_directions\n",
    "tokenized_df['token_NER'] = tokenized_NER"
   ]
  },
  {
   "cell_type": "code",
   "execution_count": 126,
   "metadata": {},
   "outputs": [
    {
     "data": {
      "text/html": [
       "<div>\n",
       "<style scoped>\n",
       "    .dataframe tbody tr th:only-of-type {\n",
       "        vertical-align: middle;\n",
       "    }\n",
       "\n",
       "    .dataframe tbody tr th {\n",
       "        vertical-align: top;\n",
       "    }\n",
       "\n",
       "    .dataframe thead th {\n",
       "        text-align: right;\n",
       "    }\n",
       "</style>\n",
       "<table border=\"1\" class=\"dataframe\">\n",
       "  <thead>\n",
       "    <tr style=\"text-align: right;\">\n",
       "      <th></th>\n",
       "      <th>title</th>\n",
       "      <th>ingredients</th>\n",
       "      <th>directions</th>\n",
       "      <th>NER</th>\n",
       "      <th>token_title</th>\n",
       "      <th>token_ingredients</th>\n",
       "      <th>token_directions</th>\n",
       "      <th>token_NER</th>\n",
       "    </tr>\n",
       "  </thead>\n",
       "  <tbody>\n",
       "    <tr>\n",
       "      <th>0</th>\n",
       "      <td>No-Bake Nut Cookies</td>\n",
       "      <td>[1 c. firmly packed brown sugar, 1/2 c. evapor...</td>\n",
       "      <td>[In a heavy 2-quart saucepan, mix brown sugar,...</td>\n",
       "      <td>[brown sugar, milk, vanilla, nuts, butter, bit...</td>\n",
       "      <td>[No-Bake, Nut, Cookies]</td>\n",
       "      <td>[[1, c., firmly, packed, brown, sugar], [1/2, ...</td>\n",
       "      <td>[[In, a, heavy, 2-quart, saucepan,, mix, brown...</td>\n",
       "      <td>[[brown, sugar], [milk], [vanilla], [nuts], [b...</td>\n",
       "    </tr>\n",
       "    <tr>\n",
       "      <th>1</th>\n",
       "      <td>Jewell Ball'S Chicken</td>\n",
       "      <td>[1 small jar chipped beef, cut up, 4 boned chi...</td>\n",
       "      <td>[Place chipped beef on bottom of baking dish.,...</td>\n",
       "      <td>[beef, chicken breasts, cream of mushroom soup...</td>\n",
       "      <td>[Jewell, Ball'S, Chicken]</td>\n",
       "      <td>[[1, small, jar, chipped, beef,, cut, up], [4,...</td>\n",
       "      <td>[[Place, chipped, beef, on, bottom, of, baking...</td>\n",
       "      <td>[[beef], [chicken, breasts], [cream, of, mushr...</td>\n",
       "    </tr>\n",
       "    <tr>\n",
       "      <th>2</th>\n",
       "      <td>Creamy Corn</td>\n",
       "      <td>[2 (16 oz.) pkg. frozen corn, 1 (8 oz.) pkg. c...</td>\n",
       "      <td>[In a slow cooker, combine all ingredients. Co...</td>\n",
       "      <td>[frozen corn, cream cheese, butter, garlic pow...</td>\n",
       "      <td>[Creamy, Corn]</td>\n",
       "      <td>[[2, (16, oz.), pkg., frozen, corn], [1, (8, o...</td>\n",
       "      <td>[[In, a, slow, cooker,, combine, all, ingredie...</td>\n",
       "      <td>[[frozen, corn], [cream, cheese], [butter], [g...</td>\n",
       "    </tr>\n",
       "    <tr>\n",
       "      <th>3</th>\n",
       "      <td>Chicken Funny</td>\n",
       "      <td>[1 large whole chicken, 2 (10 1/2 oz.) cans ch...</td>\n",
       "      <td>[Boil and debone chicken., Put bite size piece...</td>\n",
       "      <td>[chicken, chicken gravy, cream of mushroom sou...</td>\n",
       "      <td>[Chicken, Funny]</td>\n",
       "      <td>[[1, large, whole, chicken], [2, (10, 1/2, oz....</td>\n",
       "      <td>[[Boil, and, debone, chicken.], [Put, bite, si...</td>\n",
       "      <td>[[chicken], [chicken, gravy], [cream, of, mush...</td>\n",
       "    </tr>\n",
       "    <tr>\n",
       "      <th>4</th>\n",
       "      <td>Reeses Cups(Candy)</td>\n",
       "      <td>[1 c. peanut butter, 3/4 c. graham cracker cru...</td>\n",
       "      <td>[Combine first four ingredients and press in 1...</td>\n",
       "      <td>[peanut butter, graham cracker crumbs, butter,...</td>\n",
       "      <td>[Reeses, Cups(Candy), , ]</td>\n",
       "      <td>[[1, c., peanut, butter], [3/4, c., graham, cr...</td>\n",
       "      <td>[[Combine, first, four, ingredients, and, pres...</td>\n",
       "      <td>[[peanut, butter], [graham, cracker, crumbs], ...</td>\n",
       "    </tr>\n",
       "    <tr>\n",
       "      <th>5</th>\n",
       "      <td>Cheeseburger Potato Soup</td>\n",
       "      <td>[6 baking potatoes, 1 lb. of extra lean ground...</td>\n",
       "      <td>[Wash potatoes; prick several times with a for...</td>\n",
       "      <td>[baking potatoes, extra lean ground beef, butt...</td>\n",
       "      <td>[Cheeseburger, Potato, Soup]</td>\n",
       "      <td>[[6, baking, potatoes], [1, lb., of, extra, le...</td>\n",
       "      <td>[[Wash, potatoes;, prick, several, times, with...</td>\n",
       "      <td>[[baking, potatoes], [extra, lean, ground, bee...</td>\n",
       "    </tr>\n",
       "    <tr>\n",
       "      <th>6</th>\n",
       "      <td>Rhubarb Coffee Cake</td>\n",
       "      <td>[1 1/2 c. sugar, 1/2 c. butter, 1 egg, 1 c. bu...</td>\n",
       "      <td>[Cream sugar and butter., Add egg and beat wel...</td>\n",
       "      <td>[sugar, butter, egg, buttermilk, flour, salt, ...</td>\n",
       "      <td>[Rhubarb, Coffee, Cake]</td>\n",
       "      <td>[[1, 1/2, c., sugar], [1/2, c., butter], [1, e...</td>\n",
       "      <td>[[Cream, sugar, and, butter.], [Add, egg, and,...</td>\n",
       "      <td>[[sugar], [butter], [egg], [buttermilk], [flou...</td>\n",
       "    </tr>\n",
       "  </tbody>\n",
       "</table>\n",
       "</div>"
      ],
      "text/plain": [
       "                      title  \\\n",
       "0       No-Bake Nut Cookies   \n",
       "1     Jewell Ball'S Chicken   \n",
       "2               Creamy Corn   \n",
       "3             Chicken Funny   \n",
       "4      Reeses Cups(Candy)     \n",
       "5  Cheeseburger Potato Soup   \n",
       "6       Rhubarb Coffee Cake   \n",
       "\n",
       "                                         ingredients  \\\n",
       "0  [1 c. firmly packed brown sugar, 1/2 c. evapor...   \n",
       "1  [1 small jar chipped beef, cut up, 4 boned chi...   \n",
       "2  [2 (16 oz.) pkg. frozen corn, 1 (8 oz.) pkg. c...   \n",
       "3  [1 large whole chicken, 2 (10 1/2 oz.) cans ch...   \n",
       "4  [1 c. peanut butter, 3/4 c. graham cracker cru...   \n",
       "5  [6 baking potatoes, 1 lb. of extra lean ground...   \n",
       "6  [1 1/2 c. sugar, 1/2 c. butter, 1 egg, 1 c. bu...   \n",
       "\n",
       "                                          directions  \\\n",
       "0  [In a heavy 2-quart saucepan, mix brown sugar,...   \n",
       "1  [Place chipped beef on bottom of baking dish.,...   \n",
       "2  [In a slow cooker, combine all ingredients. Co...   \n",
       "3  [Boil and debone chicken., Put bite size piece...   \n",
       "4  [Combine first four ingredients and press in 1...   \n",
       "5  [Wash potatoes; prick several times with a for...   \n",
       "6  [Cream sugar and butter., Add egg and beat wel...   \n",
       "\n",
       "                                                 NER  \\\n",
       "0  [brown sugar, milk, vanilla, nuts, butter, bit...   \n",
       "1  [beef, chicken breasts, cream of mushroom soup...   \n",
       "2  [frozen corn, cream cheese, butter, garlic pow...   \n",
       "3  [chicken, chicken gravy, cream of mushroom sou...   \n",
       "4  [peanut butter, graham cracker crumbs, butter,...   \n",
       "5  [baking potatoes, extra lean ground beef, butt...   \n",
       "6  [sugar, butter, egg, buttermilk, flour, salt, ...   \n",
       "\n",
       "                    token_title  \\\n",
       "0       [No-Bake, Nut, Cookies]   \n",
       "1     [Jewell, Ball'S, Chicken]   \n",
       "2                [Creamy, Corn]   \n",
       "3              [Chicken, Funny]   \n",
       "4     [Reeses, Cups(Candy), , ]   \n",
       "5  [Cheeseburger, Potato, Soup]   \n",
       "6       [Rhubarb, Coffee, Cake]   \n",
       "\n",
       "                                   token_ingredients  \\\n",
       "0  [[1, c., firmly, packed, brown, sugar], [1/2, ...   \n",
       "1  [[1, small, jar, chipped, beef,, cut, up], [4,...   \n",
       "2  [[2, (16, oz.), pkg., frozen, corn], [1, (8, o...   \n",
       "3  [[1, large, whole, chicken], [2, (10, 1/2, oz....   \n",
       "4  [[1, c., peanut, butter], [3/4, c., graham, cr...   \n",
       "5  [[6, baking, potatoes], [1, lb., of, extra, le...   \n",
       "6  [[1, 1/2, c., sugar], [1/2, c., butter], [1, e...   \n",
       "\n",
       "                                    token_directions  \\\n",
       "0  [[In, a, heavy, 2-quart, saucepan,, mix, brown...   \n",
       "1  [[Place, chipped, beef, on, bottom, of, baking...   \n",
       "2  [[In, a, slow, cooker,, combine, all, ingredie...   \n",
       "3  [[Boil, and, debone, chicken.], [Put, bite, si...   \n",
       "4  [[Combine, first, four, ingredients, and, pres...   \n",
       "5  [[Wash, potatoes;, prick, several, times, with...   \n",
       "6  [[Cream, sugar, and, butter.], [Add, egg, and,...   \n",
       "\n",
       "                                           token_NER  \n",
       "0  [[brown, sugar], [milk], [vanilla], [nuts], [b...  \n",
       "1  [[beef], [chicken, breasts], [cream, of, mushr...  \n",
       "2  [[frozen, corn], [cream, cheese], [butter], [g...  \n",
       "3  [[chicken], [chicken, gravy], [cream, of, mush...  \n",
       "4  [[peanut, butter], [graham, cracker, crumbs], ...  \n",
       "5  [[baking, potatoes], [extra, lean, ground, bee...  \n",
       "6  [[sugar], [butter], [egg], [buttermilk], [flou...  "
      ]
     },
     "execution_count": 126,
     "metadata": {},
     "output_type": "execute_result"
    }
   ],
   "source": [
    "tokenized_df[:7]"
   ]
  },
  {
   "attachments": {},
   "cell_type": "markdown",
   "metadata": {},
   "source": [
    "### Ingredient Graph"
   ]
  },
  {
   "cell_type": "code",
   "execution_count": null,
   "metadata": {},
   "outputs": [],
   "source": []
  },
  {
   "attachments": {},
   "cell_type": "markdown",
   "metadata": {},
   "source": [
    "----\n",
    "## Primary Model"
   ]
  },
  {
   "attachments": {},
   "cell_type": "markdown",
   "metadata": {},
   "source": [
    "### Ingredient Selector"
   ]
  },
  {
   "cell_type": "code",
   "execution_count": null,
   "metadata": {},
   "outputs": [],
   "source": []
  },
  {
   "attachments": {},
   "cell_type": "markdown",
   "metadata": {},
   "source": [
    "### GAN RNN"
   ]
  },
  {
   "cell_type": "code",
   "execution_count": null,
   "metadata": {},
   "outputs": [],
   "source": []
  },
  {
   "attachments": {},
   "cell_type": "markdown",
   "metadata": {},
   "source": [
    "### Training"
   ]
  },
  {
   "cell_type": "code",
   "execution_count": null,
   "metadata": {},
   "outputs": [],
   "source": []
  },
  {
   "attachments": {},
   "cell_type": "markdown",
   "metadata": {},
   "source": [
    "----\n",
    "## Baseline Model"
   ]
  },
  {
   "cell_type": "code",
   "execution_count": null,
   "metadata": {},
   "outputs": [],
   "source": []
  },
  {
   "attachments": {},
   "cell_type": "markdown",
   "metadata": {},
   "source": [
    "----\n",
    "## Results and Comparison"
   ]
  },
  {
   "cell_type": "markdown",
   "metadata": {},
   "source": []
  }
 ],
 "metadata": {
  "kernelspec": {
   "display_name": "ailab",
   "language": "python",
   "name": "python3"
  },
  "language_info": {
   "codemirror_mode": {
    "name": "ipython",
    "version": 3
   },
   "file_extension": ".py",
   "mimetype": "text/x-python",
   "name": "python",
   "nbconvert_exporter": "python",
   "pygments_lexer": "ipython3",
   "version": "3.9.16"
  },
  "orig_nbformat": 4,
  "vscode": {
   "interpreter": {
    "hash": "8f6b67828bcf6e6b24b24226b27e29c318445726d2dd849532926bd41a61ff72"
   }
  }
 },
 "nbformat": 4,
 "nbformat_minor": 2
}
